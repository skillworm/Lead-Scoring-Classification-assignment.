{
 "cells": [
  {
   "cell_type": "markdown",
   "id": "seventh-matter",
   "metadata": {},
   "source": [
    "## Problem Statement :\n",
    "\n",
    "An education company named X Education sells online courses to industry professionals. On any given day, many professionals who are interested in the courses land on their website and browse for courses. \n",
    "\n",
    "The company markets its courses on several websites and search engines like Google. Once these people land on the website, they might browse the courses or fill up a form for the course or watch some videos. When these people fill up a form providing their email address or phone number, they are classified to be a lead. Moreover, the company also gets leads through past referrals. Once these leads are acquired, employees from the sales team start making calls, writing emails, etc. Through this process, some of the leads get converted while most do not. The typical lead conversion rate at X education is around 30%.  \n",
    "\n",
    "Now, although X Education gets a lot of leads, its lead conversion rate is very poor. For example, if, say, they acquire 100 leads in a day, only about 30 of them are converted. To make this process more efficient, the company wishes to identify the most potential leads, also known as ‘Hot Leads’. If they successfully identify this set of leads, the lead conversion rate should go up as the sales team will now be focusing more on communicating with the potential leads rather than making calls to everyone."
   ]
  },
  {
   "cell_type": "markdown",
   "id": "fresh-fleece",
   "metadata": {},
   "source": [
    "## Business Goal :\n",
    "     \n",
    "X Education want to develop a model to select the most promising leads, i.e. the leads that are most likely to convert into paying customers. The company requires you to build a model wherein you need to assign a lead score to each of the leads such that the customers with higher lead score have a higher conversion chance and the customers with lower lead score have a lower conversion chance. The CEO, in particular, has given a ballpark of the target lead conversion rate to be around 80%. <br><br>\n",
    "\n",
    "### Goal of the Case Study is :\n",
    "\n",
    "Build a logistic regression model to assign a lead score between 0 and 100 to each of the leads which can be used by the company to target potential leads. A higher score would mean that the lead is hot, i.e. is most likely to convert whereas a lower score would mean that the lead is cold and will mostly not get converted.\n",
    "\n",
    "There are some more problems presented by the company which your model should be able to adjust to if the company's requirement changes in the future so you will need to handle these as well. These problems are provided in a separate doc file. Please fill it based on the logistic regression model you got in the first step. Also, make sure you include this in your final PPT where you'll make recommendations.\n"
   ]
  },
  {
   "cell_type": "markdown",
   "id": "dominican-regard",
   "metadata": {},
   "source": [
    "### Importing Libraries"
   ]
  },
  {
   "cell_type": "code",
   "execution_count": 1,
   "id": "threaded-messaging",
   "metadata": {},
   "outputs": [],
   "source": [
    "# reading and manipulating data\n",
    "import pandas as pd                                 \n",
    "\n",
    "# Numerical calculations\n",
    "import numpy as np\n",
    "\n",
    "# Plotting libraries\n",
    "import matplotlib.pyplot as plt\n",
    "%matplotlib inline\n",
    "import seaborn as sns\n",
    "\n",
    "# Modelling libraries\n",
    "from sklearn.feature_selection import RFE\n",
    "from sklearn.linear_model import LogisticRegression\n",
    "import statsmodels.api as sm\n",
    "\n",
    "# Preprocessing and metrics\n",
    "from sklearn.preprocessing import StandardScaler\n",
    "from sklearn.model_selection import train_test_split\n",
    "from sklearn import metrics\n",
    "from sklearn.metrics import precision_score, recall_score, f1_score, classification_report, precision_recall_curve\n",
    "\n",
    "from statsmodels.stats.outliers_influence import variance_inflation_factor\n",
    "\n",
    "# ignore unnecessaru warnings\n",
    "import warnings\n",
    "warnings.filterwarnings('ignore')"
   ]
  },
  {
   "cell_type": "code",
   "execution_count": 2,
   "id": "least-executive",
   "metadata": {},
   "outputs": [
    {
     "data": {
      "text/html": [
       "<div>\n",
       "<style scoped>\n",
       "    .dataframe tbody tr th:only-of-type {\n",
       "        vertical-align: middle;\n",
       "    }\n",
       "\n",
       "    .dataframe tbody tr th {\n",
       "        vertical-align: top;\n",
       "    }\n",
       "\n",
       "    .dataframe thead th {\n",
       "        text-align: right;\n",
       "    }\n",
       "</style>\n",
       "<table border=\"1\" class=\"dataframe\">\n",
       "  <thead>\n",
       "    <tr style=\"text-align: right;\">\n",
       "      <th></th>\n",
       "      <th>Description</th>\n",
       "    </tr>\n",
       "    <tr>\n",
       "      <th>Variables</th>\n",
       "      <th></th>\n",
       "    </tr>\n",
       "  </thead>\n",
       "  <tbody>\n",
       "    <tr>\n",
       "      <th>Prospect ID</th>\n",
       "      <td>A unique ID with which the customer is identified.</td>\n",
       "    </tr>\n",
       "    <tr>\n",
       "      <th>Lead Number</th>\n",
       "      <td>A lead number assigned to each lead procured.</td>\n",
       "    </tr>\n",
       "    <tr>\n",
       "      <th>Lead Origin</th>\n",
       "      <td>The origin identifier with which the customer was identified to be a lead. Includes API, Landing Page Submission, etc.</td>\n",
       "    </tr>\n",
       "    <tr>\n",
       "      <th>Lead Source</th>\n",
       "      <td>The source of the lead. Includes Google, Organic Search, Olark Chat, etc.</td>\n",
       "    </tr>\n",
       "    <tr>\n",
       "      <th>Do Not Email</th>\n",
       "      <td>An indicator variable selected by the customer wherein they select whether of not they want to be emailed about the course or not.</td>\n",
       "    </tr>\n",
       "    <tr>\n",
       "      <th>Do Not Call</th>\n",
       "      <td>An indicator variable selected by the customer wherein they select whether of not they want to be called about the course or not.</td>\n",
       "    </tr>\n",
       "    <tr>\n",
       "      <th>Converted</th>\n",
       "      <td>The target variable. Indicates whether a lead has been successfully converted or not.</td>\n",
       "    </tr>\n",
       "    <tr>\n",
       "      <th>TotalVisits</th>\n",
       "      <td>The total number of visits made by the customer on the website.</td>\n",
       "    </tr>\n",
       "    <tr>\n",
       "      <th>Total Time Spent on Website</th>\n",
       "      <td>The total time spent by the customer on the website.</td>\n",
       "    </tr>\n",
       "    <tr>\n",
       "      <th>Page Views Per Visit</th>\n",
       "      <td>Average number of pages on the website viewed during the visits.</td>\n",
       "    </tr>\n",
       "    <tr>\n",
       "      <th>Last Activity</th>\n",
       "      <td>Last activity performed by the customer. Includes Email Opened, Olark Chat Conversation, etc.</td>\n",
       "    </tr>\n",
       "    <tr>\n",
       "      <th>Country</th>\n",
       "      <td>The country of the customer.</td>\n",
       "    </tr>\n",
       "    <tr>\n",
       "      <th>Specialization</th>\n",
       "      <td>The industry domain in which the customer worked before. Includes the level 'Select Specialization' which means the customer had not selected this option while filling the form.</td>\n",
       "    </tr>\n",
       "    <tr>\n",
       "      <th>How did you hear about X Education</th>\n",
       "      <td>The source from which the customer heard about X Education.</td>\n",
       "    </tr>\n",
       "    <tr>\n",
       "      <th>What is your current occupation</th>\n",
       "      <td>Indicates whether the customer is a student, umemployed or employed.</td>\n",
       "    </tr>\n",
       "    <tr>\n",
       "      <th>What matters most to you in choosing this course</th>\n",
       "      <td>An option selected by the customer indicating what is their main motto behind doing this course.</td>\n",
       "    </tr>\n",
       "    <tr>\n",
       "      <th>Search</th>\n",
       "      <td>Indicating whether the customer had seen the ad in any of the listed items.</td>\n",
       "    </tr>\n",
       "    <tr>\n",
       "      <th>Magazine</th>\n",
       "      <td>NaN</td>\n",
       "    </tr>\n",
       "    <tr>\n",
       "      <th>Newspaper Article</th>\n",
       "      <td>NaN</td>\n",
       "    </tr>\n",
       "    <tr>\n",
       "      <th>X Education Forums</th>\n",
       "      <td>NaN</td>\n",
       "    </tr>\n",
       "    <tr>\n",
       "      <th>Newspaper</th>\n",
       "      <td>NaN</td>\n",
       "    </tr>\n",
       "    <tr>\n",
       "      <th>Digital Advertisement</th>\n",
       "      <td>NaN</td>\n",
       "    </tr>\n",
       "    <tr>\n",
       "      <th>Through Recommendations</th>\n",
       "      <td>Indicates whether the customer came in through recommendations.</td>\n",
       "    </tr>\n",
       "    <tr>\n",
       "      <th>Receive More Updates About Our Courses</th>\n",
       "      <td>Indicates whether the customer chose to receive more updates about the courses.</td>\n",
       "    </tr>\n",
       "    <tr>\n",
       "      <th>Tags</th>\n",
       "      <td>Tags assigned to customers indicating the current status of the lead.</td>\n",
       "    </tr>\n",
       "    <tr>\n",
       "      <th>Lead Quality</th>\n",
       "      <td>Indicates the quality of lead based on the data and intuition the the employee who has been assigned to the lead.</td>\n",
       "    </tr>\n",
       "    <tr>\n",
       "      <th>Update me on Supply Chain Content</th>\n",
       "      <td>Indicates whether the customer wants updates on the Supply Chain Content.</td>\n",
       "    </tr>\n",
       "    <tr>\n",
       "      <th>Get updates on DM Content</th>\n",
       "      <td>Indicates whether the customer wants updates on the DM Content.</td>\n",
       "    </tr>\n",
       "    <tr>\n",
       "      <th>Lead Profile</th>\n",
       "      <td>A lead level assigned to each customer based on their profile.</td>\n",
       "    </tr>\n",
       "    <tr>\n",
       "      <th>City</th>\n",
       "      <td>The city of the customer.</td>\n",
       "    </tr>\n",
       "    <tr>\n",
       "      <th>Asymmetrique Activity Index</th>\n",
       "      <td>An index and score assigned to each customer based on their activity and their profile</td>\n",
       "    </tr>\n",
       "    <tr>\n",
       "      <th>Asymmetrique Profile Index</th>\n",
       "      <td>NaN</td>\n",
       "    </tr>\n",
       "    <tr>\n",
       "      <th>Asymmetrique Activity Score</th>\n",
       "      <td>NaN</td>\n",
       "    </tr>\n",
       "    <tr>\n",
       "      <th>Asymmetrique Profile Score</th>\n",
       "      <td>NaN</td>\n",
       "    </tr>\n",
       "    <tr>\n",
       "      <th>I agree to pay the amount through cheque</th>\n",
       "      <td>Indicates whether the customer has agreed to pay the amount through cheque or not.</td>\n",
       "    </tr>\n",
       "    <tr>\n",
       "      <th>a free copy of Mastering The Interview</th>\n",
       "      <td>Indicates whether the customer wants a free copy of 'Mastering the Interview' or not.</td>\n",
       "    </tr>\n",
       "    <tr>\n",
       "      <th>Last Notable Activity</th>\n",
       "      <td>The last notable acitivity performed by the student.</td>\n",
       "    </tr>\n",
       "  </tbody>\n",
       "</table>\n",
       "</div>"
      ],
      "text/plain": [
       "                                                                                                                                                                                                                        Description\n",
       "Variables                                                                                                                                                                                                                          \n",
       "Prospect ID                                                                                                                                                                      A unique ID with which the customer is identified.\n",
       "Lead Number                                                                                                                                                                           A lead number assigned to each lead procured.\n",
       "Lead Origin                                                                                                  The origin identifier with which the customer was identified to be a lead. Includes API, Landing Page Submission, etc.\n",
       "Lead Source                                                                                                                                               The source of the lead. Includes Google, Organic Search, Olark Chat, etc.\n",
       "Do Not Email                                                                                     An indicator variable selected by the customer wherein they select whether of not they want to be emailed about the course or not.\n",
       "Do Not Call                                                                                       An indicator variable selected by the customer wherein they select whether of not they want to be called about the course or not.\n",
       "Converted                                                                                                                                     The target variable. Indicates whether a lead has been successfully converted or not.\n",
       "TotalVisits                                                                                                                                                         The total number of visits made by the customer on the website.\n",
       "Total Time Spent on Website                                                                                                                                                    The total time spent by the customer on the website.\n",
       "Page Views Per Visit                                                                                                                                               Average number of pages on the website viewed during the visits.\n",
       "Last Activity                                                                                                                         Last activity performed by the customer. Includes Email Opened, Olark Chat Conversation, etc.\n",
       "Country                                                                                                                                                                                                The country of the customer.\n",
       "Specialization                                    The industry domain in which the customer worked before. Includes the level 'Select Specialization' which means the customer had not selected this option while filling the form.\n",
       "How did you hear about X Education                                                                                                                                      The source from which the customer heard about X Education.\n",
       "What is your current occupation                                                                                                                                Indicates whether the customer is a student, umemployed or employed.\n",
       "What matters most to you in choosing this course                                                                                   An option selected by the customer indicating what is their main motto behind doing this course.\n",
       "Search                                                                                                                                                  Indicating whether the customer had seen the ad in any of the listed items.\n",
       "Magazine                                                                                                                                                                                                                        NaN\n",
       "Newspaper Article                                                                                                                                                                                                               NaN\n",
       "X Education Forums                                                                                                                                                                                                              NaN\n",
       "Newspaper                                                                                                                                                                                                                       NaN\n",
       "Digital Advertisement                                                                                                                                                                                                           NaN\n",
       "Through Recommendations                                                                                                                                             Indicates whether the customer came in through recommendations.\n",
       "Receive More Updates About Our Courses                                                                                                              Indicates whether the customer chose to receive more updates about the courses.\n",
       "Tags                                                                                                                                                          Tags assigned to customers indicating the current status of the lead.\n",
       "Lead Quality                                                                                                      Indicates the quality of lead based on the data and intuition the the employee who has been assigned to the lead.\n",
       "Update me on Supply Chain Content                                                                                                                         Indicates whether the customer wants updates on the Supply Chain Content.\n",
       "Get updates on DM Content                                                                                                                                           Indicates whether the customer wants updates on the DM Content.\n",
       "Lead Profile                                                                                                                                                         A lead level assigned to each customer based on their profile.\n",
       "City                                                                                                                                                                                                      The city of the customer.\n",
       "Asymmetrique Activity Index                                                                                                                  An index and score assigned to each customer based on their activity and their profile\n",
       "Asymmetrique Profile Index                                                                                                                                                                                                      NaN\n",
       "Asymmetrique Activity Score                                                                                                                                                                                                     NaN\n",
       "Asymmetrique Profile Score                                                                                                                                                                                                      NaN\n",
       "I agree to pay the amount through cheque                                                                                                         Indicates whether the customer has agreed to pay the amount through cheque or not.\n",
       "a free copy of Mastering The Interview                                                                                                        Indicates whether the customer wants a free copy of 'Mastering the Interview' or not.\n",
       "Last Notable Activity                                                                                                                                                          The last notable acitivity performed by the student."
      ]
     },
     "metadata": {},
     "output_type": "display_data"
    }
   ],
   "source": [
    "# reading data dict\n",
    "data_dict = pd.read_excel('Leads Data Dictionary.xlsx', index_col=1, header=2)\n",
    "data_dict.drop(columns = 'Unnamed: 0', inplace=True)\n",
    "with pd.option_context('display.max_colwidth', None):\n",
    "  display(data_dict)"
   ]
  },
  {
   "cell_type": "code",
   "execution_count": 3,
   "id": "affiliated-wallace",
   "metadata": {
    "scrolled": false
   },
   "outputs": [
    {
     "data": {
      "text/html": [
       "<div>\n",
       "<style scoped>\n",
       "    .dataframe tbody tr th:only-of-type {\n",
       "        vertical-align: middle;\n",
       "    }\n",
       "\n",
       "    .dataframe tbody tr th {\n",
       "        vertical-align: top;\n",
       "    }\n",
       "\n",
       "    .dataframe thead th {\n",
       "        text-align: right;\n",
       "    }\n",
       "</style>\n",
       "<table border=\"1\" class=\"dataframe\">\n",
       "  <thead>\n",
       "    <tr style=\"text-align: right;\">\n",
       "      <th></th>\n",
       "      <th>Prospect ID</th>\n",
       "      <th>Lead Number</th>\n",
       "      <th>Lead Origin</th>\n",
       "      <th>Lead Source</th>\n",
       "      <th>Do Not Email</th>\n",
       "      <th>Do Not Call</th>\n",
       "      <th>Converted</th>\n",
       "      <th>TotalVisits</th>\n",
       "      <th>Total Time Spent on Website</th>\n",
       "      <th>Page Views Per Visit</th>\n",
       "      <th>...</th>\n",
       "      <th>Get updates on DM Content</th>\n",
       "      <th>Lead Profile</th>\n",
       "      <th>City</th>\n",
       "      <th>Asymmetrique Activity Index</th>\n",
       "      <th>Asymmetrique Profile Index</th>\n",
       "      <th>Asymmetrique Activity Score</th>\n",
       "      <th>Asymmetrique Profile Score</th>\n",
       "      <th>I agree to pay the amount through cheque</th>\n",
       "      <th>A free copy of Mastering The Interview</th>\n",
       "      <th>Last Notable Activity</th>\n",
       "    </tr>\n",
       "  </thead>\n",
       "  <tbody>\n",
       "    <tr>\n",
       "      <th>0</th>\n",
       "      <td>7927b2df-8bba-4d29-b9a2-b6e0beafe620</td>\n",
       "      <td>660737</td>\n",
       "      <td>API</td>\n",
       "      <td>Olark Chat</td>\n",
       "      <td>No</td>\n",
       "      <td>No</td>\n",
       "      <td>0</td>\n",
       "      <td>0.0</td>\n",
       "      <td>0</td>\n",
       "      <td>0.0</td>\n",
       "      <td>...</td>\n",
       "      <td>No</td>\n",
       "      <td>Select</td>\n",
       "      <td>Select</td>\n",
       "      <td>02.Medium</td>\n",
       "      <td>02.Medium</td>\n",
       "      <td>15.0</td>\n",
       "      <td>15.0</td>\n",
       "      <td>No</td>\n",
       "      <td>No</td>\n",
       "      <td>Modified</td>\n",
       "    </tr>\n",
       "    <tr>\n",
       "      <th>1</th>\n",
       "      <td>2a272436-5132-4136-86fa-dcc88c88f482</td>\n",
       "      <td>660728</td>\n",
       "      <td>API</td>\n",
       "      <td>Organic Search</td>\n",
       "      <td>No</td>\n",
       "      <td>No</td>\n",
       "      <td>0</td>\n",
       "      <td>5.0</td>\n",
       "      <td>674</td>\n",
       "      <td>2.5</td>\n",
       "      <td>...</td>\n",
       "      <td>No</td>\n",
       "      <td>Select</td>\n",
       "      <td>Select</td>\n",
       "      <td>02.Medium</td>\n",
       "      <td>02.Medium</td>\n",
       "      <td>15.0</td>\n",
       "      <td>15.0</td>\n",
       "      <td>No</td>\n",
       "      <td>No</td>\n",
       "      <td>Email Opened</td>\n",
       "    </tr>\n",
       "    <tr>\n",
       "      <th>2</th>\n",
       "      <td>8cc8c611-a219-4f35-ad23-fdfd2656bd8a</td>\n",
       "      <td>660727</td>\n",
       "      <td>Landing Page Submission</td>\n",
       "      <td>Direct Traffic</td>\n",
       "      <td>No</td>\n",
       "      <td>No</td>\n",
       "      <td>1</td>\n",
       "      <td>2.0</td>\n",
       "      <td>1532</td>\n",
       "      <td>2.0</td>\n",
       "      <td>...</td>\n",
       "      <td>No</td>\n",
       "      <td>Potential Lead</td>\n",
       "      <td>Mumbai</td>\n",
       "      <td>02.Medium</td>\n",
       "      <td>01.High</td>\n",
       "      <td>14.0</td>\n",
       "      <td>20.0</td>\n",
       "      <td>No</td>\n",
       "      <td>Yes</td>\n",
       "      <td>Email Opened</td>\n",
       "    </tr>\n",
       "    <tr>\n",
       "      <th>3</th>\n",
       "      <td>0cc2df48-7cf4-4e39-9de9-19797f9b38cc</td>\n",
       "      <td>660719</td>\n",
       "      <td>Landing Page Submission</td>\n",
       "      <td>Direct Traffic</td>\n",
       "      <td>No</td>\n",
       "      <td>No</td>\n",
       "      <td>0</td>\n",
       "      <td>1.0</td>\n",
       "      <td>305</td>\n",
       "      <td>1.0</td>\n",
       "      <td>...</td>\n",
       "      <td>No</td>\n",
       "      <td>Select</td>\n",
       "      <td>Mumbai</td>\n",
       "      <td>02.Medium</td>\n",
       "      <td>01.High</td>\n",
       "      <td>13.0</td>\n",
       "      <td>17.0</td>\n",
       "      <td>No</td>\n",
       "      <td>No</td>\n",
       "      <td>Modified</td>\n",
       "    </tr>\n",
       "    <tr>\n",
       "      <th>4</th>\n",
       "      <td>3256f628-e534-4826-9d63-4a8b88782852</td>\n",
       "      <td>660681</td>\n",
       "      <td>Landing Page Submission</td>\n",
       "      <td>Google</td>\n",
       "      <td>No</td>\n",
       "      <td>No</td>\n",
       "      <td>1</td>\n",
       "      <td>2.0</td>\n",
       "      <td>1428</td>\n",
       "      <td>1.0</td>\n",
       "      <td>...</td>\n",
       "      <td>No</td>\n",
       "      <td>Select</td>\n",
       "      <td>Mumbai</td>\n",
       "      <td>02.Medium</td>\n",
       "      <td>01.High</td>\n",
       "      <td>15.0</td>\n",
       "      <td>18.0</td>\n",
       "      <td>No</td>\n",
       "      <td>No</td>\n",
       "      <td>Modified</td>\n",
       "    </tr>\n",
       "  </tbody>\n",
       "</table>\n",
       "<p>5 rows × 37 columns</p>\n",
       "</div>"
      ],
      "text/plain": [
       "                            Prospect ID  Lead Number              Lead Origin  \\\n",
       "0  7927b2df-8bba-4d29-b9a2-b6e0beafe620       660737                      API   \n",
       "1  2a272436-5132-4136-86fa-dcc88c88f482       660728                      API   \n",
       "2  8cc8c611-a219-4f35-ad23-fdfd2656bd8a       660727  Landing Page Submission   \n",
       "3  0cc2df48-7cf4-4e39-9de9-19797f9b38cc       660719  Landing Page Submission   \n",
       "4  3256f628-e534-4826-9d63-4a8b88782852       660681  Landing Page Submission   \n",
       "\n",
       "      Lead Source Do Not Email Do Not Call  Converted  TotalVisits  \\\n",
       "0      Olark Chat           No          No          0          0.0   \n",
       "1  Organic Search           No          No          0          5.0   \n",
       "2  Direct Traffic           No          No          1          2.0   \n",
       "3  Direct Traffic           No          No          0          1.0   \n",
       "4          Google           No          No          1          2.0   \n",
       "\n",
       "   Total Time Spent on Website  Page Views Per Visit  ...  \\\n",
       "0                            0                   0.0  ...   \n",
       "1                          674                   2.5  ...   \n",
       "2                         1532                   2.0  ...   \n",
       "3                          305                   1.0  ...   \n",
       "4                         1428                   1.0  ...   \n",
       "\n",
       "  Get updates on DM Content    Lead Profile    City  \\\n",
       "0                        No          Select  Select   \n",
       "1                        No          Select  Select   \n",
       "2                        No  Potential Lead  Mumbai   \n",
       "3                        No          Select  Mumbai   \n",
       "4                        No          Select  Mumbai   \n",
       "\n",
       "  Asymmetrique Activity Index Asymmetrique Profile Index  \\\n",
       "0                   02.Medium                  02.Medium   \n",
       "1                   02.Medium                  02.Medium   \n",
       "2                   02.Medium                    01.High   \n",
       "3                   02.Medium                    01.High   \n",
       "4                   02.Medium                    01.High   \n",
       "\n",
       "  Asymmetrique Activity Score Asymmetrique Profile Score  \\\n",
       "0                        15.0                       15.0   \n",
       "1                        15.0                       15.0   \n",
       "2                        14.0                       20.0   \n",
       "3                        13.0                       17.0   \n",
       "4                        15.0                       18.0   \n",
       "\n",
       "  I agree to pay the amount through cheque  \\\n",
       "0                                       No   \n",
       "1                                       No   \n",
       "2                                       No   \n",
       "3                                       No   \n",
       "4                                       No   \n",
       "\n",
       "  A free copy of Mastering The Interview Last Notable Activity  \n",
       "0                                     No              Modified  \n",
       "1                                     No          Email Opened  \n",
       "2                                    Yes          Email Opened  \n",
       "3                                     No              Modified  \n",
       "4                                     No              Modified  \n",
       "\n",
       "[5 rows x 37 columns]"
      ]
     },
     "execution_count": 3,
     "metadata": {},
     "output_type": "execute_result"
    }
   ],
   "source": [
    "# reading actual data\n",
    "df = pd.read_csv('Leads.csv', sep=\",\", encoding=\"ISO-8859-1\", header=0)\n",
    "df.head()"
   ]
  },
  {
   "cell_type": "code",
   "execution_count": 4,
   "id": "clean-convention",
   "metadata": {},
   "outputs": [
    {
     "name": "stdout",
     "output_type": "stream",
     "text": [
      "<class 'pandas.core.frame.DataFrame'>\n",
      "RangeIndex: 9240 entries, 0 to 9239\n",
      "Data columns (total 37 columns):\n",
      " #   Column                                         Non-Null Count  Dtype  \n",
      "---  ------                                         --------------  -----  \n",
      " 0   Prospect ID                                    9240 non-null   object \n",
      " 1   Lead Number                                    9240 non-null   int64  \n",
      " 2   Lead Origin                                    9240 non-null   object \n",
      " 3   Lead Source                                    9204 non-null   object \n",
      " 4   Do Not Email                                   9240 non-null   object \n",
      " 5   Do Not Call                                    9240 non-null   object \n",
      " 6   Converted                                      9240 non-null   int64  \n",
      " 7   TotalVisits                                    9103 non-null   float64\n",
      " 8   Total Time Spent on Website                    9240 non-null   int64  \n",
      " 9   Page Views Per Visit                           9103 non-null   float64\n",
      " 10  Last Activity                                  9137 non-null   object \n",
      " 11  Country                                        6779 non-null   object \n",
      " 12  Specialization                                 7802 non-null   object \n",
      " 13  How did you hear about X Education             7033 non-null   object \n",
      " 14  What is your current occupation                6550 non-null   object \n",
      " 15  What matters most to you in choosing a course  6531 non-null   object \n",
      " 16  Search                                         9240 non-null   object \n",
      " 17  Magazine                                       9240 non-null   object \n",
      " 18  Newspaper Article                              9240 non-null   object \n",
      " 19  X Education Forums                             9240 non-null   object \n",
      " 20  Newspaper                                      9240 non-null   object \n",
      " 21  Digital Advertisement                          9240 non-null   object \n",
      " 22  Through Recommendations                        9240 non-null   object \n",
      " 23  Receive More Updates About Our Courses         9240 non-null   object \n",
      " 24  Tags                                           5887 non-null   object \n",
      " 25  Lead Quality                                   4473 non-null   object \n",
      " 26  Update me on Supply Chain Content              9240 non-null   object \n",
      " 27  Get updates on DM Content                      9240 non-null   object \n",
      " 28  Lead Profile                                   6531 non-null   object \n",
      " 29  City                                           7820 non-null   object \n",
      " 30  Asymmetrique Activity Index                    5022 non-null   object \n",
      " 31  Asymmetrique Profile Index                     5022 non-null   object \n",
      " 32  Asymmetrique Activity Score                    5022 non-null   float64\n",
      " 33  Asymmetrique Profile Score                     5022 non-null   float64\n",
      " 34  I agree to pay the amount through cheque       9240 non-null   object \n",
      " 35  A free copy of Mastering The Interview         9240 non-null   object \n",
      " 36  Last Notable Activity                          9240 non-null   object \n",
      "dtypes: float64(4), int64(3), object(30)\n",
      "memory usage: 2.6+ MB\n"
     ]
    }
   ],
   "source": [
    "# data info (shape, null count, data type)\n",
    "df.info()"
   ]
  },
  {
   "cell_type": "code",
   "execution_count": 5,
   "id": "instrumental-syria",
   "metadata": {},
   "outputs": [
    {
     "data": {
      "text/html": [
       "<div>\n",
       "<style scoped>\n",
       "    .dataframe tbody tr th:only-of-type {\n",
       "        vertical-align: middle;\n",
       "    }\n",
       "\n",
       "    .dataframe tbody tr th {\n",
       "        vertical-align: top;\n",
       "    }\n",
       "\n",
       "    .dataframe thead th {\n",
       "        text-align: right;\n",
       "    }\n",
       "</style>\n",
       "<table border=\"1\" class=\"dataframe\">\n",
       "  <thead>\n",
       "    <tr style=\"text-align: right;\">\n",
       "      <th></th>\n",
       "      <th>Lead Origin</th>\n",
       "      <th>Lead Source</th>\n",
       "      <th>Do Not Email</th>\n",
       "      <th>Do Not Call</th>\n",
       "      <th>Converted</th>\n",
       "      <th>TotalVisits</th>\n",
       "      <th>Total Time Spent on Website</th>\n",
       "      <th>Page Views Per Visit</th>\n",
       "      <th>Last Activity</th>\n",
       "      <th>Country</th>\n",
       "      <th>...</th>\n",
       "      <th>Get updates on DM Content</th>\n",
       "      <th>Lead Profile</th>\n",
       "      <th>City</th>\n",
       "      <th>Asymmetrique Activity Index</th>\n",
       "      <th>Asymmetrique Profile Index</th>\n",
       "      <th>Asymmetrique Activity Score</th>\n",
       "      <th>Asymmetrique Profile Score</th>\n",
       "      <th>I agree to pay the amount through cheque</th>\n",
       "      <th>A free copy of Mastering The Interview</th>\n",
       "      <th>Last Notable Activity</th>\n",
       "    </tr>\n",
       "  </thead>\n",
       "  <tbody>\n",
       "    <tr>\n",
       "      <th>count</th>\n",
       "      <td>9240</td>\n",
       "      <td>9204</td>\n",
       "      <td>9240</td>\n",
       "      <td>9240</td>\n",
       "      <td>9240.000000</td>\n",
       "      <td>9103.000000</td>\n",
       "      <td>9240.000000</td>\n",
       "      <td>9103.000000</td>\n",
       "      <td>9137</td>\n",
       "      <td>6779</td>\n",
       "      <td>...</td>\n",
       "      <td>9240</td>\n",
       "      <td>6531</td>\n",
       "      <td>7820</td>\n",
       "      <td>5022</td>\n",
       "      <td>5022</td>\n",
       "      <td>5022.000000</td>\n",
       "      <td>5022.000000</td>\n",
       "      <td>9240</td>\n",
       "      <td>9240</td>\n",
       "      <td>9240</td>\n",
       "    </tr>\n",
       "    <tr>\n",
       "      <th>unique</th>\n",
       "      <td>5</td>\n",
       "      <td>21</td>\n",
       "      <td>2</td>\n",
       "      <td>2</td>\n",
       "      <td>NaN</td>\n",
       "      <td>NaN</td>\n",
       "      <td>NaN</td>\n",
       "      <td>NaN</td>\n",
       "      <td>17</td>\n",
       "      <td>38</td>\n",
       "      <td>...</td>\n",
       "      <td>1</td>\n",
       "      <td>6</td>\n",
       "      <td>7</td>\n",
       "      <td>3</td>\n",
       "      <td>3</td>\n",
       "      <td>NaN</td>\n",
       "      <td>NaN</td>\n",
       "      <td>1</td>\n",
       "      <td>2</td>\n",
       "      <td>16</td>\n",
       "    </tr>\n",
       "    <tr>\n",
       "      <th>top</th>\n",
       "      <td>Landing Page Submission</td>\n",
       "      <td>Google</td>\n",
       "      <td>No</td>\n",
       "      <td>No</td>\n",
       "      <td>NaN</td>\n",
       "      <td>NaN</td>\n",
       "      <td>NaN</td>\n",
       "      <td>NaN</td>\n",
       "      <td>Email Opened</td>\n",
       "      <td>India</td>\n",
       "      <td>...</td>\n",
       "      <td>No</td>\n",
       "      <td>Select</td>\n",
       "      <td>Mumbai</td>\n",
       "      <td>02.Medium</td>\n",
       "      <td>02.Medium</td>\n",
       "      <td>NaN</td>\n",
       "      <td>NaN</td>\n",
       "      <td>No</td>\n",
       "      <td>No</td>\n",
       "      <td>Modified</td>\n",
       "    </tr>\n",
       "    <tr>\n",
       "      <th>freq</th>\n",
       "      <td>4886</td>\n",
       "      <td>2868</td>\n",
       "      <td>8506</td>\n",
       "      <td>9238</td>\n",
       "      <td>NaN</td>\n",
       "      <td>NaN</td>\n",
       "      <td>NaN</td>\n",
       "      <td>NaN</td>\n",
       "      <td>3437</td>\n",
       "      <td>6492</td>\n",
       "      <td>...</td>\n",
       "      <td>9240</td>\n",
       "      <td>4146</td>\n",
       "      <td>3222</td>\n",
       "      <td>3839</td>\n",
       "      <td>2788</td>\n",
       "      <td>NaN</td>\n",
       "      <td>NaN</td>\n",
       "      <td>9240</td>\n",
       "      <td>6352</td>\n",
       "      <td>3407</td>\n",
       "    </tr>\n",
       "    <tr>\n",
       "      <th>mean</th>\n",
       "      <td>NaN</td>\n",
       "      <td>NaN</td>\n",
       "      <td>NaN</td>\n",
       "      <td>NaN</td>\n",
       "      <td>0.385390</td>\n",
       "      <td>3.445238</td>\n",
       "      <td>487.698268</td>\n",
       "      <td>2.362820</td>\n",
       "      <td>NaN</td>\n",
       "      <td>NaN</td>\n",
       "      <td>...</td>\n",
       "      <td>NaN</td>\n",
       "      <td>NaN</td>\n",
       "      <td>NaN</td>\n",
       "      <td>NaN</td>\n",
       "      <td>NaN</td>\n",
       "      <td>14.306252</td>\n",
       "      <td>16.344883</td>\n",
       "      <td>NaN</td>\n",
       "      <td>NaN</td>\n",
       "      <td>NaN</td>\n",
       "    </tr>\n",
       "    <tr>\n",
       "      <th>std</th>\n",
       "      <td>NaN</td>\n",
       "      <td>NaN</td>\n",
       "      <td>NaN</td>\n",
       "      <td>NaN</td>\n",
       "      <td>0.486714</td>\n",
       "      <td>4.854853</td>\n",
       "      <td>548.021466</td>\n",
       "      <td>2.161418</td>\n",
       "      <td>NaN</td>\n",
       "      <td>NaN</td>\n",
       "      <td>...</td>\n",
       "      <td>NaN</td>\n",
       "      <td>NaN</td>\n",
       "      <td>NaN</td>\n",
       "      <td>NaN</td>\n",
       "      <td>NaN</td>\n",
       "      <td>1.386694</td>\n",
       "      <td>1.811395</td>\n",
       "      <td>NaN</td>\n",
       "      <td>NaN</td>\n",
       "      <td>NaN</td>\n",
       "    </tr>\n",
       "    <tr>\n",
       "      <th>min</th>\n",
       "      <td>NaN</td>\n",
       "      <td>NaN</td>\n",
       "      <td>NaN</td>\n",
       "      <td>NaN</td>\n",
       "      <td>0.000000</td>\n",
       "      <td>0.000000</td>\n",
       "      <td>0.000000</td>\n",
       "      <td>0.000000</td>\n",
       "      <td>NaN</td>\n",
       "      <td>NaN</td>\n",
       "      <td>...</td>\n",
       "      <td>NaN</td>\n",
       "      <td>NaN</td>\n",
       "      <td>NaN</td>\n",
       "      <td>NaN</td>\n",
       "      <td>NaN</td>\n",
       "      <td>7.000000</td>\n",
       "      <td>11.000000</td>\n",
       "      <td>NaN</td>\n",
       "      <td>NaN</td>\n",
       "      <td>NaN</td>\n",
       "    </tr>\n",
       "    <tr>\n",
       "      <th>25%</th>\n",
       "      <td>NaN</td>\n",
       "      <td>NaN</td>\n",
       "      <td>NaN</td>\n",
       "      <td>NaN</td>\n",
       "      <td>0.000000</td>\n",
       "      <td>1.000000</td>\n",
       "      <td>12.000000</td>\n",
       "      <td>1.000000</td>\n",
       "      <td>NaN</td>\n",
       "      <td>NaN</td>\n",
       "      <td>...</td>\n",
       "      <td>NaN</td>\n",
       "      <td>NaN</td>\n",
       "      <td>NaN</td>\n",
       "      <td>NaN</td>\n",
       "      <td>NaN</td>\n",
       "      <td>14.000000</td>\n",
       "      <td>15.000000</td>\n",
       "      <td>NaN</td>\n",
       "      <td>NaN</td>\n",
       "      <td>NaN</td>\n",
       "    </tr>\n",
       "    <tr>\n",
       "      <th>50%</th>\n",
       "      <td>NaN</td>\n",
       "      <td>NaN</td>\n",
       "      <td>NaN</td>\n",
       "      <td>NaN</td>\n",
       "      <td>0.000000</td>\n",
       "      <td>3.000000</td>\n",
       "      <td>248.000000</td>\n",
       "      <td>2.000000</td>\n",
       "      <td>NaN</td>\n",
       "      <td>NaN</td>\n",
       "      <td>...</td>\n",
       "      <td>NaN</td>\n",
       "      <td>NaN</td>\n",
       "      <td>NaN</td>\n",
       "      <td>NaN</td>\n",
       "      <td>NaN</td>\n",
       "      <td>14.000000</td>\n",
       "      <td>16.000000</td>\n",
       "      <td>NaN</td>\n",
       "      <td>NaN</td>\n",
       "      <td>NaN</td>\n",
       "    </tr>\n",
       "    <tr>\n",
       "      <th>75%</th>\n",
       "      <td>NaN</td>\n",
       "      <td>NaN</td>\n",
       "      <td>NaN</td>\n",
       "      <td>NaN</td>\n",
       "      <td>1.000000</td>\n",
       "      <td>5.000000</td>\n",
       "      <td>936.000000</td>\n",
       "      <td>3.000000</td>\n",
       "      <td>NaN</td>\n",
       "      <td>NaN</td>\n",
       "      <td>...</td>\n",
       "      <td>NaN</td>\n",
       "      <td>NaN</td>\n",
       "      <td>NaN</td>\n",
       "      <td>NaN</td>\n",
       "      <td>NaN</td>\n",
       "      <td>15.000000</td>\n",
       "      <td>18.000000</td>\n",
       "      <td>NaN</td>\n",
       "      <td>NaN</td>\n",
       "      <td>NaN</td>\n",
       "    </tr>\n",
       "    <tr>\n",
       "      <th>max</th>\n",
       "      <td>NaN</td>\n",
       "      <td>NaN</td>\n",
       "      <td>NaN</td>\n",
       "      <td>NaN</td>\n",
       "      <td>1.000000</td>\n",
       "      <td>251.000000</td>\n",
       "      <td>2272.000000</td>\n",
       "      <td>55.000000</td>\n",
       "      <td>NaN</td>\n",
       "      <td>NaN</td>\n",
       "      <td>...</td>\n",
       "      <td>NaN</td>\n",
       "      <td>NaN</td>\n",
       "      <td>NaN</td>\n",
       "      <td>NaN</td>\n",
       "      <td>NaN</td>\n",
       "      <td>18.000000</td>\n",
       "      <td>20.000000</td>\n",
       "      <td>NaN</td>\n",
       "      <td>NaN</td>\n",
       "      <td>NaN</td>\n",
       "    </tr>\n",
       "  </tbody>\n",
       "</table>\n",
       "<p>11 rows × 35 columns</p>\n",
       "</div>"
      ],
      "text/plain": [
       "                    Lead Origin Lead Source Do Not Email Do Not Call  \\\n",
       "count                      9240        9204         9240        9240   \n",
       "unique                        5          21            2           2   \n",
       "top     Landing Page Submission      Google           No          No   \n",
       "freq                       4886        2868         8506        9238   \n",
       "mean                        NaN         NaN          NaN         NaN   \n",
       "std                         NaN         NaN          NaN         NaN   \n",
       "min                         NaN         NaN          NaN         NaN   \n",
       "25%                         NaN         NaN          NaN         NaN   \n",
       "50%                         NaN         NaN          NaN         NaN   \n",
       "75%                         NaN         NaN          NaN         NaN   \n",
       "max                         NaN         NaN          NaN         NaN   \n",
       "\n",
       "          Converted  TotalVisits  Total Time Spent on Website  \\\n",
       "count   9240.000000  9103.000000                  9240.000000   \n",
       "unique          NaN          NaN                          NaN   \n",
       "top             NaN          NaN                          NaN   \n",
       "freq            NaN          NaN                          NaN   \n",
       "mean       0.385390     3.445238                   487.698268   \n",
       "std        0.486714     4.854853                   548.021466   \n",
       "min        0.000000     0.000000                     0.000000   \n",
       "25%        0.000000     1.000000                    12.000000   \n",
       "50%        0.000000     3.000000                   248.000000   \n",
       "75%        1.000000     5.000000                   936.000000   \n",
       "max        1.000000   251.000000                  2272.000000   \n",
       "\n",
       "        Page Views Per Visit Last Activity Country  ...  \\\n",
       "count            9103.000000          9137    6779  ...   \n",
       "unique                   NaN            17      38  ...   \n",
       "top                      NaN  Email Opened   India  ...   \n",
       "freq                     NaN          3437    6492  ...   \n",
       "mean                2.362820           NaN     NaN  ...   \n",
       "std                 2.161418           NaN     NaN  ...   \n",
       "min                 0.000000           NaN     NaN  ...   \n",
       "25%                 1.000000           NaN     NaN  ...   \n",
       "50%                 2.000000           NaN     NaN  ...   \n",
       "75%                 3.000000           NaN     NaN  ...   \n",
       "max                55.000000           NaN     NaN  ...   \n",
       "\n",
       "       Get updates on DM Content Lead Profile    City  \\\n",
       "count                       9240         6531    7820   \n",
       "unique                         1            6       7   \n",
       "top                           No       Select  Mumbai   \n",
       "freq                        9240         4146    3222   \n",
       "mean                         NaN          NaN     NaN   \n",
       "std                          NaN          NaN     NaN   \n",
       "min                          NaN          NaN     NaN   \n",
       "25%                          NaN          NaN     NaN   \n",
       "50%                          NaN          NaN     NaN   \n",
       "75%                          NaN          NaN     NaN   \n",
       "max                          NaN          NaN     NaN   \n",
       "\n",
       "       Asymmetrique Activity Index Asymmetrique Profile Index  \\\n",
       "count                         5022                       5022   \n",
       "unique                           3                          3   \n",
       "top                      02.Medium                  02.Medium   \n",
       "freq                          3839                       2788   \n",
       "mean                           NaN                        NaN   \n",
       "std                            NaN                        NaN   \n",
       "min                            NaN                        NaN   \n",
       "25%                            NaN                        NaN   \n",
       "50%                            NaN                        NaN   \n",
       "75%                            NaN                        NaN   \n",
       "max                            NaN                        NaN   \n",
       "\n",
       "       Asymmetrique Activity Score Asymmetrique Profile Score  \\\n",
       "count                  5022.000000                5022.000000   \n",
       "unique                         NaN                        NaN   \n",
       "top                            NaN                        NaN   \n",
       "freq                           NaN                        NaN   \n",
       "mean                     14.306252                  16.344883   \n",
       "std                       1.386694                   1.811395   \n",
       "min                       7.000000                  11.000000   \n",
       "25%                      14.000000                  15.000000   \n",
       "50%                      14.000000                  16.000000   \n",
       "75%                      15.000000                  18.000000   \n",
       "max                      18.000000                  20.000000   \n",
       "\n",
       "       I agree to pay the amount through cheque  \\\n",
       "count                                      9240   \n",
       "unique                                        1   \n",
       "top                                          No   \n",
       "freq                                       9240   \n",
       "mean                                        NaN   \n",
       "std                                         NaN   \n",
       "min                                         NaN   \n",
       "25%                                         NaN   \n",
       "50%                                         NaN   \n",
       "75%                                         NaN   \n",
       "max                                         NaN   \n",
       "\n",
       "       A free copy of Mastering The Interview Last Notable Activity  \n",
       "count                                    9240                  9240  \n",
       "unique                                      2                    16  \n",
       "top                                        No              Modified  \n",
       "freq                                     6352                  3407  \n",
       "mean                                      NaN                   NaN  \n",
       "std                                       NaN                   NaN  \n",
       "min                                       NaN                   NaN  \n",
       "25%                                       NaN                   NaN  \n",
       "50%                                       NaN                   NaN  \n",
       "75%                                       NaN                   NaN  \n",
       "max                                       NaN                   NaN  \n",
       "\n",
       "[11 rows x 35 columns]"
      ]
     },
     "execution_count": 5,
     "metadata": {},
     "output_type": "execute_result"
    }
   ],
   "source": [
    "# Statistical description of data\n",
    "df.iloc[:, 2:].describe(include = 'all')"
   ]
  },
  {
   "cell_type": "markdown",
   "id": "bizarre-forest",
   "metadata": {},
   "source": [
    "Searching whether there are duplicate records."
   ]
  },
  {
   "cell_type": "code",
   "execution_count": 6,
   "id": "elementary-pathology",
   "metadata": {},
   "outputs": [
    {
     "data": {
      "text/plain": [
       "Series([], Name: Prospect ID, dtype: object)"
      ]
     },
     "execution_count": 6,
     "metadata": {},
     "output_type": "execute_result"
    }
   ],
   "source": [
    "df['Prospect ID'][df['Prospect ID'].duplicated() == True]"
   ]
  },
  {
   "cell_type": "code",
   "execution_count": 7,
   "id": "lonely-closer",
   "metadata": {},
   "outputs": [
    {
     "data": {
      "text/plain": [
       "Series([], Name: Lead Number, dtype: int64)"
      ]
     },
     "execution_count": 7,
     "metadata": {},
     "output_type": "execute_result"
    }
   ],
   "source": [
    "df['Lead Number'][df['Lead Number'].duplicated() == True]"
   ]
  },
  {
   "cell_type": "markdown",
   "id": "certain-austin",
   "metadata": {},
   "source": [
    "Well, it's evident that there are none duplicate records."
   ]
  },
  {
   "cell_type": "markdown",
   "id": "swiss-orchestra",
   "metadata": {},
   "source": [
    "### Data Cleaning & Preparation"
   ]
  },
  {
   "cell_type": "code",
   "execution_count": 8,
   "id": "bizarre-difficulty",
   "metadata": {
    "scrolled": false
   },
   "outputs": [
    {
     "data": {
      "text/plain": [
       "Prospect ID                                       0.00\n",
       "Lead Number                                       0.00\n",
       "Lead Origin                                       0.00\n",
       "Lead Source                                       0.39\n",
       "Do Not Email                                      0.00\n",
       "Do Not Call                                       0.00\n",
       "Converted                                         0.00\n",
       "TotalVisits                                       1.48\n",
       "Total Time Spent on Website                       0.00\n",
       "Page Views Per Visit                              1.48\n",
       "Last Activity                                     1.11\n",
       "Country                                          26.63\n",
       "Specialization                                   15.56\n",
       "How did you hear about X Education               23.89\n",
       "What is your current occupation                  29.11\n",
       "What matters most to you in choosing a course    29.32\n",
       "Search                                            0.00\n",
       "Magazine                                          0.00\n",
       "Newspaper Article                                 0.00\n",
       "X Education Forums                                0.00\n",
       "Newspaper                                         0.00\n",
       "Digital Advertisement                             0.00\n",
       "Through Recommendations                           0.00\n",
       "Receive More Updates About Our Courses            0.00\n",
       "Tags                                             36.29\n",
       "Lead Quality                                     51.59\n",
       "Update me on Supply Chain Content                 0.00\n",
       "Get updates on DM Content                         0.00\n",
       "Lead Profile                                     29.32\n",
       "City                                             15.37\n",
       "Asymmetrique Activity Index                      45.65\n",
       "Asymmetrique Profile Index                       45.65\n",
       "Asymmetrique Activity Score                      45.65\n",
       "Asymmetrique Profile Score                       45.65\n",
       "I agree to pay the amount through cheque          0.00\n",
       "A free copy of Mastering The Interview            0.00\n",
       "Last Notable Activity                             0.00\n",
       "dtype: float64"
      ]
     },
     "execution_count": 8,
     "metadata": {},
     "output_type": "execute_result"
    }
   ],
   "source": [
    "# Percentage of null values\n",
    "round((df.isnull().sum()/len(df))*100, 2)"
   ]
  },
  {
   "cell_type": "code",
   "execution_count": 9,
   "id": "furnished-hello",
   "metadata": {},
   "outputs": [],
   "source": [
    "# Dropping columns with null values higher than 30%\n",
    "df = df[df.columns[df.isnull().sum()/len(df)*100 < 30]]"
   ]
  },
  {
   "cell_type": "code",
   "execution_count": 10,
   "id": "sorted-trigger",
   "metadata": {
    "scrolled": false
   },
   "outputs": [
    {
     "data": {
      "text/plain": [
       "Prospect ID                                       0.00\n",
       "Lead Number                                       0.00\n",
       "Lead Origin                                       0.00\n",
       "Lead Source                                       0.39\n",
       "Do Not Email                                      0.00\n",
       "Do Not Call                                       0.00\n",
       "Converted                                         0.00\n",
       "TotalVisits                                       1.48\n",
       "Total Time Spent on Website                       0.00\n",
       "Page Views Per Visit                              1.48\n",
       "Last Activity                                     1.11\n",
       "Country                                          26.63\n",
       "Specialization                                   15.56\n",
       "How did you hear about X Education               23.89\n",
       "What is your current occupation                  29.11\n",
       "What matters most to you in choosing a course    29.32\n",
       "Search                                            0.00\n",
       "Magazine                                          0.00\n",
       "Newspaper Article                                 0.00\n",
       "X Education Forums                                0.00\n",
       "Newspaper                                         0.00\n",
       "Digital Advertisement                             0.00\n",
       "Through Recommendations                           0.00\n",
       "Receive More Updates About Our Courses            0.00\n",
       "Update me on Supply Chain Content                 0.00\n",
       "Get updates on DM Content                         0.00\n",
       "Lead Profile                                     29.32\n",
       "City                                             15.37\n",
       "I agree to pay the amount through cheque          0.00\n",
       "A free copy of Mastering The Interview            0.00\n",
       "Last Notable Activity                             0.00\n",
       "dtype: float64"
      ]
     },
     "execution_count": 10,
     "metadata": {},
     "output_type": "execute_result"
    }
   ],
   "source": [
    "# Checking the percentage of null values of the remaining columns\n",
    "round(df.isnull().sum()/len(df)*100, 2)"
   ]
  },
  {
   "cell_type": "markdown",
   "id": "cooperative-aluminum",
   "metadata": {},
   "source": [
    "- Now there are a few columns in which there is a level called 'Select' which basically means that the student had not selected the option for that particular column which is why it shows 'Select'. These values are as good as missing values and hence we need to identify the value counts of the level 'Select' in all the columns that it is present."
   ]
  },
  {
   "cell_type": "code",
   "execution_count": 11,
   "id": "sought-train",
   "metadata": {
    "scrolled": true
   },
   "outputs": [
    {
     "name": "stdout",
     "output_type": "stream",
     "text": [
      "Landing Page Submission    4886\n",
      "API                        3580\n",
      "Lead Add Form               718\n",
      "Lead Import                  55\n",
      "Quick Add Form                1\n",
      "Name: Lead Origin, dtype: int64 \n",
      "\n",
      "\n",
      "Google               2868\n",
      "Direct Traffic       2543\n",
      "Olark Chat           1755\n",
      "Organic Search       1154\n",
      "Reference             534\n",
      "Welingak Website      142\n",
      "Referral Sites        125\n",
      "Facebook               55\n",
      "bing                    6\n",
      "google                  5\n",
      "Click2call              4\n",
      "Press_Release           2\n",
      "Social Media            2\n",
      "Live Chat               2\n",
      "Pay per Click Ads       1\n",
      "WeLearn                 1\n",
      "testone                 1\n",
      "youtubechannel          1\n",
      "welearnblog_Home        1\n",
      "NC_EDM                  1\n",
      "blog                    1\n",
      "Name: Lead Source, dtype: int64 \n",
      "\n",
      "\n",
      "No     8506\n",
      "Yes     734\n",
      "Name: Do Not Email, dtype: int64 \n",
      "\n",
      "\n",
      "No     9238\n",
      "Yes       2\n",
      "Name: Do Not Call, dtype: int64 \n",
      "\n",
      "\n",
      "0    5679\n",
      "1    3561\n",
      "Name: Converted, dtype: int64 \n",
      "\n",
      "\n",
      "0.0      2189\n",
      "2.0      1680\n",
      "3.0      1306\n",
      "4.0      1120\n",
      "5.0       783\n",
      "6.0       466\n",
      "1.0       395\n",
      "7.0       309\n",
      "8.0       224\n",
      "9.0       164\n",
      "10.0      114\n",
      "11.0       86\n",
      "13.0       48\n",
      "12.0       45\n",
      "14.0       36\n",
      "16.0       21\n",
      "15.0       18\n",
      "17.0       16\n",
      "18.0       15\n",
      "20.0       12\n",
      "19.0        9\n",
      "21.0        6\n",
      "23.0        6\n",
      "25.0        5\n",
      "24.0        5\n",
      "27.0        5\n",
      "22.0        3\n",
      "28.0        2\n",
      "29.0        2\n",
      "26.0        2\n",
      "115.0       1\n",
      "41.0        1\n",
      "55.0        1\n",
      "251.0       1\n",
      "141.0       1\n",
      "32.0        1\n",
      "42.0        1\n",
      "74.0        1\n",
      "43.0        1\n",
      "30.0        1\n",
      "54.0        1\n",
      "Name: TotalVisits, dtype: int64 \n",
      "\n",
      "\n",
      "0       2193\n",
      "60        19\n",
      "127       18\n",
      "75        18\n",
      "74        18\n",
      "        ... \n",
      "620        1\n",
      "628        1\n",
      "684        1\n",
      "724        1\n",
      "1975       1\n",
      "Name: Total Time Spent on Website, Length: 1731, dtype: int64 \n",
      "\n",
      "\n",
      "0.00    2189\n",
      "2.00    1795\n",
      "3.00    1196\n",
      "4.00     896\n",
      "1.00     651\n",
      "        ... \n",
      "2.13       1\n",
      "4.40       1\n",
      "6.67       1\n",
      "8.33       1\n",
      "2.45       1\n",
      "Name: Page Views Per Visit, Length: 114, dtype: int64 \n",
      "\n",
      "\n",
      "Email Opened                    3437\n",
      "SMS Sent                        2745\n",
      "Olark Chat Conversation          973\n",
      "Page Visited on Website          640\n",
      "Converted to Lead                428\n",
      "Email Bounced                    326\n",
      "Email Link Clicked               267\n",
      "Form Submitted on Website        116\n",
      "Unreachable                       93\n",
      "Unsubscribed                      61\n",
      "Had a Phone Conversation          30\n",
      "Approached upfront                 9\n",
      "View in browser link Clicked       6\n",
      "Email Marked Spam                  2\n",
      "Email Received                     2\n",
      "Resubscribed to emails             1\n",
      "Visited Booth in Tradeshow         1\n",
      "Name: Last Activity, dtype: int64 \n",
      "\n",
      "\n",
      "India                   6492\n",
      "United States             69\n",
      "United Arab Emirates      53\n",
      "Singapore                 24\n",
      "Saudi Arabia              21\n",
      "United Kingdom            15\n",
      "Australia                 13\n",
      "Qatar                     10\n",
      "Bahrain                    7\n",
      "Hong Kong                  7\n",
      "Oman                       6\n",
      "France                     6\n",
      "unknown                    5\n",
      "South Africa               4\n",
      "Nigeria                    4\n",
      "Kuwait                     4\n",
      "Canada                     4\n",
      "Germany                    4\n",
      "Sweden                     3\n",
      "Ghana                      2\n",
      "Uganda                     2\n",
      "Bangladesh                 2\n",
      "Netherlands                2\n",
      "Belgium                    2\n",
      "Asia/Pacific Region        2\n",
      "Philippines                2\n",
      "China                      2\n",
      "Italy                      2\n",
      "Switzerland                1\n",
      "Kenya                      1\n",
      "Denmark                    1\n",
      "Liberia                    1\n",
      "Malaysia                   1\n",
      "Russia                     1\n",
      "Tanzania                   1\n",
      "Indonesia                  1\n",
      "Vietnam                    1\n",
      "Sri Lanka                  1\n",
      "Name: Country, dtype: int64 \n",
      "\n",
      "\n",
      "Select                               1942\n",
      "Finance Management                    976\n",
      "Human Resource Management             848\n",
      "Marketing Management                  838\n",
      "Operations Management                 503\n",
      "Business Administration               403\n",
      "IT Projects Management                366\n",
      "Supply Chain Management               349\n",
      "Banking, Investment And Insurance     338\n",
      "Travel and Tourism                    203\n",
      "Media and Advertising                 203\n",
      "International Business                178\n",
      "Healthcare Management                 159\n",
      "Hospitality Management                114\n",
      "E-COMMERCE                            112\n",
      "Retail Management                     100\n",
      "Rural and Agribusiness                 73\n",
      "E-Business                             57\n",
      "Services Excellence                    40\n",
      "Name: Specialization, dtype: int64 \n",
      "\n",
      "\n",
      "Select                   5043\n",
      "Online Search             808\n",
      "Word Of Mouth             348\n",
      "Student of SomeSchool     310\n",
      "Other                     186\n",
      "Multiple Sources          152\n",
      "Advertisements             70\n",
      "Social Media               67\n",
      "Email                      26\n",
      "SMS                        23\n",
      "Name: How did you hear about X Education, dtype: int64 \n",
      "\n",
      "\n",
      "Unemployed              5600\n",
      "Working Professional     706\n",
      "Student                  210\n",
      "Other                     16\n",
      "Housewife                 10\n",
      "Businessman                8\n",
      "Name: What is your current occupation, dtype: int64 \n",
      "\n",
      "\n",
      "Better Career Prospects      6528\n",
      "Flexibility & Convenience       2\n",
      "Other                           1\n",
      "Name: What matters most to you in choosing a course, dtype: int64 \n",
      "\n",
      "\n",
      "No     9226\n",
      "Yes      14\n",
      "Name: Search, dtype: int64 \n",
      "\n",
      "\n",
      "No    9240\n",
      "Name: Magazine, dtype: int64 \n",
      "\n",
      "\n",
      "No     9238\n",
      "Yes       2\n",
      "Name: Newspaper Article, dtype: int64 \n",
      "\n",
      "\n",
      "No     9239\n",
      "Yes       1\n",
      "Name: X Education Forums, dtype: int64 \n",
      "\n",
      "\n",
      "No     9239\n",
      "Yes       1\n",
      "Name: Newspaper, dtype: int64 \n",
      "\n",
      "\n",
      "No     9236\n",
      "Yes       4\n",
      "Name: Digital Advertisement, dtype: int64 \n",
      "\n",
      "\n",
      "No     9233\n",
      "Yes       7\n",
      "Name: Through Recommendations, dtype: int64 \n",
      "\n",
      "\n",
      "No    9240\n",
      "Name: Receive More Updates About Our Courses, dtype: int64 \n",
      "\n",
      "\n",
      "No    9240\n",
      "Name: Update me on Supply Chain Content, dtype: int64 \n",
      "\n",
      "\n",
      "No    9240\n",
      "Name: Get updates on DM Content, dtype: int64 \n",
      "\n",
      "\n",
      "Select                         4146\n",
      "Potential Lead                 1613\n",
      "Other Leads                     487\n",
      "Student of SomeSchool           241\n",
      "Lateral Student                  24\n",
      "Dual Specialization Student      20\n",
      "Name: Lead Profile, dtype: int64 \n",
      "\n",
      "\n",
      "Mumbai                         3222\n",
      "Select                         2249\n",
      "Thane & Outskirts               752\n",
      "Other Cities                    686\n",
      "Other Cities of Maharashtra     457\n",
      "Other Metro Cities              380\n",
      "Tier II Cities                   74\n",
      "Name: City, dtype: int64 \n",
      "\n",
      "\n",
      "No    9240\n",
      "Name: I agree to pay the amount through cheque, dtype: int64 \n",
      "\n",
      "\n",
      "No     6352\n",
      "Yes    2888\n",
      "Name: A free copy of Mastering The Interview, dtype: int64 \n",
      "\n",
      "\n",
      "Modified                        3407\n",
      "Email Opened                    2827\n",
      "SMS Sent                        2172\n",
      "Page Visited on Website          318\n",
      "Olark Chat Conversation          183\n",
      "Email Link Clicked               173\n",
      "Email Bounced                     60\n",
      "Unsubscribed                      47\n",
      "Unreachable                       32\n",
      "Had a Phone Conversation          14\n",
      "Email Marked Spam                  2\n",
      "Resubscribed to emails             1\n",
      "Form Submitted on Website          1\n",
      "Email Received                     1\n",
      "View in browser link Clicked       1\n",
      "Approached upfront                 1\n",
      "Name: Last Notable Activity, dtype: int64 \n",
      "\n",
      "\n"
     ]
    }
   ],
   "source": [
    "# Unique value counts of each column\n",
    "for c in df.iloc[:, 2:].columns:\n",
    "    print(df[c].value_counts(),'\\n\\n')"
   ]
  },
  {
   "cell_type": "code",
   "execution_count": 16,
   "id": "cooperative-timer",
   "metadata": {},
   "outputs": [
    {
     "data": {
      "text/plain": [
       "(9240, 31)"
      ]
     },
     "execution_count": 16,
     "metadata": {},
     "output_type": "execute_result"
    }
   ],
   "source": [
    "df.shape"
   ]
  },
  {
   "cell_type": "markdown",
   "id": "recovered-plant",
   "metadata": {},
   "source": [
    "- The columns having 'Select' which can be dropped are :\n",
    "    - `How did you hear about X Education`, `Lead Profile`.\n",
    "- Also notice that you got the value counts of all the columns, there were a few columns in which only one value was majorly present for all the data points. These include `Do Not Call`, `Search`, `Magazine`, `Newspaper Article`, `X Education Forums`, `Newspaper`, `Digital Advertisement`, `Through Recommendations`, `Receive More Updates About Our Courses`, `Update me on Supply Chain Content`, `Get updates on DM Content`, `I agree to pay the amount through cheque`. Since practically all of the values for these variables are `No`, it's best that we drop these columns as they won't help with our analysis.\n",
    "- As you might be able to interpret, the variable `Country` & `City` won't be of any use in our analysis. So it's best that we drop it."
   ]
  },
  {
   "cell_type": "code",
   "execution_count": 17,
   "id": "enclosed-stable",
   "metadata": {},
   "outputs": [],
   "source": [
    "# Dropping columns based on above decisions\n",
    "df.drop(['Do Not Call', 'What matters most to you in choosing a course', 'How did you hear about X Education',\n",
    "         'Search', 'Magazine', 'Newspaper Article','X Education Forums', 'Newspaper',\n",
    "         'Digital Advertisement', 'Through Recommendations','Receive More Updates About Our Courses',\n",
    "         'Update me on Supply Chain Content', 'Get updates on DM Content','I agree to pay the amount through cheque',\n",
    "         'Lead Profile', 'Country', 'City'], axis=1, inplace = True)"
   ]
  },
  {
   "cell_type": "code",
   "execution_count": 18,
   "id": "million-voice",
   "metadata": {},
   "outputs": [
    {
     "data": {
      "text/plain": [
       "Prospect ID                                0.000000\n",
       "Lead Number                                0.000000\n",
       "Lead Origin                                0.000000\n",
       "Lead Source                                0.389610\n",
       "Do Not Email                               0.000000\n",
       "Converted                                  0.000000\n",
       "TotalVisits                                1.482684\n",
       "Total Time Spent on Website                0.000000\n",
       "Page Views Per Visit                       1.482684\n",
       "Last Activity                              1.114719\n",
       "Specialization                            15.562771\n",
       "What is your current occupation           29.112554\n",
       "A free copy of Mastering The Interview     0.000000\n",
       "Last Notable Activity                      0.000000\n",
       "dtype: float64"
      ]
     },
     "execution_count": 18,
     "metadata": {},
     "output_type": "execute_result"
    }
   ],
   "source": [
    "# Checking the remaining columns null values percentage\n",
    "df.isnull().sum()/len(df)*100"
   ]
  },
  {
   "cell_type": "code",
   "execution_count": 19,
   "id": "muslim-technician",
   "metadata": {},
   "outputs": [],
   "source": [
    "# Replacing the columns with 2 unique values i.e 'Yes', 'No' with 1 & 0 repectively\n",
    "df.replace({'Yes':1, 'No':0}, inplace=True)"
   ]
  },
  {
   "cell_type": "code",
   "execution_count": 20,
   "id": "boring-comparison",
   "metadata": {},
   "outputs": [
    {
     "data": {
      "text/html": [
       "<div>\n",
       "<style scoped>\n",
       "    .dataframe tbody tr th:only-of-type {\n",
       "        vertical-align: middle;\n",
       "    }\n",
       "\n",
       "    .dataframe tbody tr th {\n",
       "        vertical-align: top;\n",
       "    }\n",
       "\n",
       "    .dataframe thead th {\n",
       "        text-align: right;\n",
       "    }\n",
       "</style>\n",
       "<table border=\"1\" class=\"dataframe\">\n",
       "  <thead>\n",
       "    <tr style=\"text-align: right;\">\n",
       "      <th></th>\n",
       "      <th>Do Not Email</th>\n",
       "      <th>Converted</th>\n",
       "      <th>A free copy of Mastering The Interview</th>\n",
       "    </tr>\n",
       "  </thead>\n",
       "  <tbody>\n",
       "    <tr>\n",
       "      <th>0</th>\n",
       "      <td>0</td>\n",
       "      <td>0</td>\n",
       "      <td>0</td>\n",
       "    </tr>\n",
       "    <tr>\n",
       "      <th>1</th>\n",
       "      <td>0</td>\n",
       "      <td>0</td>\n",
       "      <td>0</td>\n",
       "    </tr>\n",
       "    <tr>\n",
       "      <th>2</th>\n",
       "      <td>0</td>\n",
       "      <td>1</td>\n",
       "      <td>1</td>\n",
       "    </tr>\n",
       "    <tr>\n",
       "      <th>3</th>\n",
       "      <td>0</td>\n",
       "      <td>0</td>\n",
       "      <td>0</td>\n",
       "    </tr>\n",
       "    <tr>\n",
       "      <th>4</th>\n",
       "      <td>0</td>\n",
       "      <td>1</td>\n",
       "      <td>0</td>\n",
       "    </tr>\n",
       "  </tbody>\n",
       "</table>\n",
       "</div>"
      ],
      "text/plain": [
       "   Do Not Email  Converted  A free copy of Mastering The Interview\n",
       "0             0          0                                       0\n",
       "1             0          0                                       0\n",
       "2             0          1                                       1\n",
       "3             0          0                                       0\n",
       "4             0          1                                       0"
      ]
     },
     "execution_count": 20,
     "metadata": {},
     "output_type": "execute_result"
    }
   ],
   "source": [
    "# Checking the variables with binary values\n",
    "df[df.columns[df.nunique() == 2]].head()"
   ]
  },
  {
   "cell_type": "code",
   "execution_count": 21,
   "id": "administrative-watts",
   "metadata": {},
   "outputs": [],
   "source": [
    "# Drop the null values rows in the column 'Specialization'\n",
    "df.drop(df.loc[df['Specialization']=='Select'].index, inplace = True)"
   ]
  },
  {
   "cell_type": "code",
   "execution_count": 22,
   "id": "apart-robert",
   "metadata": {},
   "outputs": [
    {
     "name": "stdout",
     "output_type": "stream",
     "text": [
      "<class 'pandas.core.frame.DataFrame'>\n",
      "Int64Index: 7298 entries, 2 to 9239\n",
      "Data columns (total 14 columns):\n",
      " #   Column                                  Non-Null Count  Dtype  \n",
      "---  ------                                  --------------  -----  \n",
      " 0   Prospect ID                             7298 non-null   object \n",
      " 1   Lead Number                             7298 non-null   int64  \n",
      " 2   Lead Origin                             7298 non-null   object \n",
      " 3   Lead Source                             7290 non-null   object \n",
      " 4   Do Not Email                            7298 non-null   int64  \n",
      " 5   Converted                               7298 non-null   int64  \n",
      " 6   TotalVisits                             7230 non-null   float64\n",
      " 7   Total Time Spent on Website             7298 non-null   int64  \n",
      " 8   Page Views Per Visit                    7230 non-null   float64\n",
      " 9   Last Activity                           7249 non-null   object \n",
      " 10  Specialization                          5860 non-null   object \n",
      " 11  What is your current occupation         4621 non-null   object \n",
      " 12  A free copy of Mastering The Interview  7298 non-null   int64  \n",
      " 13  Last Notable Activity                   7298 non-null   object \n",
      "dtypes: float64(2), int64(5), object(7)\n",
      "memory usage: 855.2+ KB\n"
     ]
    }
   ],
   "source": [
    "df.info()"
   ]
  },
  {
   "cell_type": "markdown",
   "id": "casual-nature",
   "metadata": {},
   "source": [
    "##### Treating null values in Occupation, TotalVisits, Page Views Per Visit,  Last Activity variable\n",
    "Occupation being categorical variable, we'll be identifying the mode and then imputing null values with it."
   ]
  },
  {
   "cell_type": "code",
   "execution_count": 23,
   "id": "extra-worker",
   "metadata": {},
   "outputs": [
    {
     "data": {
      "text/plain": [
       "Unemployed              3772\n",
       "Working Professional     679\n",
       "Student                  138\n",
       "Other                     15\n",
       "Housewife                 10\n",
       "Businessman                7\n",
       "Name: What is your current occupation, dtype: int64"
      ]
     },
     "execution_count": 23,
     "metadata": {},
     "output_type": "execute_result"
    }
   ],
   "source": [
    "# Looking at the value counts\n",
    "df['What is your current occupation'].value_counts()"
   ]
  },
  {
   "cell_type": "code",
   "execution_count": 24,
   "id": "martial-consensus",
   "metadata": {},
   "outputs": [],
   "source": [
    "# Imputing null values in 'what is your occupation' with mode i.e 'Unemployed'\n",
    "df['What is your current occupation'].fillna('Unemployed', inplace=True)"
   ]
  },
  {
   "cell_type": "markdown",
   "id": "engaging-assessment",
   "metadata": {},
   "source": [
    "##### Checking the central tendencies of  TotalVisits, Page Views Per Visit, Last Activity "
   ]
  },
  {
   "cell_type": "code",
   "execution_count": 25,
   "id": "nasty-container",
   "metadata": {},
   "outputs": [
    {
     "data": {
      "text/plain": [
       "2.0"
      ]
     },
     "execution_count": 25,
     "metadata": {},
     "output_type": "execute_result"
    }
   ],
   "source": [
    "df.TotalVisits.mode()[0]"
   ]
  },
  {
   "cell_type": "code",
   "execution_count": 26,
   "id": "processed-insulation",
   "metadata": {},
   "outputs": [
    {
     "data": {
      "text/plain": [
       "(2.0,\n",
       " 2.6247067773167356,\n",
       " 0    2.0\n",
       " dtype: float64)"
      ]
     },
     "execution_count": 26,
     "metadata": {},
     "output_type": "execute_result"
    }
   ],
   "source": [
    "df['Page Views Per Visit'].median(), df['Page Views Per Visit'].mean(), df['Page Views Per Visit'].mode()"
   ]
  },
  {
   "cell_type": "code",
   "execution_count": 27,
   "id": "nervous-belarus",
   "metadata": {},
   "outputs": [
    {
     "data": {
      "text/plain": [
       "'Email Opened'"
      ]
     },
     "execution_count": 27,
     "metadata": {},
     "output_type": "execute_result"
    }
   ],
   "source": [
    "df['Last Activity'].mode()[0]"
   ]
  },
  {
   "cell_type": "code",
   "execution_count": 28,
   "id": "regulation-geneva",
   "metadata": {},
   "outputs": [],
   "source": [
    "# Based on above statistics filling null values as below\n",
    "df['Page Views Per Visit'].fillna(df.TotalVisits.mode()[0], inplace = True)\n",
    "df['TotalVisits'].fillna(df.TotalVisits.mode()[0], inplace = True)\n",
    "df['Last Activity'].fillna(df.TotalVisits.mode()[0], inplace = True)"
   ]
  },
  {
   "cell_type": "code",
   "execution_count": 29,
   "id": "legitimate-sword",
   "metadata": {},
   "outputs": [
    {
     "name": "stdout",
     "output_type": "stream",
     "text": [
      "<class 'pandas.core.frame.DataFrame'>\n",
      "Int64Index: 7298 entries, 2 to 9239\n",
      "Data columns (total 14 columns):\n",
      " #   Column                                  Non-Null Count  Dtype  \n",
      "---  ------                                  --------------  -----  \n",
      " 0   Prospect ID                             7298 non-null   object \n",
      " 1   Lead Number                             7298 non-null   int64  \n",
      " 2   Lead Origin                             7298 non-null   object \n",
      " 3   Lead Source                             7290 non-null   object \n",
      " 4   Do Not Email                            7298 non-null   int64  \n",
      " 5   Converted                               7298 non-null   int64  \n",
      " 6   TotalVisits                             7298 non-null   float64\n",
      " 7   Total Time Spent on Website             7298 non-null   int64  \n",
      " 8   Page Views Per Visit                    7298 non-null   float64\n",
      " 9   Last Activity                           7298 non-null   object \n",
      " 10  Specialization                          5860 non-null   object \n",
      " 11  What is your current occupation         7298 non-null   object \n",
      " 12  A free copy of Mastering The Interview  7298 non-null   int64  \n",
      " 13  Last Notable Activity                   7298 non-null   object \n",
      "dtypes: float64(2), int64(5), object(7)\n",
      "memory usage: 855.2+ KB\n"
     ]
    }
   ],
   "source": [
    "df.info()"
   ]
  },
  {
   "cell_type": "markdown",
   "id": "committed-muscle",
   "metadata": {},
   "source": [
    "##### Dropping remaining rows with null values"
   ]
  },
  {
   "cell_type": "code",
   "execution_count": 30,
   "id": "joint-excuse",
   "metadata": {},
   "outputs": [],
   "source": [
    "df.dropna(inplace = True)"
   ]
  },
  {
   "cell_type": "markdown",
   "id": "combined-motivation",
   "metadata": {},
   "source": [
    "---"
   ]
  },
  {
   "cell_type": "markdown",
   "id": "diverse-accent",
   "metadata": {},
   "source": [
    "### Outlier Treatment"
   ]
  },
  {
   "cell_type": "code",
   "execution_count": 31,
   "id": "guilty-subdivision",
   "metadata": {},
   "outputs": [
    {
     "data": {
      "text/html": [
       "<div>\n",
       "<style scoped>\n",
       "    .dataframe tbody tr th:only-of-type {\n",
       "        vertical-align: middle;\n",
       "    }\n",
       "\n",
       "    .dataframe tbody tr th {\n",
       "        vertical-align: top;\n",
       "    }\n",
       "\n",
       "    .dataframe thead th {\n",
       "        text-align: right;\n",
       "    }\n",
       "</style>\n",
       "<table border=\"1\" class=\"dataframe\">\n",
       "  <thead>\n",
       "    <tr style=\"text-align: right;\">\n",
       "      <th></th>\n",
       "      <th>Do Not Email</th>\n",
       "      <th>Converted</th>\n",
       "      <th>TotalVisits</th>\n",
       "      <th>Total Time Spent on Website</th>\n",
       "      <th>Page Views Per Visit</th>\n",
       "      <th>A free copy of Mastering The Interview</th>\n",
       "    </tr>\n",
       "  </thead>\n",
       "  <tbody>\n",
       "    <tr>\n",
       "      <th>count</th>\n",
       "      <td>5852.000000</td>\n",
       "      <td>5852.000000</td>\n",
       "      <td>5852.000000</td>\n",
       "      <td>5852.000000</td>\n",
       "      <td>5852.000000</td>\n",
       "      <td>5852.000000</td>\n",
       "    </tr>\n",
       "    <tr>\n",
       "      <th>mean</th>\n",
       "      <td>0.086979</td>\n",
       "      <td>0.441558</td>\n",
       "      <td>4.358681</td>\n",
       "      <td>607.647471</td>\n",
       "      <td>3.016552</td>\n",
       "      <td>0.492481</td>\n",
       "    </tr>\n",
       "    <tr>\n",
       "      <th>std</th>\n",
       "      <td>0.281828</td>\n",
       "      <td>0.496615</td>\n",
       "      <td>5.340374</td>\n",
       "      <td>555.785371</td>\n",
       "      <td>2.095922</td>\n",
       "      <td>0.499986</td>\n",
       "    </tr>\n",
       "    <tr>\n",
       "      <th>min</th>\n",
       "      <td>0.000000</td>\n",
       "      <td>0.000000</td>\n",
       "      <td>0.000000</td>\n",
       "      <td>0.000000</td>\n",
       "      <td>0.000000</td>\n",
       "      <td>0.000000</td>\n",
       "    </tr>\n",
       "    <tr>\n",
       "      <th>10%</th>\n",
       "      <td>0.000000</td>\n",
       "      <td>0.000000</td>\n",
       "      <td>1.000000</td>\n",
       "      <td>15.000000</td>\n",
       "      <td>1.000000</td>\n",
       "      <td>0.000000</td>\n",
       "    </tr>\n",
       "    <tr>\n",
       "      <th>25%</th>\n",
       "      <td>0.000000</td>\n",
       "      <td>0.000000</td>\n",
       "      <td>2.000000</td>\n",
       "      <td>134.000000</td>\n",
       "      <td>2.000000</td>\n",
       "      <td>0.000000</td>\n",
       "    </tr>\n",
       "    <tr>\n",
       "      <th>50%</th>\n",
       "      <td>0.000000</td>\n",
       "      <td>0.000000</td>\n",
       "      <td>4.000000</td>\n",
       "      <td>370.000000</td>\n",
       "      <td>3.000000</td>\n",
       "      <td>0.000000</td>\n",
       "    </tr>\n",
       "    <tr>\n",
       "      <th>75%</th>\n",
       "      <td>0.000000</td>\n",
       "      <td>1.000000</td>\n",
       "      <td>5.000000</td>\n",
       "      <td>1088.250000</td>\n",
       "      <td>4.000000</td>\n",
       "      <td>1.000000</td>\n",
       "    </tr>\n",
       "    <tr>\n",
       "      <th>85%</th>\n",
       "      <td>0.000000</td>\n",
       "      <td>1.000000</td>\n",
       "      <td>7.000000</td>\n",
       "      <td>1325.000000</td>\n",
       "      <td>5.000000</td>\n",
       "      <td>1.000000</td>\n",
       "    </tr>\n",
       "    <tr>\n",
       "      <th>95%</th>\n",
       "      <td>1.000000</td>\n",
       "      <td>1.000000</td>\n",
       "      <td>11.000000</td>\n",
       "      <td>1613.450000</td>\n",
       "      <td>7.000000</td>\n",
       "      <td>1.000000</td>\n",
       "    </tr>\n",
       "    <tr>\n",
       "      <th>99%</th>\n",
       "      <td>1.000000</td>\n",
       "      <td>1.000000</td>\n",
       "      <td>18.000000</td>\n",
       "      <td>1871.980000</td>\n",
       "      <td>10.000000</td>\n",
       "      <td>1.000000</td>\n",
       "    </tr>\n",
       "    <tr>\n",
       "      <th>max</th>\n",
       "      <td>1.000000</td>\n",
       "      <td>1.000000</td>\n",
       "      <td>251.000000</td>\n",
       "      <td>2272.000000</td>\n",
       "      <td>55.000000</td>\n",
       "      <td>1.000000</td>\n",
       "    </tr>\n",
       "  </tbody>\n",
       "</table>\n",
       "</div>"
      ],
      "text/plain": [
       "       Do Not Email    Converted  TotalVisits  Total Time Spent on Website  \\\n",
       "count   5852.000000  5852.000000  5852.000000                  5852.000000   \n",
       "mean       0.086979     0.441558     4.358681                   607.647471   \n",
       "std        0.281828     0.496615     5.340374                   555.785371   \n",
       "min        0.000000     0.000000     0.000000                     0.000000   \n",
       "10%        0.000000     0.000000     1.000000                    15.000000   \n",
       "25%        0.000000     0.000000     2.000000                   134.000000   \n",
       "50%        0.000000     0.000000     4.000000                   370.000000   \n",
       "75%        0.000000     1.000000     5.000000                  1088.250000   \n",
       "85%        0.000000     1.000000     7.000000                  1325.000000   \n",
       "95%        1.000000     1.000000    11.000000                  1613.450000   \n",
       "99%        1.000000     1.000000    18.000000                  1871.980000   \n",
       "max        1.000000     1.000000   251.000000                  2272.000000   \n",
       "\n",
       "       Page Views Per Visit  A free copy of Mastering The Interview  \n",
       "count           5852.000000                             5852.000000  \n",
       "mean               3.016552                                0.492481  \n",
       "std                2.095922                                0.499986  \n",
       "min                0.000000                                0.000000  \n",
       "10%                1.000000                                0.000000  \n",
       "25%                2.000000                                0.000000  \n",
       "50%                3.000000                                0.000000  \n",
       "75%                4.000000                                1.000000  \n",
       "85%                5.000000                                1.000000  \n",
       "95%                7.000000                                1.000000  \n",
       "99%               10.000000                                1.000000  \n",
       "max               55.000000                                1.000000  "
      ]
     },
     "execution_count": 31,
     "metadata": {},
     "output_type": "execute_result"
    }
   ],
   "source": [
    "df.iloc[:, 2:].describe([.1, .25, .5, .75, .85, .95, .99])"
   ]
  },
  {
   "cell_type": "code",
   "execution_count": 32,
   "id": "prerequisite-bacon",
   "metadata": {},
   "outputs": [
    {
     "data": {
      "image/png": "[encoded data removed]",
      "text/plain": [
       "<Figure size 720x720 with 1 Axes>"
      ]
     },
     "metadata": {
      "needs_background": "light"
     },
     "output_type": "display_data"
    }
   ],
   "source": [
    "df[['TotalVisits', 'Total Time Spent on Website', 'Page Views Per Visit']].boxplot(figsize=(10, 10))\n",
    "plt.show()"
   ]
  },
  {
   "cell_type": "code",
   "execution_count": 33,
   "id": "incredible-memorial",
   "metadata": {},
   "outputs": [],
   "source": [
    "IQR = df.TotalVisits.quantile(0.99) - df.TotalVisits.quantile(0.1)\n",
    "Q1 = df.TotalVisits.quantile(0.1)\n",
    "Q3 = df.TotalVisits.quantile(0.99)\n",
    "df = df[(df.TotalVisits > Q1 - 1.5*IQR) & (df.TotalVisits < Q3 + 1.5*IQR)]"
   ]
  },
  {
   "cell_type": "code",
   "execution_count": 34,
   "id": "geological-prerequisite",
   "metadata": {},
   "outputs": [],
   "source": [
    "IQR = df['Page Views Per Visit'].quantile(0.99) - df['Page Views Per Visit'].quantile(0.1)\n",
    "Q1 = df['Page Views Per Visit'].quantile(0.1)\n",
    "Q3 = df['Page Views Per Visit'].quantile(0.99)\n",
    "df = df[(df['Page Views Per Visit'] > Q1 - 1.5*IQR) & (df['Page Views Per Visit'] < Q3 + 1.5*IQR)]"
   ]
  },
  {
   "cell_type": "code",
   "execution_count": 35,
   "id": "signal-stable",
   "metadata": {},
   "outputs": [
    {
     "data": {
      "text/html": [
       "<div>\n",
       "<style scoped>\n",
       "    .dataframe tbody tr th:only-of-type {\n",
       "        vertical-align: middle;\n",
       "    }\n",
       "\n",
       "    .dataframe tbody tr th {\n",
       "        vertical-align: top;\n",
       "    }\n",
       "\n",
       "    .dataframe thead th {\n",
       "        text-align: right;\n",
       "    }\n",
       "</style>\n",
       "<table border=\"1\" class=\"dataframe\">\n",
       "  <thead>\n",
       "    <tr style=\"text-align: right;\">\n",
       "      <th></th>\n",
       "      <th>TotalVisits</th>\n",
       "      <th>Page Views Per Visit</th>\n",
       "    </tr>\n",
       "  </thead>\n",
       "  <tbody>\n",
       "    <tr>\n",
       "      <th>2</th>\n",
       "      <td>2.0</td>\n",
       "      <td>2.00</td>\n",
       "    </tr>\n",
       "    <tr>\n",
       "      <th>3</th>\n",
       "      <td>1.0</td>\n",
       "      <td>1.00</td>\n",
       "    </tr>\n",
       "    <tr>\n",
       "      <th>6</th>\n",
       "      <td>2.0</td>\n",
       "      <td>2.00</td>\n",
       "    </tr>\n",
       "    <tr>\n",
       "      <th>8</th>\n",
       "      <td>2.0</td>\n",
       "      <td>2.00</td>\n",
       "    </tr>\n",
       "    <tr>\n",
       "      <th>9</th>\n",
       "      <td>4.0</td>\n",
       "      <td>4.00</td>\n",
       "    </tr>\n",
       "    <tr>\n",
       "      <th>...</th>\n",
       "      <td>...</td>\n",
       "      <td>...</td>\n",
       "    </tr>\n",
       "    <tr>\n",
       "      <th>9235</th>\n",
       "      <td>8.0</td>\n",
       "      <td>2.67</td>\n",
       "    </tr>\n",
       "    <tr>\n",
       "      <th>9236</th>\n",
       "      <td>2.0</td>\n",
       "      <td>2.00</td>\n",
       "    </tr>\n",
       "    <tr>\n",
       "      <th>9237</th>\n",
       "      <td>2.0</td>\n",
       "      <td>2.00</td>\n",
       "    </tr>\n",
       "    <tr>\n",
       "      <th>9238</th>\n",
       "      <td>3.0</td>\n",
       "      <td>3.00</td>\n",
       "    </tr>\n",
       "    <tr>\n",
       "      <th>9239</th>\n",
       "      <td>6.0</td>\n",
       "      <td>3.00</td>\n",
       "    </tr>\n",
       "  </tbody>\n",
       "</table>\n",
       "<p>5848 rows × 2 columns</p>\n",
       "</div>"
      ],
      "text/plain": [
       "      TotalVisits  Page Views Per Visit\n",
       "2             2.0                  2.00\n",
       "3             1.0                  1.00\n",
       "6             2.0                  2.00\n",
       "8             2.0                  2.00\n",
       "9             4.0                  4.00\n",
       "...           ...                   ...\n",
       "9235          8.0                  2.67\n",
       "9236          2.0                  2.00\n",
       "9237          2.0                  2.00\n",
       "9238          3.0                  3.00\n",
       "9239          6.0                  3.00\n",
       "\n",
       "[5848 rows x 2 columns]"
      ]
     },
     "execution_count": 35,
     "metadata": {},
     "output_type": "execute_result"
    }
   ],
   "source": [
    "df[df.columns[df.dtypes == 'float64']]"
   ]
  },
  {
   "cell_type": "code",
   "execution_count": 36,
   "id": "nominated-debate",
   "metadata": {},
   "outputs": [],
   "source": [
    "df['TotalVisits'] = df.TotalVisits.astype('int64')"
   ]
  },
  {
   "cell_type": "code",
   "execution_count": 37,
   "id": "wireless-booking",
   "metadata": {},
   "outputs": [
    {
     "name": "stdout",
     "output_type": "stream",
     "text": [
      "<class 'pandas.core.frame.DataFrame'>\n",
      "Int64Index: 5848 entries, 2 to 9239\n",
      "Data columns (total 14 columns):\n",
      " #   Column                                  Non-Null Count  Dtype  \n",
      "---  ------                                  --------------  -----  \n",
      " 0   Prospect ID                             5848 non-null   object \n",
      " 1   Lead Number                             5848 non-null   int64  \n",
      " 2   Lead Origin                             5848 non-null   object \n",
      " 3   Lead Source                             5848 non-null   object \n",
      " 4   Do Not Email                            5848 non-null   int64  \n",
      " 5   Converted                               5848 non-null   int64  \n",
      " 6   TotalVisits                             5848 non-null   int64  \n",
      " 7   Total Time Spent on Website             5848 non-null   int64  \n",
      " 8   Page Views Per Visit                    5848 non-null   float64\n",
      " 9   Last Activity                           5848 non-null   object \n",
      " 10  Specialization                          5848 non-null   object \n",
      " 11  What is your current occupation         5848 non-null   object \n",
      " 12  A free copy of Mastering The Interview  5848 non-null   int64  \n",
      " 13  Last Notable Activity                   5848 non-null   object \n",
      "dtypes: float64(1), int64(6), object(7)\n",
      "memory usage: 685.3+ KB\n"
     ]
    }
   ],
   "source": [
    "df.info()"
   ]
  },
  {
   "cell_type": "markdown",
   "id": "heavy-precipitation",
   "metadata": {},
   "source": [
    "---"
   ]
  },
  {
   "cell_type": "markdown",
   "id": "occupational-inventory",
   "metadata": {},
   "source": [
    "## EDA"
   ]
  },
  {
   "cell_type": "code",
   "execution_count": 38,
   "id": "organic-spread",
   "metadata": {
    "scrolled": false
   },
   "outputs": [
    {
     "data": {
      "text/plain": [
       "Index(['Prospect ID', 'Lead Origin', 'Lead Source', 'Last Activity',\n",
       "       'Specialization', 'What is your current occupation',\n",
       "       'Last Notable Activity'],\n",
       "      dtype='object')"
      ]
     },
     "execution_count": 38,
     "metadata": {},
     "output_type": "execute_result"
    }
   ],
   "source": [
    "df.columns[df.dtypes == 'object']"
   ]
  },
  {
   "cell_type": "code",
   "execution_count": 40,
   "id": "royal-subscription",
   "metadata": {},
   "outputs": [
    {
     "data": {
      "image/png": "[encoded data removed]",
      "text/plain": [
       "<Figure size 1080x360 with 1 Axes>"
      ]
     },
     "metadata": {
      "needs_background": "light"
     },
     "output_type": "display_data"
    }
   ],
   "source": [
    "plt.figure(figsize=(15,5))\n",
    "s1=sns.countplot(df['Lead Origin'], hue=df.Converted)\n",
    "s1.set_xticklabels(s1.get_xticklabels(),rotation=90)\n",
    "plt.title('Count of leads converted based on \"Lead Origin\"\\n', fontdict={'fontsize':'18', 'fontweight':'5', 'color':'brown'})\n",
    "plt.show()"
   ]
  },
  {
   "cell_type": "markdown",
   "id": "catholic-anaheim",
   "metadata": {},
   "source": [
    "Inference:\n",
    "- Most of the leads identified are from`Landing page submission`.\n",
    "- Leads identified from `API`, `Lead Add Form` has high conversion rate.\n",
    "- There are no leads identified from `Lead Import`."
   ]
  },
  {
   "cell_type": "code",
   "execution_count": 41,
   "id": "pediatric-cooperation",
   "metadata": {},
   "outputs": [
    {
     "data": {
      "image/png": "[encoded data removed]",
      "text/plain": [
       "<Figure size 1080x360 with 1 Axes>"
      ]
     },
     "metadata": {
      "needs_background": "light"
     },
     "output_type": "display_data"
    }
   ],
   "source": [
    "plt.figure(figsize=(15,5))\n",
    "s1=sns.countplot(df['Lead Source'], hue=df.Converted)\n",
    "s1.set_xticklabels(s1.get_xticklabels(),rotation=90)\n",
    "plt.title('Count of leads converted based on \"Lead Source\"\\n', fontdict={'fontsize':'18', 'fontweight':'5', 'color':'brown'})\n",
    "plt.legend(loc='upper right', title='Converted')\n",
    "plt.show()"
   ]
  },
  {
   "cell_type": "markdown",
   "id": "forward-measurement",
   "metadata": {},
   "source": [
    "Inference:\n",
    "- Highest leads are obtained from `Direct Traffic` & `Google`.\n",
    "- Leads obtained from `Reference` has highest conversion rate."
   ]
  },
  {
   "cell_type": "code",
   "execution_count": 42,
   "id": "christian-india",
   "metadata": {},
   "outputs": [
    {
     "data": {
      "image/png": "[encoded data removed]",
      "text/plain": [
       "<Figure size 1080x360 with 1 Axes>"
      ]
     },
     "metadata": {
      "needs_background": "light"
     },
     "output_type": "display_data"
    }
   ],
   "source": [
    "plt.figure(figsize=(15,5))\n",
    "s1=sns.countplot(df['Last Activity'], hue=df.Converted)\n",
    "s1.set_xticklabels(s1.get_xticklabels(),rotation=90)\n",
    "plt.title('Count of leads converted based on \"Last Activity\"\\n', fontdict={'fontsize':'18', 'fontweight':'5', 'color':'brown'})\n",
    "plt.legend(loc='upper right', title='Converted')\n",
    "plt.show()"
   ]
  },
  {
   "cell_type": "markdown",
   "id": "political-terrorism",
   "metadata": {},
   "source": [
    "Inference:\n",
    "- It's seen that `Email Opened` & `SMS Sent` are most performed last activities.\n",
    "- `SMS Sent` has highest conversion rate.\n"
   ]
  },
  {
   "cell_type": "code",
   "execution_count": 43,
   "id": "beneficial-inspection",
   "metadata": {},
   "outputs": [
    {
     "data": {
      "image/png": "[encoded data removed]",
      "text/plain": [
       "<Figure size 1080x360 with 1 Axes>"
      ]
     },
     "metadata": {
      "needs_background": "light"
     },
     "output_type": "display_data"
    }
   ],
   "source": [
    "plt.figure(figsize=(15,5))\n",
    "s1=sns.countplot(df['Specialization'], hue=df.Converted)\n",
    "plt.title('Count of leads converted based on \"Specialization\"\\n', fontdict={'fontsize':'18', 'fontweight':'5', 'color':'brown'})\n",
    "s1.set_xticklabels(s1.get_xticklabels(),rotation=90)\n",
    "\n",
    "plt.show()"
   ]
  },
  {
   "cell_type": "markdown",
   "id": "advanced-sewing",
   "metadata": {},
   "source": [
    "Inference:\n",
    "- It can be seen that most leads are from `x-Management` sectors.\n",
    "- There is no clear insight of conversion rate though absed on Sectors in which leads worked before."
   ]
  },
  {
   "cell_type": "code",
   "execution_count": 44,
   "id": "endangered-geology",
   "metadata": {},
   "outputs": [
    {
     "data": {
      "image/png": "[encoded data removed]",
      "text/plain": [
       "<Figure size 1080x360 with 1 Axes>"
      ]
     },
     "metadata": {
      "needs_background": "light"
     },
     "output_type": "display_data"
    }
   ],
   "source": [
    "plt.figure(figsize=(15,5))\n",
    "s1=sns.countplot(df['What is your current occupation'], hue=df.Converted)\n",
    "s1.set_xticklabels(s1.get_xticklabels(),rotation=90)\n",
    "plt.title('Count of leads converted based on \"Occupation\"\\n', fontdict={'fontsize':'18', 'fontweight':'5', 'color':'brown'})\n",
    "plt.show()"
   ]
  },
  {
   "cell_type": "markdown",
   "id": "disturbed-mistake",
   "metadata": {},
   "source": [
    "Inference:\n",
    "- `Working Professional` are the most potential leads.\n",
    "- Most leads are `Unemployed` but conversion rate is low.\n",
    "- `Student` are equally likely converted and non-converted."
   ]
  },
  {
   "cell_type": "code",
   "execution_count": 45,
   "id": "fewer-argument",
   "metadata": {},
   "outputs": [
    {
     "data": {
      "image/png": "[encoded data removed]",
      "text/plain": [
       "<Figure size 1080x360 with 1 Axes>"
      ]
     },
     "metadata": {
      "needs_background": "light"
     },
     "output_type": "display_data"
    }
   ],
   "source": [
    "plt.figure(figsize=(15,5))\n",
    "s1=sns.countplot(df['Last Notable Activity'], hue=df.Converted)\n",
    "s1.set_xticklabels(s1.get_xticklabels(),rotation=90)\n",
    "plt.title('Count of leads converted based on \"Last Notable Activity\"\\n', fontdict={'fontsize':'18', 'fontweight':'5', 'color':'brown'})\n",
    "plt.legend(loc='upper right', title='Converted')\n",
    "plt.show()"
   ]
  },
  {
   "cell_type": "markdown",
   "id": "veterinary-world",
   "metadata": {},
   "source": [
    "Inference:\n",
    "- It's seen that `Email Opened`, `Modified` & `SMS Sent` are most notable last activities performed.\n",
    "- `SMS Sent` has highest conversion rate.\n",
    "- Though not sure about `Modified` activity, still it has lowest conversion rate."
   ]
  },
  {
   "cell_type": "markdown",
   "id": "strong-bracelet",
   "metadata": {},
   "source": [
    "#### Pairplot of Numerical features"
   ]
  },
  {
   "cell_type": "code",
   "execution_count": 46,
   "id": "finite-wrapping",
   "metadata": {},
   "outputs": [
    {
     "data": {
      "image/png": "[encoded data removed]",
      "text/plain": [
       "<Figure size 599.75x540 with 12 Axes>"
      ]
     },
     "metadata": {
      "needs_background": "light"
     },
     "output_type": "display_data"
    }
   ],
   "source": [
    "sns.pairplot(data=df.loc[:,['Converted', 'TotalVisits', 'Total Time Spent on Website', 'Page Views Per Visit']],\n",
    "             hue='Converted')\n",
    "plt.show()"
   ]
  },
  {
   "cell_type": "markdown",
   "id": "simplified-protein",
   "metadata": {},
   "source": [
    "#### Multicollinearity"
   ]
  },
  {
   "cell_type": "code",
   "execution_count": 47,
   "id": "micro-mongolia",
   "metadata": {},
   "outputs": [
    {
     "data": {
      "image/png": "[encoded data removed]",
      "text/plain": [
       "<Figure size 720x576 with 2 Axes>"
      ]
     },
     "metadata": {
      "needs_background": "light"
     },
     "output_type": "display_data"
    }
   ],
   "source": [
    "#Checking correlations of numeric values\n",
    "# figure size\n",
    "plt.figure(figsize=(10,8))\n",
    "\n",
    "# heatmap\n",
    "sns.heatmap(df.corr(), cmap=\"YlGnBu\", annot=True)\n",
    "plt.show()"
   ]
  },
  {
   "cell_type": "markdown",
   "id": "touched-sheffield",
   "metadata": {},
   "source": [
    "Inference:\n",
    "- No notable multicillinearity is evident from the heatmap."
   ]
  },
  {
   "cell_type": "code",
   "execution_count": 48,
   "id": "appointed-winter",
   "metadata": {},
   "outputs": [
    {
     "data": {
      "text/plain": [
       "44.16894664842681"
      ]
     },
     "execution_count": 48,
     "metadata": {},
     "output_type": "execute_result"
    }
   ],
   "source": [
    "conv_rate = (sum(df.Converted)/len(df.Converted))*100\n",
    "conv_rate"
   ]
  },
  {
   "cell_type": "markdown",
   "id": "closed-scratch",
   "metadata": {},
   "source": [
    "We have **44 %** conversion rate"
   ]
  },
  {
   "cell_type": "markdown",
   "id": "arctic-annual",
   "metadata": {},
   "source": [
    "---"
   ]
  },
  {
   "cell_type": "markdown",
   "id": "mighty-style",
   "metadata": {},
   "source": [
    "### Dummy Variable Creation"
   ]
  },
  {
   "cell_type": "markdown",
   "id": "several-sampling",
   "metadata": {},
   "source": [
    "##### For modelling we will not be considering `Prospect ID`, `Lead Number`."
   ]
  },
  {
   "cell_type": "code",
   "execution_count": 49,
   "id": "interracial-robertson",
   "metadata": {},
   "outputs": [
    {
     "name": "stdout",
     "output_type": "stream",
     "text": [
      "<class 'pandas.core.frame.DataFrame'>\n",
      "Int64Index: 5848 entries, 2 to 9239\n",
      "Data columns (total 12 columns):\n",
      " #   Column                                  Non-Null Count  Dtype  \n",
      "---  ------                                  --------------  -----  \n",
      " 0   Lead Origin                             5848 non-null   object \n",
      " 1   Lead Source                             5848 non-null   object \n",
      " 2   Do Not Email                            5848 non-null   int64  \n",
      " 3   Converted                               5848 non-null   int64  \n",
      " 4   TotalVisits                             5848 non-null   int64  \n",
      " 5   Total Time Spent on Website             5848 non-null   int64  \n",
      " 6   Page Views Per Visit                    5848 non-null   float64\n",
      " 7   Last Activity                           5848 non-null   object \n",
      " 8   Specialization                          5848 non-null   object \n",
      " 9   What is your current occupation         5848 non-null   object \n",
      " 10  A free copy of Mastering The Interview  5848 non-null   int64  \n",
      " 11  Last Notable Activity                   5848 non-null   object \n",
      "dtypes: float64(1), int64(5), object(6)\n",
      "memory usage: 723.0+ KB\n"
     ]
    }
   ],
   "source": [
    "df = df.iloc[:, 2:]\n",
    "df.info()"
   ]
  },
  {
   "cell_type": "markdown",
   "id": "tested-passion",
   "metadata": {},
   "source": [
    "Dummies will be created for the following columns:\n",
    "- `Lead Origin`, `Lead Source`,`Last Activity`, `Specialization`, `What is your current occupation`, `Last Notable Activity`"
   ]
  },
  {
   "cell_type": "code",
   "execution_count": 50,
   "id": "developmental-weather",
   "metadata": {},
   "outputs": [
    {
     "name": "stdout",
     "output_type": "stream",
     "text": [
      "<class 'pandas.core.frame.DataFrame'>\n",
      "RangeIndex: 5848 entries, 0 to 5847\n",
      "Data columns (total 79 columns):\n",
      " #   Column                                                Non-Null Count  Dtype  \n",
      "---  ------                                                --------------  -----  \n",
      " 0   Do Not Email                                          5848 non-null   int64  \n",
      " 1   Converted                                             5848 non-null   int64  \n",
      " 2   TotalVisits                                           5848 non-null   int64  \n",
      " 3   Total Time Spent on Website                           5848 non-null   int64  \n",
      " 4   Page Views Per Visit                                  5848 non-null   float64\n",
      " 5   A free copy of Mastering The Interview                5848 non-null   int64  \n",
      " 6   Lead Origin_Landing Page Submission                   5848 non-null   int64  \n",
      " 7   Lead Origin_Lead Add Form                             5848 non-null   int64  \n",
      " 8   Lead Origin_Lead Import                               5848 non-null   int64  \n",
      " 9   Lead Source_Direct Traffic                            5848 non-null   int64  \n",
      " 10  Lead Source_Facebook                                  5848 non-null   int64  \n",
      " 11  Lead Source_Google                                    5848 non-null   int64  \n",
      " 12  Lead Source_NC_EDM                                    5848 non-null   int64  \n",
      " 13  Lead Source_Olark Chat                                5848 non-null   int64  \n",
      " 14  Lead Source_Organic Search                            5848 non-null   int64  \n",
      " 15  Lead Source_Pay per Click Ads                         5848 non-null   int64  \n",
      " 16  Lead Source_Press_Release                             5848 non-null   int64  \n",
      " 17  Lead Source_Reference                                 5848 non-null   int64  \n",
      " 18  Lead Source_Referral Sites                            5848 non-null   int64  \n",
      " 19  Lead Source_Social Media                              5848 non-null   int64  \n",
      " 20  Lead Source_WeLearn                                   5848 non-null   int64  \n",
      " 21  Lead Source_Welingak Website                          5848 non-null   int64  \n",
      " 22  Lead Source_bing                                      5848 non-null   int64  \n",
      " 23  Lead Source_blog                                      5848 non-null   int64  \n",
      " 24  Lead Source_testone                                   5848 non-null   int64  \n",
      " 25  Lead Source_welearnblog_Home                          5848 non-null   int64  \n",
      " 26  Lead Source_youtubechannel                            5848 non-null   int64  \n",
      " 27  Last Activity_Approached upfront                      5848 non-null   int64  \n",
      " 28  Last Activity_Converted to Lead                       5848 non-null   int64  \n",
      " 29  Last Activity_Email Bounced                           5848 non-null   int64  \n",
      " 30  Last Activity_Email Link Clicked                      5848 non-null   int64  \n",
      " 31  Last Activity_Email Marked Spam                       5848 non-null   int64  \n",
      " 32  Last Activity_Email Opened                            5848 non-null   int64  \n",
      " 33  Last Activity_Email Received                          5848 non-null   int64  \n",
      " 34  Last Activity_Form Submitted on Website               5848 non-null   int64  \n",
      " 35  Last Activity_Had a Phone Conversation                5848 non-null   int64  \n",
      " 36  Last Activity_Olark Chat Conversation                 5848 non-null   int64  \n",
      " 37  Last Activity_Page Visited on Website                 5848 non-null   int64  \n",
      " 38  Last Activity_SMS Sent                                5848 non-null   int64  \n",
      " 39  Last Activity_Unreachable                             5848 non-null   int64  \n",
      " 40  Last Activity_Unsubscribed                            5848 non-null   int64  \n",
      " 41  Last Activity_View in browser link Clicked            5848 non-null   int64  \n",
      " 42  Last Activity_Visited Booth in Tradeshow              5848 non-null   int64  \n",
      " 43  Specialization_Business Administration                5848 non-null   int64  \n",
      " 44  Specialization_E-Business                             5848 non-null   int64  \n",
      " 45  Specialization_E-COMMERCE                             5848 non-null   int64  \n",
      " 46  Specialization_Finance Management                     5848 non-null   int64  \n",
      " 47  Specialization_Healthcare Management                  5848 non-null   int64  \n",
      " 48  Specialization_Hospitality Management                 5848 non-null   int64  \n",
      " 49  Specialization_Human Resource Management              5848 non-null   int64  \n",
      " 50  Specialization_IT Projects Management                 5848 non-null   int64  \n",
      " 51  Specialization_International Business                 5848 non-null   int64  \n",
      " 52  Specialization_Marketing Management                   5848 non-null   int64  \n",
      " 53  Specialization_Media and Advertising                  5848 non-null   int64  \n",
      " 54  Specialization_Operations Management                  5848 non-null   int64  \n",
      " 55  Specialization_Retail Management                      5848 non-null   int64  \n",
      " 56  Specialization_Rural and Agribusiness                 5848 non-null   int64  \n",
      " 57  Specialization_Services Excellence                    5848 non-null   int64  \n",
      " 58  Specialization_Supply Chain Management                5848 non-null   int64  \n",
      " 59  Specialization_Travel and Tourism                     5848 non-null   int64  \n",
      " 60  What is your current occupation_Housewife             5848 non-null   int64  \n",
      " 61  What is your current occupation_Other                 5848 non-null   int64  \n",
      " 62  What is your current occupation_Student               5848 non-null   int64  \n",
      " 63  What is your current occupation_Unemployed            5848 non-null   int64  \n",
      " 64  What is your current occupation_Working Professional  5848 non-null   int64  \n",
      " 65  Last Notable Activity_Email Bounced                   5848 non-null   int64  \n",
      " 66  Last Notable Activity_Email Link Clicked              5848 non-null   int64  \n",
      " 67  Last Notable Activity_Email Marked Spam               5848 non-null   int64  \n",
      " 68  Last Notable Activity_Email Opened                    5848 non-null   int64  \n",
      " 69  Last Notable Activity_Email Received                  5848 non-null   int64  \n",
      " 70  Last Notable Activity_Form Submitted on Website       5848 non-null   int64  \n",
      " 71  Last Notable Activity_Had a Phone Conversation        5848 non-null   int64  \n",
      " 72  Last Notable Activity_Modified                        5848 non-null   int64  \n",
      " 73  Last Notable Activity_Olark Chat Conversation         5848 non-null   int64  \n",
      " 74  Last Notable Activity_Page Visited on Website         5848 non-null   int64  \n",
      " 75  Last Notable Activity_SMS Sent                        5848 non-null   int64  \n",
      " 76  Last Notable Activity_Unreachable                     5848 non-null   int64  \n",
      " 77  Last Notable Activity_Unsubscribed                    5848 non-null   int64  \n",
      " 78  Last Notable Activity_View in browser link Clicked    5848 non-null   int64  \n",
      "dtypes: float64(1), int64(78)\n",
      "memory usage: 3.5 MB\n"
     ]
    }
   ],
   "source": [
    "text_col = [\"Lead Origin\", \"Lead Source\",\"Last Activity\", \"Specialization\", \"What is your current occupation\", 'Last Notable Activity']\n",
    "dummies = pd.get_dummies(df[text_col], drop_first=True, dtype='int64') # creating dummies & cganging dtype to int\n",
    "leads = pd.concat([df,dummies],axis=1).drop(text_col,axis=1).reset_index(drop = True) # concatenating with the cleaned data \n",
    "                                                                                      # & dropping the redundant columns\n",
    "leads.info()"
   ]
  },
  {
   "cell_type": "markdown",
   "id": "ambient-basketball",
   "metadata": {},
   "source": [
    "---"
   ]
  },
  {
   "cell_type": "markdown",
   "id": "tribal-booking",
   "metadata": {},
   "source": [
    "### Train test split"
   ]
  },
  {
   "cell_type": "code",
   "execution_count": 51,
   "id": "falling-lyric",
   "metadata": {},
   "outputs": [
    {
     "data": {
      "text/plain": [
       "0    1\n",
       "1    0\n",
       "2    1\n",
       "3    0\n",
       "4    0\n",
       "Name: Converted, dtype: int64"
      ]
     },
     "execution_count": 51,
     "metadata": {},
     "output_type": "execute_result"
    }
   ],
   "source": [
    "# Target Variable\n",
    "y = leads['Converted']\n",
    "y.head()"
   ]
  },
  {
   "cell_type": "code",
   "execution_count": 52,
   "id": "suburban-tradition",
   "metadata": {},
   "outputs": [],
   "source": [
    "#Predictor Variable\n",
    "X = leads.drop(['Converted'], axis=1)\n",
    "\n",
    "# Spitting into 70% train and 30% test\n",
    "X_train, X_test, y_train, y_test = train_test_split(X, y, train_size=0.7, test_size=0.3, random_state=100)"
   ]
  },
  {
   "cell_type": "markdown",
   "id": "spread-dependence",
   "metadata": {},
   "source": [
    "---\n"
   ]
  },
  {
   "cell_type": "markdown",
   "id": "joint-pressure",
   "metadata": {},
   "source": [
    "### Feature Scaling"
   ]
  },
  {
   "cell_type": "code",
   "execution_count": 53,
   "id": "incredible-metallic",
   "metadata": {},
   "outputs": [
    {
     "data": {
      "text/html": [
       "<div>\n",
       "<style scoped>\n",
       "    .dataframe tbody tr th:only-of-type {\n",
       "        vertical-align: middle;\n",
       "    }\n",
       "\n",
       "    .dataframe tbody tr th {\n",
       "        vertical-align: top;\n",
       "    }\n",
       "\n",
       "    .dataframe thead th {\n",
       "        text-align: right;\n",
       "    }\n",
       "</style>\n",
       "<table border=\"1\" class=\"dataframe\">\n",
       "  <thead>\n",
       "    <tr style=\"text-align: right;\">\n",
       "      <th></th>\n",
       "      <th>Do Not Email</th>\n",
       "      <th>TotalVisits</th>\n",
       "      <th>Total Time Spent on Website</th>\n",
       "      <th>Page Views Per Visit</th>\n",
       "      <th>A free copy of Mastering The Interview</th>\n",
       "      <th>Lead Origin_Landing Page Submission</th>\n",
       "      <th>Lead Origin_Lead Add Form</th>\n",
       "      <th>Lead Origin_Lead Import</th>\n",
       "      <th>Lead Source_Direct Traffic</th>\n",
       "      <th>Lead Source_Facebook</th>\n",
       "      <th>...</th>\n",
       "      <th>Last Notable Activity_Email Received</th>\n",
       "      <th>Last Notable Activity_Form Submitted on Website</th>\n",
       "      <th>Last Notable Activity_Had a Phone Conversation</th>\n",
       "      <th>Last Notable Activity_Modified</th>\n",
       "      <th>Last Notable Activity_Olark Chat Conversation</th>\n",
       "      <th>Last Notable Activity_Page Visited on Website</th>\n",
       "      <th>Last Notable Activity_SMS Sent</th>\n",
       "      <th>Last Notable Activity_Unreachable</th>\n",
       "      <th>Last Notable Activity_Unsubscribed</th>\n",
       "      <th>Last Notable Activity_View in browser link Clicked</th>\n",
       "    </tr>\n",
       "  </thead>\n",
       "  <tbody>\n",
       "    <tr>\n",
       "      <th>4988</th>\n",
       "      <td>0</td>\n",
       "      <td>-0.352707</td>\n",
       "      <td>-0.225486</td>\n",
       "      <td>-0.012325</td>\n",
       "      <td>1</td>\n",
       "      <td>1</td>\n",
       "      <td>0</td>\n",
       "      <td>0</td>\n",
       "      <td>1</td>\n",
       "      <td>0</td>\n",
       "      <td>...</td>\n",
       "      <td>0</td>\n",
       "      <td>0</td>\n",
       "      <td>0</td>\n",
       "      <td>0</td>\n",
       "      <td>0</td>\n",
       "      <td>0</td>\n",
       "      <td>0</td>\n",
       "      <td>0</td>\n",
       "      <td>0</td>\n",
       "      <td>0</td>\n",
       "    </tr>\n",
       "    <tr>\n",
       "      <th>3137</th>\n",
       "      <td>0</td>\n",
       "      <td>0.794397</td>\n",
       "      <td>-0.584263</td>\n",
       "      <td>0.231807</td>\n",
       "      <td>0</td>\n",
       "      <td>1</td>\n",
       "      <td>0</td>\n",
       "      <td>0</td>\n",
       "      <td>0</td>\n",
       "      <td>0</td>\n",
       "      <td>...</td>\n",
       "      <td>0</td>\n",
       "      <td>0</td>\n",
       "      <td>0</td>\n",
       "      <td>1</td>\n",
       "      <td>0</td>\n",
       "      <td>0</td>\n",
       "      <td>0</td>\n",
       "      <td>0</td>\n",
       "      <td>0</td>\n",
       "      <td>0</td>\n",
       "    </tr>\n",
       "    <tr>\n",
       "      <th>2736</th>\n",
       "      <td>0</td>\n",
       "      <td>-0.065931</td>\n",
       "      <td>-1.073504</td>\n",
       "      <td>0.475940</td>\n",
       "      <td>0</td>\n",
       "      <td>1</td>\n",
       "      <td>0</td>\n",
       "      <td>0</td>\n",
       "      <td>0</td>\n",
       "      <td>0</td>\n",
       "      <td>...</td>\n",
       "      <td>0</td>\n",
       "      <td>0</td>\n",
       "      <td>0</td>\n",
       "      <td>1</td>\n",
       "      <td>0</td>\n",
       "      <td>0</td>\n",
       "      <td>0</td>\n",
       "      <td>0</td>\n",
       "      <td>0</td>\n",
       "      <td>0</td>\n",
       "    </tr>\n",
       "    <tr>\n",
       "      <th>2608</th>\n",
       "      <td>0</td>\n",
       "      <td>-0.352707</td>\n",
       "      <td>-0.899551</td>\n",
       "      <td>-0.012325</td>\n",
       "      <td>1</td>\n",
       "      <td>1</td>\n",
       "      <td>0</td>\n",
       "      <td>0</td>\n",
       "      <td>1</td>\n",
       "      <td>0</td>\n",
       "      <td>...</td>\n",
       "      <td>0</td>\n",
       "      <td>0</td>\n",
       "      <td>0</td>\n",
       "      <td>0</td>\n",
       "      <td>0</td>\n",
       "      <td>0</td>\n",
       "      <td>1</td>\n",
       "      <td>0</td>\n",
       "      <td>0</td>\n",
       "      <td>0</td>\n",
       "    </tr>\n",
       "    <tr>\n",
       "      <th>4916</th>\n",
       "      <td>0</td>\n",
       "      <td>-0.926259</td>\n",
       "      <td>-0.752779</td>\n",
       "      <td>-0.988857</td>\n",
       "      <td>0</td>\n",
       "      <td>1</td>\n",
       "      <td>0</td>\n",
       "      <td>0</td>\n",
       "      <td>1</td>\n",
       "      <td>0</td>\n",
       "      <td>...</td>\n",
       "      <td>0</td>\n",
       "      <td>0</td>\n",
       "      <td>0</td>\n",
       "      <td>1</td>\n",
       "      <td>0</td>\n",
       "      <td>0</td>\n",
       "      <td>0</td>\n",
       "      <td>0</td>\n",
       "      <td>0</td>\n",
       "      <td>0</td>\n",
       "    </tr>\n",
       "  </tbody>\n",
       "</table>\n",
       "<p>5 rows × 78 columns</p>\n",
       "</div>"
      ],
      "text/plain": [
       "      Do Not Email  TotalVisits  Total Time Spent on Website  \\\n",
       "4988             0    -0.352707                    -0.225486   \n",
       "3137             0     0.794397                    -0.584263   \n",
       "2736             0    -0.065931                    -1.073504   \n",
       "2608             0    -0.352707                    -0.899551   \n",
       "4916             0    -0.926259                    -0.752779   \n",
       "\n",
       "      Page Views Per Visit  A free copy of Mastering The Interview  \\\n",
       "4988             -0.012325                                       1   \n",
       "3137              0.231807                                       0   \n",
       "2736              0.475940                                       0   \n",
       "2608             -0.012325                                       1   \n",
       "4916             -0.988857                                       0   \n",
       "\n",
       "      Lead Origin_Landing Page Submission  Lead Origin_Lead Add Form  \\\n",
       "4988                                    1                          0   \n",
       "3137                                    1                          0   \n",
       "2736                                    1                          0   \n",
       "2608                                    1                          0   \n",
       "4916                                    1                          0   \n",
       "\n",
       "      Lead Origin_Lead Import  Lead Source_Direct Traffic  \\\n",
       "4988                        0                           1   \n",
       "3137                        0                           0   \n",
       "2736                        0                           0   \n",
       "2608                        0                           1   \n",
       "4916                        0                           1   \n",
       "\n",
       "      Lead Source_Facebook  ...  Last Notable Activity_Email Received  \\\n",
       "4988                     0  ...                                     0   \n",
       "3137                     0  ...                                     0   \n",
       "2736                     0  ...                                     0   \n",
       "2608                     0  ...                                     0   \n",
       "4916                     0  ...                                     0   \n",
       "\n",
       "      Last Notable Activity_Form Submitted on Website  \\\n",
       "4988                                                0   \n",
       "3137                                                0   \n",
       "2736                                                0   \n",
       "2608                                                0   \n",
       "4916                                                0   \n",
       "\n",
       "      Last Notable Activity_Had a Phone Conversation  \\\n",
       "4988                                               0   \n",
       "3137                                               0   \n",
       "2736                                               0   \n",
       "2608                                               0   \n",
       "4916                                               0   \n",
       "\n",
       "      Last Notable Activity_Modified  \\\n",
       "4988                               0   \n",
       "3137                               1   \n",
       "2736                               1   \n",
       "2608                               0   \n",
       "4916                               1   \n",
       "\n",
       "      Last Notable Activity_Olark Chat Conversation  \\\n",
       "4988                                              0   \n",
       "3137                                              0   \n",
       "2736                                              0   \n",
       "2608                                              0   \n",
       "4916                                              0   \n",
       "\n",
       "      Last Notable Activity_Page Visited on Website  \\\n",
       "4988                                              0   \n",
       "3137                                              0   \n",
       "2736                                              0   \n",
       "2608                                              0   \n",
       "4916                                              0   \n",
       "\n",
       "      Last Notable Activity_SMS Sent  Last Notable Activity_Unreachable  \\\n",
       "4988                               0                                  0   \n",
       "3137                               0                                  0   \n",
       "2736                               0                                  0   \n",
       "2608                               1                                  0   \n",
       "4916                               0                                  0   \n",
       "\n",
       "      Last Notable Activity_Unsubscribed  \\\n",
       "4988                                   0   \n",
       "3137                                   0   \n",
       "2736                                   0   \n",
       "2608                                   0   \n",
       "4916                                   0   \n",
       "\n",
       "      Last Notable Activity_View in browser link Clicked  \n",
       "4988                                                  0   \n",
       "3137                                                  0   \n",
       "2736                                                  0   \n",
       "2608                                                  0   \n",
       "4916                                                  0   \n",
       "\n",
       "[5 rows x 78 columns]"
      ]
     },
     "execution_count": 53,
     "metadata": {},
     "output_type": "execute_result"
    }
   ],
   "source": [
    "num_vars = ['TotalVisits', 'Total Time Spent on Website', 'Page Views Per Visit']\n",
    "\n",
    "scaler = StandardScaler()\n",
    "\n",
    "X_train[num_vars] = scaler.fit_transform(X_train[num_vars])\n",
    "\n",
    "X_train.head()"
   ]
  },
  {
   "cell_type": "markdown",
   "id": "rotary-volume",
   "metadata": {},
   "source": [
    "---"
   ]
  },
  {
   "cell_type": "markdown",
   "id": "tough-literature",
   "metadata": {},
   "source": [
    "---"
   ]
  },
  {
   "cell_type": "markdown",
   "id": "communist-implement",
   "metadata": {},
   "source": [
    "## Model Building\n"
   ]
  },
  {
   "cell_type": "markdown",
   "id": "recovered-jason",
   "metadata": {},
   "source": [
    "### Feature Selection Using RFE"
   ]
  },
  {
   "cell_type": "code",
   "execution_count": 55,
   "id": "forbidden-logging",
   "metadata": {},
   "outputs": [],
   "source": [
    "logreg = LogisticRegression()\n",
    "rfe = RFE(logreg, 15)          \n",
    "rfe = rfe.fit(X_train, y_train)"
   ]
  },
  {
   "cell_type": "code",
   "execution_count": 56,
   "id": "seeing-alcohol",
   "metadata": {},
   "outputs": [
    {
     "data": {
      "text/plain": [
       "array([ True, False,  True, False, False,  True,  True, False, False,\n",
       "       False, False, False, False, False, False, False, False, False,\n",
       "       False, False, False, False, False, False, False, False, False,\n",
       "       False, False, False, False,  True, False, False, False, False,\n",
       "       False,  True, False,  True, False, False, False, False, False,\n",
       "       False, False, False, False, False, False, False, False, False,\n",
       "       False, False, False, False, False,  True, False, False,  True,\n",
       "        True, False, False, False,  True, False, False,  True,  True,\n",
       "        True, False, False,  True, False, False])"
      ]
     },
     "execution_count": 56,
     "metadata": {},
     "output_type": "execute_result"
    }
   ],
   "source": [
    "rfe.support_"
   ]
  },
  {
   "cell_type": "code",
   "execution_count": 57,
   "id": "agricultural-lambda",
   "metadata": {},
   "outputs": [
    {
     "data": {
      "text/plain": [
       "[('Do Not Email', True, 1),\n",
       " ('TotalVisits', False, 33),\n",
       " ('Total Time Spent on Website', True, 1),\n",
       " ('Page Views Per Visit', False, 34),\n",
       " ('A free copy of Mastering The Interview', False, 37),\n",
       " ('Lead Origin_Landing Page Submission', True, 1),\n",
       " ('Lead Origin_Lead Add Form', True, 1),\n",
       " ('Lead Origin_Lead Import', False, 24),\n",
       " ('Lead Source_Direct Traffic', False, 2),\n",
       " ('Lead Source_Facebook', False, 15),\n",
       " ('Lead Source_Google', False, 4),\n",
       " ('Lead Source_NC_EDM', False, 22),\n",
       " ('Lead Source_Olark Chat', False, 38),\n",
       " ('Lead Source_Organic Search', False, 3),\n",
       " ('Lead Source_Pay per Click Ads', False, 35),\n",
       " ('Lead Source_Press_Release', False, 47),\n",
       " ('Lead Source_Reference', False, 14),\n",
       " ('Lead Source_Referral Sites', False, 13),\n",
       " ('Lead Source_Social Media', False, 21),\n",
       " ('Lead Source_WeLearn', False, 60),\n",
       " ('Lead Source_Welingak Website', False, 5),\n",
       " ('Lead Source_bing', False, 62),\n",
       " ('Lead Source_blog', False, 17),\n",
       " ('Lead Source_testone', False, 28),\n",
       " ('Lead Source_welearnblog_Home', False, 27),\n",
       " ('Lead Source_youtubechannel', False, 20),\n",
       " ('Last Activity_Approached upfront', False, 10),\n",
       " ('Last Activity_Converted to Lead', False, 50),\n",
       " ('Last Activity_Email Bounced', False, 6),\n",
       " ('Last Activity_Email Link Clicked', False, 12),\n",
       " ('Last Activity_Email Marked Spam', False, 64),\n",
       " ('Last Activity_Email Opened', True, 1),\n",
       " ('Last Activity_Email Received', False, 43),\n",
       " ('Last Activity_Form Submitted on Website', False, 51),\n",
       " ('Last Activity_Had a Phone Conversation', False, 25),\n",
       " ('Last Activity_Olark Chat Conversation', False, 31),\n",
       " ('Last Activity_Page Visited on Website', False, 32),\n",
       " ('Last Activity_SMS Sent', True, 1),\n",
       " ('Last Activity_Unreachable', False, 9),\n",
       " ('Last Activity_Unsubscribed', True, 1),\n",
       " ('Last Activity_View in browser link Clicked', False, 48),\n",
       " ('Last Activity_Visited Booth in Tradeshow', False, 63),\n",
       " ('Specialization_Business Administration', False, 55),\n",
       " ('Specialization_E-Business', False, 46),\n",
       " ('Specialization_E-COMMERCE', False, 8),\n",
       " ('Specialization_Finance Management', False, 52),\n",
       " ('Specialization_Healthcare Management', False, 39),\n",
       " ('Specialization_Hospitality Management', False, 7),\n",
       " ('Specialization_Human Resource Management', False, 44),\n",
       " ('Specialization_IT Projects Management', False, 58),\n",
       " ('Specialization_International Business', False, 16),\n",
       " ('Specialization_Marketing Management', False, 59),\n",
       " ('Specialization_Media and Advertising', False, 41),\n",
       " ('Specialization_Operations Management', False, 56),\n",
       " ('Specialization_Retail Management', False, 30),\n",
       " ('Specialization_Rural and Agribusiness', False, 40),\n",
       " ('Specialization_Services Excellence', False, 42),\n",
       " ('Specialization_Supply Chain Management', False, 57),\n",
       " ('Specialization_Travel and Tourism', False, 54),\n",
       " ('What is your current occupation_Housewife', True, 1),\n",
       " ('What is your current occupation_Other', False, 23),\n",
       " ('What is your current occupation_Student', False, 26),\n",
       " ('What is your current occupation_Unemployed', True, 1),\n",
       " ('What is your current occupation_Working Professional', True, 1),\n",
       " ('Last Notable Activity_Email Bounced', False, 36),\n",
       " ('Last Notable Activity_Email Link Clicked', False, 11),\n",
       " ('Last Notable Activity_Email Marked Spam', False, 61),\n",
       " ('Last Notable Activity_Email Opened', True, 1),\n",
       " ('Last Notable Activity_Email Received', False, 49),\n",
       " ('Last Notable Activity_Form Submitted on Website', False, 45),\n",
       " ('Last Notable Activity_Had a Phone Conversation', True, 1),\n",
       " ('Last Notable Activity_Modified', True, 1),\n",
       " ('Last Notable Activity_Olark Chat Conversation', True, 1),\n",
       " ('Last Notable Activity_Page Visited on Website', False, 53),\n",
       " ('Last Notable Activity_SMS Sent', False, 19),\n",
       " ('Last Notable Activity_Unreachable', True, 1),\n",
       " ('Last Notable Activity_Unsubscribed', False, 18),\n",
       " ('Last Notable Activity_View in browser link Clicked', False, 29)]"
      ]
     },
     "execution_count": 57,
     "metadata": {},
     "output_type": "execute_result"
    }
   ],
   "source": [
    "list(zip(X_train.columns, rfe.support_, rfe.ranking_))"
   ]
  },
  {
   "cell_type": "code",
   "execution_count": 58,
   "id": "dependent-stake",
   "metadata": {},
   "outputs": [
    {
     "data": {
      "text/plain": [
       "Index(['TotalVisits', 'Page Views Per Visit',\n",
       "       'A free copy of Mastering The Interview', 'Lead Origin_Lead Import',\n",
       "       'Lead Source_Direct Traffic', 'Lead Source_Facebook',\n",
       "       'Lead Source_Google', 'Lead Source_NC_EDM', 'Lead Source_Olark Chat',\n",
       "       'Lead Source_Organic Search', 'Lead Source_Pay per Click Ads',\n",
       "       'Lead Source_Press_Release', 'Lead Source_Reference',\n",
       "       'Lead Source_Referral Sites', 'Lead Source_Social Media',\n",
       "       'Lead Source_WeLearn', 'Lead Source_Welingak Website',\n",
       "       'Lead Source_bing', 'Lead Source_blog', 'Lead Source_testone',\n",
       "       'Lead Source_welearnblog_Home', 'Lead Source_youtubechannel',\n",
       "       'Last Activity_Approached upfront', 'Last Activity_Converted to Lead',\n",
       "       'Last Activity_Email Bounced', 'Last Activity_Email Link Clicked',\n",
       "       'Last Activity_Email Marked Spam', 'Last Activity_Email Received',\n",
       "       'Last Activity_Form Submitted on Website',\n",
       "       'Last Activity_Had a Phone Conversation',\n",
       "       'Last Activity_Olark Chat Conversation',\n",
       "       'Last Activity_Page Visited on Website', 'Last Activity_Unreachable',\n",
       "       'Last Activity_View in browser link Clicked',\n",
       "       'Last Activity_Visited Booth in Tradeshow',\n",
       "       'Specialization_Business Administration', 'Specialization_E-Business',\n",
       "       'Specialization_E-COMMERCE', 'Specialization_Finance Management',\n",
       "       'Specialization_Healthcare Management',\n",
       "       'Specialization_Hospitality Management',\n",
       "       'Specialization_Human Resource Management',\n",
       "       'Specialization_IT Projects Management',\n",
       "       'Specialization_International Business',\n",
       "       'Specialization_Marketing Management',\n",
       "       'Specialization_Media and Advertising',\n",
       "       'Specialization_Operations Management',\n",
       "       'Specialization_Retail Management',\n",
       "       'Specialization_Rural and Agribusiness',\n",
       "       'Specialization_Services Excellence',\n",
       "       'Specialization_Supply Chain Management',\n",
       "       'Specialization_Travel and Tourism',\n",
       "       'What is your current occupation_Other',\n",
       "       'What is your current occupation_Student',\n",
       "       'Last Notable Activity_Email Bounced',\n",
       "       'Last Notable Activity_Email Link Clicked',\n",
       "       'Last Notable Activity_Email Marked Spam',\n",
       "       'Last Notable Activity_Email Received',\n",
       "       'Last Notable Activity_Form Submitted on Website',\n",
       "       'Last Notable Activity_Page Visited on Website',\n",
       "       'Last Notable Activity_SMS Sent', 'Last Notable Activity_Unsubscribed',\n",
       "       'Last Notable Activity_View in browser link Clicked'],\n",
       "      dtype='object')"
      ]
     },
     "execution_count": 58,
     "metadata": {},
     "output_type": "execute_result"
    }
   ],
   "source": [
    "col = X_train.columns[rfe.support_]\n",
    "X_train_rfe = X_train[col]\n",
    "X_train.columns[~rfe.support_]"
   ]
  },
  {
   "cell_type": "markdown",
   "id": "specialized-criminal",
   "metadata": {},
   "source": [
    "### Using stats model we'll build our model\n",
    "Steps:\n",
    "1. Create model, view summary.\n",
    "2. Analyse VIF measure of the amount of multicollinearity.\n",
    "3. Eliminating variables will be done on following hierarchy:\n",
    "    1. High p-value, High VIF.\n",
    "    2. High-Low:\n",
    "        - High p, Low VIF\n",
    "        - Low p, High VIF\n",
    "    3. Low p-value, Low VIF\n",
    "4. Above steps will be performed recursively untill the variables in the model variables has significant p-value."
   ]
  },
  {
   "cell_type": "markdown",
   "id": "complicated-carnival",
   "metadata": {},
   "source": [
    "#### Model 1"
   ]
  },
  {
   "cell_type": "code",
   "execution_count": 59,
   "id": "metallic-vessel",
   "metadata": {},
   "outputs": [
    {
     "data": {
      "text/html": [
       "<table class=\"simpletable\">\n",
       "<caption>Generalized Linear Model Regression Results</caption>\n",
       "<tr>\n",
       "  <th>Dep. Variable:</th>       <td>Converted</td>    <th>  No. Observations:  </th>  <td>  4093</td> \n",
       "</tr>\n",
       "<tr>\n",
       "  <th>Model:</th>                  <td>GLM</td>       <th>  Df Residuals:      </th>  <td>  4077</td> \n",
       "</tr>\n",
       "<tr>\n",
       "  <th>Model Family:</th>        <td>Binomial</td>     <th>  Df Model:          </th>  <td>    15</td> \n",
       "</tr>\n",
       "<tr>\n",
       "  <th>Link Function:</th>         <td>logit</td>      <th>  Scale:             </th> <td>  1.0000</td>\n",
       "</tr>\n",
       "<tr>\n",
       "  <th>Method:</th>                <td>IRLS</td>       <th>  Log-Likelihood:    </th> <td> -1775.1</td>\n",
       "</tr>\n",
       "<tr>\n",
       "  <th>Date:</th>            <td>Tue, 07 Dec 2021</td> <th>  Deviance:          </th> <td>  3550.2</td>\n",
       "</tr>\n",
       "<tr>\n",
       "  <th>Time:</th>                <td>13:35:43</td>     <th>  Pearson chi2:      </th> <td>4.50e+03</td>\n",
       "</tr>\n",
       "<tr>\n",
       "  <th>No. Iterations:</th>         <td>21</td>        <th>  Pseudo R-squ. (CS):</th>  <td>0.3970</td> \n",
       "</tr>\n",
       "<tr>\n",
       "  <th>Covariance Type:</th>     <td>nonrobust</td>    <th>                     </th>     <td> </td>   \n",
       "</tr>\n",
       "</table>\n",
       "<table class=\"simpletable\">\n",
       "<tr>\n",
       "                            <td></td>                              <th>coef</th>     <th>std err</th>      <th>z</th>      <th>P>|z|</th>  <th>[0.025</th>    <th>0.975]</th>  \n",
       "</tr>\n",
       "<tr>\n",
       "  <th>const</th>                                                <td>    1.3920</td> <td>    0.308</td> <td>    4.524</td> <td> 0.000</td> <td>    0.789</td> <td>    1.995</td>\n",
       "</tr>\n",
       "<tr>\n",
       "  <th>Do Not Email</th>                                         <td>   -1.6564</td> <td>    0.234</td> <td>   -7.077</td> <td> 0.000</td> <td>   -2.115</td> <td>   -1.198</td>\n",
       "</tr>\n",
       "<tr>\n",
       "  <th>Total Time Spent on Website</th>                          <td>    1.0216</td> <td>    0.045</td> <td>   22.720</td> <td> 0.000</td> <td>    0.934</td> <td>    1.110</td>\n",
       "</tr>\n",
       "<tr>\n",
       "  <th>Lead Origin_Landing Page Submission</th>                  <td>   -1.3641</td> <td>    0.130</td> <td>  -10.498</td> <td> 0.000</td> <td>   -1.619</td> <td>   -1.109</td>\n",
       "</tr>\n",
       "<tr>\n",
       "  <th>Lead Origin_Lead Add Form</th>                            <td>    2.6357</td> <td>    0.284</td> <td>    9.290</td> <td> 0.000</td> <td>    2.080</td> <td>    3.192</td>\n",
       "</tr>\n",
       "<tr>\n",
       "  <th>Last Activity_Email Opened</th>                           <td>    1.0120</td> <td>    0.194</td> <td>    5.215</td> <td> 0.000</td> <td>    0.632</td> <td>    1.392</td>\n",
       "</tr>\n",
       "<tr>\n",
       "  <th>Last Activity_SMS Sent</th>                               <td>    1.0903</td> <td>    0.135</td> <td>    8.048</td> <td> 0.000</td> <td>    0.825</td> <td>    1.356</td>\n",
       "</tr>\n",
       "<tr>\n",
       "  <th>Last Activity_Unsubscribed</th>                           <td>    1.8945</td> <td>    0.534</td> <td>    3.551</td> <td> 0.000</td> <td>    0.849</td> <td>    2.940</td>\n",
       "</tr>\n",
       "<tr>\n",
       "  <th>What is your current occupation_Housewife</th>            <td>   22.0780</td> <td> 1.34e+04</td> <td>    0.002</td> <td> 0.999</td> <td>-2.63e+04</td> <td> 2.64e+04</td>\n",
       "</tr>\n",
       "<tr>\n",
       "  <th>What is your current occupation_Unemployed</th>           <td>   -0.8882</td> <td>    0.265</td> <td>   -3.353</td> <td> 0.001</td> <td>   -1.407</td> <td>   -0.369</td>\n",
       "</tr>\n",
       "<tr>\n",
       "  <th>What is your current occupation_Working Professional</th> <td>    1.8504</td> <td>    0.333</td> <td>    5.553</td> <td> 0.000</td> <td>    1.197</td> <td>    2.504</td>\n",
       "</tr>\n",
       "<tr>\n",
       "  <th>Last Notable Activity_Email Opened</th>                   <td>   -1.1644</td> <td>    0.219</td> <td>   -5.319</td> <td> 0.000</td> <td>   -1.593</td> <td>   -0.735</td>\n",
       "</tr>\n",
       "<tr>\n",
       "  <th>Last Notable Activity_Had a Phone Conversation</th>       <td>    3.2075</td> <td>    1.091</td> <td>    2.941</td> <td> 0.003</td> <td>    1.070</td> <td>    5.345</td>\n",
       "</tr>\n",
       "<tr>\n",
       "  <th>Last Notable Activity_Modified</th>                       <td>   -1.2325</td> <td>    0.134</td> <td>   -9.187</td> <td> 0.000</td> <td>   -1.495</td> <td>   -0.970</td>\n",
       "</tr>\n",
       "<tr>\n",
       "  <th>Last Notable Activity_Olark Chat Conversation</th>        <td>   -1.0058</td> <td>    0.759</td> <td>   -1.326</td> <td> 0.185</td> <td>   -2.493</td> <td>    0.481</td>\n",
       "</tr>\n",
       "<tr>\n",
       "  <th>Last Notable Activity_Unreachable</th>                    <td>    1.4649</td> <td>    0.725</td> <td>    2.021</td> <td> 0.043</td> <td>    0.044</td> <td>    2.886</td>\n",
       "</tr>\n",
       "</table>"
      ],
      "text/plain": [
       "<class 'statsmodels.iolib.summary.Summary'>\n",
       "\"\"\"\n",
       "                 Generalized Linear Model Regression Results                  \n",
       "==============================================================================\n",
       "Dep. Variable:              Converted   No. Observations:                 4093\n",
       "Model:                            GLM   Df Residuals:                     4077\n",
       "Model Family:                Binomial   Df Model:                           15\n",
       "Link Function:                  logit   Scale:                          1.0000\n",
       "Method:                          IRLS   Log-Likelihood:                -1775.1\n",
       "Date:                Tue, 07 Dec 2021   Deviance:                       3550.2\n",
       "Time:                        13:35:43   Pearson chi2:                 4.50e+03\n",
       "No. Iterations:                    21   Pseudo R-squ. (CS):             0.3970\n",
       "Covariance Type:            nonrobust                                         \n",
       "========================================================================================================================\n",
       "                                                           coef    std err          z      P>|z|      [0.025      0.975]\n",
       "------------------------------------------------------------------------------------------------------------------------\n",
       "const                                                    1.3920      0.308      4.524      0.000       0.789       1.995\n",
       "Do Not Email                                            -1.6564      0.234     -7.077      0.000      -2.115      -1.198\n",
       "Total Time Spent on Website                              1.0216      0.045     22.720      0.000       0.934       1.110\n",
       "Lead Origin_Landing Page Submission                     -1.3641      0.130    -10.498      0.000      -1.619      -1.109\n",
       "Lead Origin_Lead Add Form                                2.6357      0.284      9.290      0.000       2.080       3.192\n",
       "Last Activity_Email Opened                               1.0120      0.194      5.215      0.000       0.632       1.392\n",
       "Last Activity_SMS Sent                                   1.0903      0.135      8.048      0.000       0.825       1.356\n",
       "Last Activity_Unsubscribed                               1.8945      0.534      3.551      0.000       0.849       2.940\n",
       "What is your current occupation_Housewife               22.0780   1.34e+04      0.002      0.999   -2.63e+04    2.64e+04\n",
       "What is your current occupation_Unemployed              -0.8882      0.265     -3.353      0.001      -1.407      -0.369\n",
       "What is your current occupation_Working Professional     1.8504      0.333      5.553      0.000       1.197       2.504\n",
       "Last Notable Activity_Email Opened                      -1.1644      0.219     -5.319      0.000      -1.593      -0.735\n",
       "Last Notable Activity_Had a Phone Conversation           3.2075      1.091      2.941      0.003       1.070       5.345\n",
       "Last Notable Activity_Modified                          -1.2325      0.134     -9.187      0.000      -1.495      -0.970\n",
       "Last Notable Activity_Olark Chat Conversation           -1.0058      0.759     -1.326      0.185      -2.493       0.481\n",
       "Last Notable Activity_Unreachable                        1.4649      0.725      2.021      0.043       0.044       2.886\n",
       "========================================================================================================================\n",
       "\"\"\""
      ]
     },
     "execution_count": 59,
     "metadata": {},
     "output_type": "execute_result"
    }
   ],
   "source": [
    "X_train_sm = sm.add_constant(X_train_rfe)\n",
    "logm1 = sm.GLM(y_train,X_train_sm, family = sm.families.Binomial())\n",
    "res = logm1.fit()\n",
    "res.summary()"
   ]
  },
  {
   "cell_type": "code",
   "execution_count": 60,
   "id": "stuffed-twins",
   "metadata": {},
   "outputs": [
    {
     "data": {
      "text/html": [
       "<div>\n",
       "<style scoped>\n",
       "    .dataframe tbody tr th:only-of-type {\n",
       "        vertical-align: middle;\n",
       "    }\n",
       "\n",
       "    .dataframe tbody tr th {\n",
       "        vertical-align: top;\n",
       "    }\n",
       "\n",
       "    .dataframe thead th {\n",
       "        text-align: right;\n",
       "    }\n",
       "</style>\n",
       "<table border=\"1\" class=\"dataframe\">\n",
       "  <thead>\n",
       "    <tr style=\"text-align: right;\">\n",
       "      <th></th>\n",
       "      <th>Features</th>\n",
       "      <th>VIF</th>\n",
       "    </tr>\n",
       "  </thead>\n",
       "  <tbody>\n",
       "    <tr>\n",
       "      <th>0</th>\n",
       "      <td>What is your current occupation_Unemployed</td>\n",
       "      <td>11.78</td>\n",
       "    </tr>\n",
       "    <tr>\n",
       "      <th>1</th>\n",
       "      <td>Last Notable Activity_Email Opened</td>\n",
       "      <td>9.60</td>\n",
       "    </tr>\n",
       "    <tr>\n",
       "      <th>2</th>\n",
       "      <td>Last Activity_Email Opened</td>\n",
       "      <td>8.57</td>\n",
       "    </tr>\n",
       "    <tr>\n",
       "      <th>3</th>\n",
       "      <td>Lead Origin_Landing Page Submission</td>\n",
       "      <td>7.31</td>\n",
       "    </tr>\n",
       "    <tr>\n",
       "      <th>4</th>\n",
       "      <td>Last Activity_SMS Sent</td>\n",
       "      <td>3.12</td>\n",
       "    </tr>\n",
       "    <tr>\n",
       "      <th>5</th>\n",
       "      <td>Last Notable Activity_Modified</td>\n",
       "      <td>2.88</td>\n",
       "    </tr>\n",
       "    <tr>\n",
       "      <th>6</th>\n",
       "      <td>What is your current occupation_Working Profes...</td>\n",
       "      <td>2.32</td>\n",
       "    </tr>\n",
       "    <tr>\n",
       "      <th>7</th>\n",
       "      <td>Lead Origin_Lead Add Form</td>\n",
       "      <td>1.64</td>\n",
       "    </tr>\n",
       "    <tr>\n",
       "      <th>8</th>\n",
       "      <td>Do Not Email</td>\n",
       "      <td>1.33</td>\n",
       "    </tr>\n",
       "    <tr>\n",
       "      <th>9</th>\n",
       "      <td>Last Activity_Unsubscribed</td>\n",
       "      <td>1.11</td>\n",
       "    </tr>\n",
       "    <tr>\n",
       "      <th>10</th>\n",
       "      <td>Total Time Spent on Website</td>\n",
       "      <td>1.08</td>\n",
       "    </tr>\n",
       "    <tr>\n",
       "      <th>11</th>\n",
       "      <td>Last Notable Activity_Olark Chat Conversation</td>\n",
       "      <td>1.04</td>\n",
       "    </tr>\n",
       "    <tr>\n",
       "      <th>12</th>\n",
       "      <td>What is your current occupation_Housewife</td>\n",
       "      <td>1.03</td>\n",
       "    </tr>\n",
       "    <tr>\n",
       "      <th>13</th>\n",
       "      <td>Last Notable Activity_Had a Phone Conversation</td>\n",
       "      <td>1.03</td>\n",
       "    </tr>\n",
       "    <tr>\n",
       "      <th>14</th>\n",
       "      <td>Last Notable Activity_Unreachable</td>\n",
       "      <td>1.03</td>\n",
       "    </tr>\n",
       "  </tbody>\n",
       "</table>\n",
       "</div>"
      ],
      "text/plain": [
       "                                             Features    VIF\n",
       "0          What is your current occupation_Unemployed  11.78\n",
       "1                  Last Notable Activity_Email Opened   9.60\n",
       "2                          Last Activity_Email Opened   8.57\n",
       "3                 Lead Origin_Landing Page Submission   7.31\n",
       "4                              Last Activity_SMS Sent   3.12\n",
       "5                      Last Notable Activity_Modified   2.88\n",
       "6   What is your current occupation_Working Profes...   2.32\n",
       "7                           Lead Origin_Lead Add Form   1.64\n",
       "8                                        Do Not Email   1.33\n",
       "9                          Last Activity_Unsubscribed   1.11\n",
       "10                        Total Time Spent on Website   1.08\n",
       "11      Last Notable Activity_Olark Chat Conversation   1.04\n",
       "12          What is your current occupation_Housewife   1.03\n",
       "13     Last Notable Activity_Had a Phone Conversation   1.03\n",
       "14                  Last Notable Activity_Unreachable   1.03"
      ]
     },
     "execution_count": 60,
     "metadata": {},
     "output_type": "execute_result"
    }
   ],
   "source": [
    "vif = pd.DataFrame()\n",
    "vif['Features'] = col\n",
    "vif['VIF'] = [variance_inflation_factor(X_train_rfe.values, i) for i in range(X_train_rfe.shape[1])]\n",
    "vif['VIF'] = round(vif['VIF'], 2)\n",
    "vif = vif.sort_values(by = \"VIF\", ascending = False).reset_index(drop=True)\n",
    "vif"
   ]
  },
  {
   "cell_type": "markdown",
   "id": "sharing-salmon",
   "metadata": {},
   "source": [
    "#### Model 2"
   ]
  },
  {
   "cell_type": "code",
   "execution_count": 61,
   "id": "classical-minneapolis",
   "metadata": {
    "scrolled": false
   },
   "outputs": [
    {
     "data": {
      "text/html": [
       "<table class=\"simpletable\">\n",
       "<caption>Generalized Linear Model Regression Results</caption>\n",
       "<tr>\n",
       "  <th>Dep. Variable:</th>       <td>Converted</td>    <th>  No. Observations:  </th>  <td>  4093</td> \n",
       "</tr>\n",
       "<tr>\n",
       "  <th>Model:</th>                  <td>GLM</td>       <th>  Df Residuals:      </th>  <td>  4078</td> \n",
       "</tr>\n",
       "<tr>\n",
       "  <th>Model Family:</th>        <td>Binomial</td>     <th>  Df Model:          </th>  <td>    14</td> \n",
       "</tr>\n",
       "<tr>\n",
       "  <th>Link Function:</th>         <td>logit</td>      <th>  Scale:             </th> <td>  1.0000</td>\n",
       "</tr>\n",
       "<tr>\n",
       "  <th>Method:</th>                <td>IRLS</td>       <th>  Log-Likelihood:    </th> <td> -1779.2</td>\n",
       "</tr>\n",
       "<tr>\n",
       "  <th>Date:</th>            <td>Tue, 07 Dec 2021</td> <th>  Deviance:          </th> <td>  3558.4</td>\n",
       "</tr>\n",
       "<tr>\n",
       "  <th>Time:</th>                <td>13:35:43</td>     <th>  Pearson chi2:      </th> <td>4.51e+03</td>\n",
       "</tr>\n",
       "<tr>\n",
       "  <th>No. Iterations:</th>          <td>6</td>        <th>  Pseudo R-squ. (CS):</th>  <td>0.3958</td> \n",
       "</tr>\n",
       "<tr>\n",
       "  <th>Covariance Type:</th>     <td>nonrobust</td>    <th>                     </th>     <td> </td>   \n",
       "</tr>\n",
       "</table>\n",
       "<table class=\"simpletable\">\n",
       "<tr>\n",
       "                            <td></td>                              <th>coef</th>     <th>std err</th>      <th>z</th>      <th>P>|z|</th>  <th>[0.025</th>    <th>0.975]</th>  \n",
       "</tr>\n",
       "<tr>\n",
       "  <th>const</th>                                                <td>    1.5588</td> <td>    0.301</td> <td>    5.177</td> <td> 0.000</td> <td>    0.969</td> <td>    2.149</td>\n",
       "</tr>\n",
       "<tr>\n",
       "  <th>Do Not Email</th>                                         <td>   -1.6590</td> <td>    0.234</td> <td>   -7.093</td> <td> 0.000</td> <td>   -2.117</td> <td>   -1.201</td>\n",
       "</tr>\n",
       "<tr>\n",
       "  <th>Total Time Spent on Website</th>                          <td>    1.0212</td> <td>    0.045</td> <td>   22.730</td> <td> 0.000</td> <td>    0.933</td> <td>    1.109</td>\n",
       "</tr>\n",
       "<tr>\n",
       "  <th>Lead Origin_Landing Page Submission</th>                  <td>   -1.3573</td> <td>    0.130</td> <td>  -10.453</td> <td> 0.000</td> <td>   -1.612</td> <td>   -1.103</td>\n",
       "</tr>\n",
       "<tr>\n",
       "  <th>Lead Origin_Lead Add Form</th>                            <td>    2.6410</td> <td>    0.284</td> <td>    9.314</td> <td> 0.000</td> <td>    2.085</td> <td>    3.197</td>\n",
       "</tr>\n",
       "<tr>\n",
       "  <th>Last Activity_Email Opened</th>                           <td>    1.0135</td> <td>    0.193</td> <td>    5.243</td> <td> 0.000</td> <td>    0.635</td> <td>    1.392</td>\n",
       "</tr>\n",
       "<tr>\n",
       "  <th>Last Activity_SMS Sent</th>                               <td>    1.0884</td> <td>    0.135</td> <td>    8.038</td> <td> 0.000</td> <td>    0.823</td> <td>    1.354</td>\n",
       "</tr>\n",
       "<tr>\n",
       "  <th>Last Activity_Unsubscribed</th>                           <td>    1.8961</td> <td>    0.533</td> <td>    3.555</td> <td> 0.000</td> <td>    0.851</td> <td>    2.941</td>\n",
       "</tr>\n",
       "<tr>\n",
       "  <th>What is your current occupation_Unemployed</th>           <td>   -1.0613</td> <td>    0.256</td> <td>   -4.138</td> <td> 0.000</td> <td>   -1.564</td> <td>   -0.559</td>\n",
       "</tr>\n",
       "<tr>\n",
       "  <th>What is your current occupation_Working Professional</th> <td>    1.6776</td> <td>    0.327</td> <td>    5.138</td> <td> 0.000</td> <td>    1.038</td> <td>    2.318</td>\n",
       "</tr>\n",
       "<tr>\n",
       "  <th>Last Notable Activity_Email Opened</th>                   <td>   -1.1654</td> <td>    0.218</td> <td>   -5.339</td> <td> 0.000</td> <td>   -1.593</td> <td>   -0.738</td>\n",
       "</tr>\n",
       "<tr>\n",
       "  <th>Last Notable Activity_Had a Phone Conversation</th>       <td>    3.2075</td> <td>    1.091</td> <td>    2.941</td> <td> 0.003</td> <td>    1.070</td> <td>    5.345</td>\n",
       "</tr>\n",
       "<tr>\n",
       "  <th>Last Notable Activity_Modified</th>                       <td>   -1.2289</td> <td>    0.134</td> <td>   -9.168</td> <td> 0.000</td> <td>   -1.492</td> <td>   -0.966</td>\n",
       "</tr>\n",
       "<tr>\n",
       "  <th>Last Notable Activity_Olark Chat Conversation</th>        <td>   -1.0027</td> <td>    0.758</td> <td>   -1.322</td> <td> 0.186</td> <td>   -2.489</td> <td>    0.483</td>\n",
       "</tr>\n",
       "<tr>\n",
       "  <th>Last Notable Activity_Unreachable</th>                    <td>    1.4664</td> <td>    0.725</td> <td>    2.023</td> <td> 0.043</td> <td>    0.046</td> <td>    2.887</td>\n",
       "</tr>\n",
       "</table>"
      ],
      "text/plain": [
       "<class 'statsmodels.iolib.summary.Summary'>\n",
       "\"\"\"\n",
       "                 Generalized Linear Model Regression Results                  \n",
       "==============================================================================\n",
       "Dep. Variable:              Converted   No. Observations:                 4093\n",
       "Model:                            GLM   Df Residuals:                     4078\n",
       "Model Family:                Binomial   Df Model:                           14\n",
       "Link Function:                  logit   Scale:                          1.0000\n",
       "Method:                          IRLS   Log-Likelihood:                -1779.2\n",
       "Date:                Tue, 07 Dec 2021   Deviance:                       3558.4\n",
       "Time:                        13:35:43   Pearson chi2:                 4.51e+03\n",
       "No. Iterations:                     6   Pseudo R-squ. (CS):             0.3958\n",
       "Covariance Type:            nonrobust                                         \n",
       "========================================================================================================================\n",
       "                                                           coef    std err          z      P>|z|      [0.025      0.975]\n",
       "------------------------------------------------------------------------------------------------------------------------\n",
       "const                                                    1.5588      0.301      5.177      0.000       0.969       2.149\n",
       "Do Not Email                                            -1.6590      0.234     -7.093      0.000      -2.117      -1.201\n",
       "Total Time Spent on Website                              1.0212      0.045     22.730      0.000       0.933       1.109\n",
       "Lead Origin_Landing Page Submission                     -1.3573      0.130    -10.453      0.000      -1.612      -1.103\n",
       "Lead Origin_Lead Add Form                                2.6410      0.284      9.314      0.000       2.085       3.197\n",
       "Last Activity_Email Opened                               1.0135      0.193      5.243      0.000       0.635       1.392\n",
       "Last Activity_SMS Sent                                   1.0884      0.135      8.038      0.000       0.823       1.354\n",
       "Last Activity_Unsubscribed                               1.8961      0.533      3.555      0.000       0.851       2.941\n",
       "What is your current occupation_Unemployed              -1.0613      0.256     -4.138      0.000      -1.564      -0.559\n",
       "What is your current occupation_Working Professional     1.6776      0.327      5.138      0.000       1.038       2.318\n",
       "Last Notable Activity_Email Opened                      -1.1654      0.218     -5.339      0.000      -1.593      -0.738\n",
       "Last Notable Activity_Had a Phone Conversation           3.2075      1.091      2.941      0.003       1.070       5.345\n",
       "Last Notable Activity_Modified                          -1.2289      0.134     -9.168      0.000      -1.492      -0.966\n",
       "Last Notable Activity_Olark Chat Conversation           -1.0027      0.758     -1.322      0.186      -2.489       0.483\n",
       "Last Notable Activity_Unreachable                        1.4664      0.725      2.023      0.043       0.046       2.887\n",
       "========================================================================================================================\n",
       "\"\"\""
      ]
     },
     "execution_count": 61,
     "metadata": {},
     "output_type": "execute_result"
    }
   ],
   "source": [
    "X_train_rfe.pop('What is your current occupation_Housewife')\n",
    "\n",
    "X_train_sm = sm.add_constant(X_train_rfe)\n",
    "logm2 = sm.GLM(y_train,X_train_sm, family = sm.families.Binomial())\n",
    "res = logm2.fit()\n",
    "res.summary()"
   ]
  },
  {
   "cell_type": "code",
   "execution_count": 62,
   "id": "technological-morocco",
   "metadata": {},
   "outputs": [
    {
     "data": {
      "text/html": [
       "<div>\n",
       "<style scoped>\n",
       "    .dataframe tbody tr th:only-of-type {\n",
       "        vertical-align: middle;\n",
       "    }\n",
       "\n",
       "    .dataframe tbody tr th {\n",
       "        vertical-align: top;\n",
       "    }\n",
       "\n",
       "    .dataframe thead th {\n",
       "        text-align: right;\n",
       "    }\n",
       "</style>\n",
       "<table border=\"1\" class=\"dataframe\">\n",
       "  <thead>\n",
       "    <tr style=\"text-align: right;\">\n",
       "      <th></th>\n",
       "      <th>Features</th>\n",
       "      <th>VIF</th>\n",
       "    </tr>\n",
       "  </thead>\n",
       "  <tbody>\n",
       "    <tr>\n",
       "      <th>0</th>\n",
       "      <td>What is your current occupation_Unemployed</td>\n",
       "      <td>11.53</td>\n",
       "    </tr>\n",
       "    <tr>\n",
       "      <th>1</th>\n",
       "      <td>Last Notable Activity_Email Opened</td>\n",
       "      <td>9.59</td>\n",
       "    </tr>\n",
       "    <tr>\n",
       "      <th>2</th>\n",
       "      <td>Last Activity_Email Opened</td>\n",
       "      <td>8.56</td>\n",
       "    </tr>\n",
       "    <tr>\n",
       "      <th>3</th>\n",
       "      <td>Lead Origin_Landing Page Submission</td>\n",
       "      <td>7.25</td>\n",
       "    </tr>\n",
       "    <tr>\n",
       "      <th>4</th>\n",
       "      <td>Last Activity_SMS Sent</td>\n",
       "      <td>3.11</td>\n",
       "    </tr>\n",
       "    <tr>\n",
       "      <th>5</th>\n",
       "      <td>Last Notable Activity_Modified</td>\n",
       "      <td>2.87</td>\n",
       "    </tr>\n",
       "    <tr>\n",
       "      <th>6</th>\n",
       "      <td>What is your current occupation_Working Profes...</td>\n",
       "      <td>2.29</td>\n",
       "    </tr>\n",
       "    <tr>\n",
       "      <th>7</th>\n",
       "      <td>Lead Origin_Lead Add Form</td>\n",
       "      <td>1.62</td>\n",
       "    </tr>\n",
       "    <tr>\n",
       "      <th>8</th>\n",
       "      <td>Do Not Email</td>\n",
       "      <td>1.33</td>\n",
       "    </tr>\n",
       "    <tr>\n",
       "      <th>9</th>\n",
       "      <td>Last Activity_Unsubscribed</td>\n",
       "      <td>1.11</td>\n",
       "    </tr>\n",
       "    <tr>\n",
       "      <th>10</th>\n",
       "      <td>Total Time Spent on Website</td>\n",
       "      <td>1.08</td>\n",
       "    </tr>\n",
       "    <tr>\n",
       "      <th>11</th>\n",
       "      <td>Last Notable Activity_Olark Chat Conversation</td>\n",
       "      <td>1.04</td>\n",
       "    </tr>\n",
       "    <tr>\n",
       "      <th>12</th>\n",
       "      <td>Last Notable Activity_Had a Phone Conversation</td>\n",
       "      <td>1.03</td>\n",
       "    </tr>\n",
       "    <tr>\n",
       "      <th>13</th>\n",
       "      <td>Last Notable Activity_Unreachable</td>\n",
       "      <td>1.03</td>\n",
       "    </tr>\n",
       "  </tbody>\n",
       "</table>\n",
       "</div>"
      ],
      "text/plain": [
       "                                             Features    VIF\n",
       "0          What is your current occupation_Unemployed  11.53\n",
       "1                  Last Notable Activity_Email Opened   9.59\n",
       "2                          Last Activity_Email Opened   8.56\n",
       "3                 Lead Origin_Landing Page Submission   7.25\n",
       "4                              Last Activity_SMS Sent   3.11\n",
       "5                      Last Notable Activity_Modified   2.87\n",
       "6   What is your current occupation_Working Profes...   2.29\n",
       "7                           Lead Origin_Lead Add Form   1.62\n",
       "8                                        Do Not Email   1.33\n",
       "9                          Last Activity_Unsubscribed   1.11\n",
       "10                        Total Time Spent on Website   1.08\n",
       "11      Last Notable Activity_Olark Chat Conversation   1.04\n",
       "12     Last Notable Activity_Had a Phone Conversation   1.03\n",
       "13                  Last Notable Activity_Unreachable   1.03"
      ]
     },
     "execution_count": 62,
     "metadata": {},
     "output_type": "execute_result"
    }
   ],
   "source": [
    "vif = pd.DataFrame()\n",
    "vif['Features'] = X_train_rfe.columns\n",
    "vif['VIF'] = [variance_inflation_factor(X_train_rfe.values, i) for i in range(X_train_rfe.shape[1])]\n",
    "vif['VIF'] = round(vif['VIF'], 2)\n",
    "vif = vif.sort_values(by = \"VIF\", ascending = False).reset_index(drop=True)\n",
    "vif"
   ]
  },
  {
   "cell_type": "markdown",
   "id": "gentle-incident",
   "metadata": {},
   "source": [
    "#### Model 3"
   ]
  },
  {
   "cell_type": "code",
   "execution_count": 63,
   "id": "naughty-duration",
   "metadata": {},
   "outputs": [
    {
     "data": {
      "text/html": [
       "<table class=\"simpletable\">\n",
       "<caption>Generalized Linear Model Regression Results</caption>\n",
       "<tr>\n",
       "  <th>Dep. Variable:</th>       <td>Converted</td>    <th>  No. Observations:  </th>  <td>  4093</td> \n",
       "</tr>\n",
       "<tr>\n",
       "  <th>Model:</th>                  <td>GLM</td>       <th>  Df Residuals:      </th>  <td>  4079</td> \n",
       "</tr>\n",
       "<tr>\n",
       "  <th>Model Family:</th>        <td>Binomial</td>     <th>  Df Model:          </th>  <td>    13</td> \n",
       "</tr>\n",
       "<tr>\n",
       "  <th>Link Function:</th>         <td>logit</td>      <th>  Scale:             </th> <td>  1.0000</td>\n",
       "</tr>\n",
       "<tr>\n",
       "  <th>Method:</th>                <td>IRLS</td>       <th>  Log-Likelihood:    </th> <td> -1787.9</td>\n",
       "</tr>\n",
       "<tr>\n",
       "  <th>Date:</th>            <td>Tue, 07 Dec 2021</td> <th>  Deviance:          </th> <td>  3575.8</td>\n",
       "</tr>\n",
       "<tr>\n",
       "  <th>Time:</th>                <td>13:35:43</td>     <th>  Pearson chi2:      </th> <td>4.54e+03</td>\n",
       "</tr>\n",
       "<tr>\n",
       "  <th>No. Iterations:</th>          <td>6</td>        <th>  Pseudo R-squ. (CS):</th>  <td>0.3932</td> \n",
       "</tr>\n",
       "<tr>\n",
       "  <th>Covariance Type:</th>     <td>nonrobust</td>    <th>                     </th>     <td> </td>   \n",
       "</tr>\n",
       "</table>\n",
       "<table class=\"simpletable\">\n",
       "<tr>\n",
       "                            <td></td>                              <th>coef</th>     <th>std err</th>      <th>z</th>      <th>P>|z|</th>  <th>[0.025</th>    <th>0.975]</th>  \n",
       "</tr>\n",
       "<tr>\n",
       "  <th>const</th>                                                <td>    0.5404</td> <td>    0.172</td> <td>    3.147</td> <td> 0.002</td> <td>    0.204</td> <td>    0.877</td>\n",
       "</tr>\n",
       "<tr>\n",
       "  <th>Do Not Email</th>                                         <td>   -1.6653</td> <td>    0.234</td> <td>   -7.119</td> <td> 0.000</td> <td>   -2.124</td> <td>   -1.207</td>\n",
       "</tr>\n",
       "<tr>\n",
       "  <th>Total Time Spent on Website</th>                          <td>    1.0200</td> <td>    0.045</td> <td>   22.768</td> <td> 0.000</td> <td>    0.932</td> <td>    1.108</td>\n",
       "</tr>\n",
       "<tr>\n",
       "  <th>Lead Origin_Landing Page Submission</th>                  <td>   -1.3684</td> <td>    0.129</td> <td>  -10.573</td> <td> 0.000</td> <td>   -1.622</td> <td>   -1.115</td>\n",
       "</tr>\n",
       "<tr>\n",
       "  <th>Lead Origin_Lead Add Form</th>                            <td>    2.6811</td> <td>    0.283</td> <td>    9.479</td> <td> 0.000</td> <td>    2.127</td> <td>    3.236</td>\n",
       "</tr>\n",
       "<tr>\n",
       "  <th>Last Activity_Email Opened</th>                           <td>    1.0320</td> <td>    0.193</td> <td>    5.341</td> <td> 0.000</td> <td>    0.653</td> <td>    1.411</td>\n",
       "</tr>\n",
       "<tr>\n",
       "  <th>Last Activity_SMS Sent</th>                               <td>    1.0674</td> <td>    0.135</td> <td>    7.914</td> <td> 0.000</td> <td>    0.803</td> <td>    1.332</td>\n",
       "</tr>\n",
       "<tr>\n",
       "  <th>Last Activity_Unsubscribed</th>                           <td>    1.8707</td> <td>    0.533</td> <td>    3.510</td> <td> 0.000</td> <td>    0.826</td> <td>    2.915</td>\n",
       "</tr>\n",
       "<tr>\n",
       "  <th>What is your current occupation_Working Professional</th> <td>    2.7053</td> <td>    0.212</td> <td>   12.744</td> <td> 0.000</td> <td>    2.289</td> <td>    3.121</td>\n",
       "</tr>\n",
       "<tr>\n",
       "  <th>Last Notable Activity_Email Opened</th>                   <td>   -1.1758</td> <td>    0.218</td> <td>   -5.393</td> <td> 0.000</td> <td>   -1.603</td> <td>   -0.748</td>\n",
       "</tr>\n",
       "<tr>\n",
       "  <th>Last Notable Activity_Had a Phone Conversation</th>       <td>    3.1739</td> <td>    1.091</td> <td>    2.911</td> <td> 0.004</td> <td>    1.037</td> <td>    5.311</td>\n",
       "</tr>\n",
       "<tr>\n",
       "  <th>Last Notable Activity_Modified</th>                       <td>   -1.2280</td> <td>    0.134</td> <td>   -9.185</td> <td> 0.000</td> <td>   -1.490</td> <td>   -0.966</td>\n",
       "</tr>\n",
       "<tr>\n",
       "  <th>Last Notable Activity_Olark Chat Conversation</th>        <td>   -1.0386</td> <td>    0.758</td> <td>   -1.371</td> <td> 0.171</td> <td>   -2.524</td> <td>    0.447</td>\n",
       "</tr>\n",
       "<tr>\n",
       "  <th>Last Notable Activity_Unreachable</th>                    <td>    1.4301</td> <td>    0.725</td> <td>    1.972</td> <td> 0.049</td> <td>    0.009</td> <td>    2.852</td>\n",
       "</tr>\n",
       "</table>"
      ],
      "text/plain": [
       "<class 'statsmodels.iolib.summary.Summary'>\n",
       "\"\"\"\n",
       "                 Generalized Linear Model Regression Results                  \n",
       "==============================================================================\n",
       "Dep. Variable:              Converted   No. Observations:                 4093\n",
       "Model:                            GLM   Df Residuals:                     4079\n",
       "Model Family:                Binomial   Df Model:                           13\n",
       "Link Function:                  logit   Scale:                          1.0000\n",
       "Method:                          IRLS   Log-Likelihood:                -1787.9\n",
       "Date:                Tue, 07 Dec 2021   Deviance:                       3575.8\n",
       "Time:                        13:35:43   Pearson chi2:                 4.54e+03\n",
       "No. Iterations:                     6   Pseudo R-squ. (CS):             0.3932\n",
       "Covariance Type:            nonrobust                                         \n",
       "========================================================================================================================\n",
       "                                                           coef    std err          z      P>|z|      [0.025      0.975]\n",
       "------------------------------------------------------------------------------------------------------------------------\n",
       "const                                                    0.5404      0.172      3.147      0.002       0.204       0.877\n",
       "Do Not Email                                            -1.6653      0.234     -7.119      0.000      -2.124      -1.207\n",
       "Total Time Spent on Website                              1.0200      0.045     22.768      0.000       0.932       1.108\n",
       "Lead Origin_Landing Page Submission                     -1.3684      0.129    -10.573      0.000      -1.622      -1.115\n",
       "Lead Origin_Lead Add Form                                2.6811      0.283      9.479      0.000       2.127       3.236\n",
       "Last Activity_Email Opened                               1.0320      0.193      5.341      0.000       0.653       1.411\n",
       "Last Activity_SMS Sent                                   1.0674      0.135      7.914      0.000       0.803       1.332\n",
       "Last Activity_Unsubscribed                               1.8707      0.533      3.510      0.000       0.826       2.915\n",
       "What is your current occupation_Working Professional     2.7053      0.212     12.744      0.000       2.289       3.121\n",
       "Last Notable Activity_Email Opened                      -1.1758      0.218     -5.393      0.000      -1.603      -0.748\n",
       "Last Notable Activity_Had a Phone Conversation           3.1739      1.091      2.911      0.004       1.037       5.311\n",
       "Last Notable Activity_Modified                          -1.2280      0.134     -9.185      0.000      -1.490      -0.966\n",
       "Last Notable Activity_Olark Chat Conversation           -1.0386      0.758     -1.371      0.171      -2.524       0.447\n",
       "Last Notable Activity_Unreachable                        1.4301      0.725      1.972      0.049       0.009       2.852\n",
       "========================================================================================================================\n",
       "\"\"\""
      ]
     },
     "execution_count": 63,
     "metadata": {},
     "output_type": "execute_result"
    }
   ],
   "source": [
    "X_train_rfe.pop('What is your current occupation_Unemployed')\n",
    "\n",
    "X_train_sm = sm.add_constant(X_train_rfe)\n",
    "logm3 = sm.GLM(y_train,X_train_sm, family = sm.families.Binomial())\n",
    "res = logm3.fit()\n",
    "res.summary()"
   ]
  },
  {
   "cell_type": "code",
   "execution_count": 64,
   "id": "loving-payment",
   "metadata": {},
   "outputs": [
    {
     "data": {
      "text/html": [
       "<div>\n",
       "<style scoped>\n",
       "    .dataframe tbody tr th:only-of-type {\n",
       "        vertical-align: middle;\n",
       "    }\n",
       "\n",
       "    .dataframe tbody tr th {\n",
       "        vertical-align: top;\n",
       "    }\n",
       "\n",
       "    .dataframe thead th {\n",
       "        text-align: right;\n",
       "    }\n",
       "</style>\n",
       "<table border=\"1\" class=\"dataframe\">\n",
       "  <thead>\n",
       "    <tr style=\"text-align: right;\">\n",
       "      <th></th>\n",
       "      <th>Features</th>\n",
       "      <th>VIF</th>\n",
       "    </tr>\n",
       "  </thead>\n",
       "  <tbody>\n",
       "    <tr>\n",
       "      <th>0</th>\n",
       "      <td>Last Notable Activity_Email Opened</td>\n",
       "      <td>8.83</td>\n",
       "    </tr>\n",
       "    <tr>\n",
       "      <th>1</th>\n",
       "      <td>Last Activity_Email Opened</td>\n",
       "      <td>8.48</td>\n",
       "    </tr>\n",
       "    <tr>\n",
       "      <th>2</th>\n",
       "      <td>Lead Origin_Landing Page Submission</td>\n",
       "      <td>4.71</td>\n",
       "    </tr>\n",
       "    <tr>\n",
       "      <th>3</th>\n",
       "      <td>Last Activity_SMS Sent</td>\n",
       "      <td>2.24</td>\n",
       "    </tr>\n",
       "    <tr>\n",
       "      <th>4</th>\n",
       "      <td>Last Notable Activity_Modified</td>\n",
       "      <td>2.18</td>\n",
       "    </tr>\n",
       "    <tr>\n",
       "      <th>5</th>\n",
       "      <td>Lead Origin_Lead Add Form</td>\n",
       "      <td>1.49</td>\n",
       "    </tr>\n",
       "    <tr>\n",
       "      <th>6</th>\n",
       "      <td>Do Not Email</td>\n",
       "      <td>1.31</td>\n",
       "    </tr>\n",
       "    <tr>\n",
       "      <th>7</th>\n",
       "      <td>What is your current occupation_Working Profes...</td>\n",
       "      <td>1.26</td>\n",
       "    </tr>\n",
       "    <tr>\n",
       "      <th>8</th>\n",
       "      <td>Last Activity_Unsubscribed</td>\n",
       "      <td>1.10</td>\n",
       "    </tr>\n",
       "    <tr>\n",
       "      <th>9</th>\n",
       "      <td>Total Time Spent on Website</td>\n",
       "      <td>1.08</td>\n",
       "    </tr>\n",
       "    <tr>\n",
       "      <th>10</th>\n",
       "      <td>Last Notable Activity_Had a Phone Conversation</td>\n",
       "      <td>1.01</td>\n",
       "    </tr>\n",
       "    <tr>\n",
       "      <th>11</th>\n",
       "      <td>Last Notable Activity_Olark Chat Conversation</td>\n",
       "      <td>1.01</td>\n",
       "    </tr>\n",
       "    <tr>\n",
       "      <th>12</th>\n",
       "      <td>Last Notable Activity_Unreachable</td>\n",
       "      <td>1.01</td>\n",
       "    </tr>\n",
       "  </tbody>\n",
       "</table>\n",
       "</div>"
      ],
      "text/plain": [
       "                                             Features   VIF\n",
       "0                  Last Notable Activity_Email Opened  8.83\n",
       "1                          Last Activity_Email Opened  8.48\n",
       "2                 Lead Origin_Landing Page Submission  4.71\n",
       "3                              Last Activity_SMS Sent  2.24\n",
       "4                      Last Notable Activity_Modified  2.18\n",
       "5                           Lead Origin_Lead Add Form  1.49\n",
       "6                                        Do Not Email  1.31\n",
       "7   What is your current occupation_Working Profes...  1.26\n",
       "8                          Last Activity_Unsubscribed  1.10\n",
       "9                         Total Time Spent on Website  1.08\n",
       "10     Last Notable Activity_Had a Phone Conversation  1.01\n",
       "11      Last Notable Activity_Olark Chat Conversation  1.01\n",
       "12                  Last Notable Activity_Unreachable  1.01"
      ]
     },
     "execution_count": 64,
     "metadata": {},
     "output_type": "execute_result"
    }
   ],
   "source": [
    "vif = pd.DataFrame()\n",
    "vif['Features'] = X_train_rfe.columns\n",
    "vif['VIF'] = [variance_inflation_factor(X_train_rfe.values, i) for i in range(X_train_rfe.shape[1])]\n",
    "vif['VIF'] = round(vif['VIF'], 2)\n",
    "vif = vif.sort_values(by = \"VIF\", ascending = False).reset_index(drop=True)\n",
    "vif"
   ]
  },
  {
   "cell_type": "markdown",
   "id": "gothic-dialogue",
   "metadata": {},
   "source": [
    "#### Model 4"
   ]
  },
  {
   "cell_type": "code",
   "execution_count": 65,
   "id": "thick-polyester",
   "metadata": {},
   "outputs": [
    {
     "data": {
      "text/html": [
       "<table class=\"simpletable\">\n",
       "<caption>Generalized Linear Model Regression Results</caption>\n",
       "<tr>\n",
       "  <th>Dep. Variable:</th>       <td>Converted</td>    <th>  No. Observations:  </th>  <td>  4093</td> \n",
       "</tr>\n",
       "<tr>\n",
       "  <th>Model:</th>                  <td>GLM</td>       <th>  Df Residuals:      </th>  <td>  4080</td> \n",
       "</tr>\n",
       "<tr>\n",
       "  <th>Model Family:</th>        <td>Binomial</td>     <th>  Df Model:          </th>  <td>    12</td> \n",
       "</tr>\n",
       "<tr>\n",
       "  <th>Link Function:</th>         <td>logit</td>      <th>  Scale:             </th> <td>  1.0000</td>\n",
       "</tr>\n",
       "<tr>\n",
       "  <th>Method:</th>                <td>IRLS</td>       <th>  Log-Likelihood:    </th> <td> -1788.9</td>\n",
       "</tr>\n",
       "<tr>\n",
       "  <th>Date:</th>            <td>Tue, 07 Dec 2021</td> <th>  Deviance:          </th> <td>  3577.8</td>\n",
       "</tr>\n",
       "<tr>\n",
       "  <th>Time:</th>                <td>13:35:44</td>     <th>  Pearson chi2:      </th> <td>4.54e+03</td>\n",
       "</tr>\n",
       "<tr>\n",
       "  <th>No. Iterations:</th>          <td>6</td>        <th>  Pseudo R-squ. (CS):</th>  <td>0.3929</td> \n",
       "</tr>\n",
       "<tr>\n",
       "  <th>Covariance Type:</th>     <td>nonrobust</td>    <th>                     </th>     <td> </td>   \n",
       "</tr>\n",
       "</table>\n",
       "<table class=\"simpletable\">\n",
       "<tr>\n",
       "                            <td></td>                              <th>coef</th>     <th>std err</th>      <th>z</th>      <th>P>|z|</th>  <th>[0.025</th>    <th>0.975]</th>  \n",
       "</tr>\n",
       "<tr>\n",
       "  <th>const</th>                                                <td>    0.4960</td> <td>    0.169</td> <td>    2.937</td> <td> 0.003</td> <td>    0.165</td> <td>    0.827</td>\n",
       "</tr>\n",
       "<tr>\n",
       "  <th>Do Not Email</th>                                         <td>   -1.6565</td> <td>    0.234</td> <td>   -7.086</td> <td> 0.000</td> <td>   -2.115</td> <td>   -1.198</td>\n",
       "</tr>\n",
       "<tr>\n",
       "  <th>Total Time Spent on Website</th>                          <td>    1.0198</td> <td>    0.045</td> <td>   22.764</td> <td> 0.000</td> <td>    0.932</td> <td>    1.108</td>\n",
       "</tr>\n",
       "<tr>\n",
       "  <th>Lead Origin_Landing Page Submission</th>                  <td>   -1.3582</td> <td>    0.129</td> <td>  -10.519</td> <td> 0.000</td> <td>   -1.611</td> <td>   -1.105</td>\n",
       "</tr>\n",
       "<tr>\n",
       "  <th>Lead Origin_Lead Add Form</th>                            <td>    2.6901</td> <td>    0.283</td> <td>    9.510</td> <td> 0.000</td> <td>    2.136</td> <td>    3.245</td>\n",
       "</tr>\n",
       "<tr>\n",
       "  <th>Last Activity_Email Opened</th>                           <td>    1.0432</td> <td>    0.193</td> <td>    5.402</td> <td> 0.000</td> <td>    0.665</td> <td>    1.422</td>\n",
       "</tr>\n",
       "<tr>\n",
       "  <th>Last Activity_SMS Sent</th>                               <td>    1.0971</td> <td>    0.133</td> <td>    8.228</td> <td> 0.000</td> <td>    0.836</td> <td>    1.358</td>\n",
       "</tr>\n",
       "<tr>\n",
       "  <th>Last Activity_Unsubscribed</th>                           <td>    1.8932</td> <td>    0.532</td> <td>    3.555</td> <td> 0.000</td> <td>    0.850</td> <td>    2.937</td>\n",
       "</tr>\n",
       "<tr>\n",
       "  <th>What is your current occupation_Working Professional</th> <td>    2.7066</td> <td>    0.212</td> <td>   12.741</td> <td> 0.000</td> <td>    2.290</td> <td>    3.123</td>\n",
       "</tr>\n",
       "<tr>\n",
       "  <th>Last Notable Activity_Email Opened</th>                   <td>   -1.1516</td> <td>    0.217</td> <td>   -5.299</td> <td> 0.000</td> <td>   -1.578</td> <td>   -0.726</td>\n",
       "</tr>\n",
       "<tr>\n",
       "  <th>Last Notable Activity_Had a Phone Conversation</th>       <td>    3.2090</td> <td>    1.090</td> <td>    2.944</td> <td> 0.003</td> <td>    1.072</td> <td>    5.346</td>\n",
       "</tr>\n",
       "<tr>\n",
       "  <th>Last Notable Activity_Modified</th>                       <td>   -1.2037</td> <td>    0.133</td> <td>   -9.082</td> <td> 0.000</td> <td>   -1.463</td> <td>   -0.944</td>\n",
       "</tr>\n",
       "<tr>\n",
       "  <th>Last Notable Activity_Unreachable</th>                    <td>    1.4668</td> <td>    0.724</td> <td>    2.025</td> <td> 0.043</td> <td>    0.047</td> <td>    2.887</td>\n",
       "</tr>\n",
       "</table>"
      ],
      "text/plain": [
       "<class 'statsmodels.iolib.summary.Summary'>\n",
       "\"\"\"\n",
       "                 Generalized Linear Model Regression Results                  \n",
       "==============================================================================\n",
       "Dep. Variable:              Converted   No. Observations:                 4093\n",
       "Model:                            GLM   Df Residuals:                     4080\n",
       "Model Family:                Binomial   Df Model:                           12\n",
       "Link Function:                  logit   Scale:                          1.0000\n",
       "Method:                          IRLS   Log-Likelihood:                -1788.9\n",
       "Date:                Tue, 07 Dec 2021   Deviance:                       3577.8\n",
       "Time:                        13:35:44   Pearson chi2:                 4.54e+03\n",
       "No. Iterations:                     6   Pseudo R-squ. (CS):             0.3929\n",
       "Covariance Type:            nonrobust                                         \n",
       "========================================================================================================================\n",
       "                                                           coef    std err          z      P>|z|      [0.025      0.975]\n",
       "------------------------------------------------------------------------------------------------------------------------\n",
       "const                                                    0.4960      0.169      2.937      0.003       0.165       0.827\n",
       "Do Not Email                                            -1.6565      0.234     -7.086      0.000      -2.115      -1.198\n",
       "Total Time Spent on Website                              1.0198      0.045     22.764      0.000       0.932       1.108\n",
       "Lead Origin_Landing Page Submission                     -1.3582      0.129    -10.519      0.000      -1.611      -1.105\n",
       "Lead Origin_Lead Add Form                                2.6901      0.283      9.510      0.000       2.136       3.245\n",
       "Last Activity_Email Opened                               1.0432      0.193      5.402      0.000       0.665       1.422\n",
       "Last Activity_SMS Sent                                   1.0971      0.133      8.228      0.000       0.836       1.358\n",
       "Last Activity_Unsubscribed                               1.8932      0.532      3.555      0.000       0.850       2.937\n",
       "What is your current occupation_Working Professional     2.7066      0.212     12.741      0.000       2.290       3.123\n",
       "Last Notable Activity_Email Opened                      -1.1516      0.217     -5.299      0.000      -1.578      -0.726\n",
       "Last Notable Activity_Had a Phone Conversation           3.2090      1.090      2.944      0.003       1.072       5.346\n",
       "Last Notable Activity_Modified                          -1.2037      0.133     -9.082      0.000      -1.463      -0.944\n",
       "Last Notable Activity_Unreachable                        1.4668      0.724      2.025      0.043       0.047       2.887\n",
       "========================================================================================================================\n",
       "\"\"\""
      ]
     },
     "execution_count": 65,
     "metadata": {},
     "output_type": "execute_result"
    }
   ],
   "source": [
    "X_train_rfe.pop('Last Notable Activity_Olark Chat Conversation')\n",
    "\n",
    "X_train_sm = sm.add_constant(X_train_rfe)\n",
    "logm4 = sm.GLM(y_train,X_train_sm, family = sm.families.Binomial())\n",
    "res = logm4.fit()\n",
    "res.summary()"
   ]
  },
  {
   "cell_type": "code",
   "execution_count": 66,
   "id": "published-prime",
   "metadata": {},
   "outputs": [
    {
     "data": {
      "text/html": [
       "<div>\n",
       "<style scoped>\n",
       "    .dataframe tbody tr th:only-of-type {\n",
       "        vertical-align: middle;\n",
       "    }\n",
       "\n",
       "    .dataframe tbody tr th {\n",
       "        vertical-align: top;\n",
       "    }\n",
       "\n",
       "    .dataframe thead th {\n",
       "        text-align: right;\n",
       "    }\n",
       "</style>\n",
       "<table border=\"1\" class=\"dataframe\">\n",
       "  <thead>\n",
       "    <tr style=\"text-align: right;\">\n",
       "      <th></th>\n",
       "      <th>Features</th>\n",
       "      <th>VIF</th>\n",
       "    </tr>\n",
       "  </thead>\n",
       "  <tbody>\n",
       "    <tr>\n",
       "      <th>0</th>\n",
       "      <td>Last Notable Activity_Email Opened</td>\n",
       "      <td>8.83</td>\n",
       "    </tr>\n",
       "    <tr>\n",
       "      <th>1</th>\n",
       "      <td>Last Activity_Email Opened</td>\n",
       "      <td>8.47</td>\n",
       "    </tr>\n",
       "    <tr>\n",
       "      <th>2</th>\n",
       "      <td>Lead Origin_Landing Page Submission</td>\n",
       "      <td>4.67</td>\n",
       "    </tr>\n",
       "    <tr>\n",
       "      <th>3</th>\n",
       "      <td>Last Activity_SMS Sent</td>\n",
       "      <td>2.22</td>\n",
       "    </tr>\n",
       "    <tr>\n",
       "      <th>4</th>\n",
       "      <td>Last Notable Activity_Modified</td>\n",
       "      <td>2.17</td>\n",
       "    </tr>\n",
       "    <tr>\n",
       "      <th>5</th>\n",
       "      <td>Lead Origin_Lead Add Form</td>\n",
       "      <td>1.48</td>\n",
       "    </tr>\n",
       "    <tr>\n",
       "      <th>6</th>\n",
       "      <td>Do Not Email</td>\n",
       "      <td>1.31</td>\n",
       "    </tr>\n",
       "    <tr>\n",
       "      <th>7</th>\n",
       "      <td>What is your current occupation_Working Profes...</td>\n",
       "      <td>1.26</td>\n",
       "    </tr>\n",
       "    <tr>\n",
       "      <th>8</th>\n",
       "      <td>Last Activity_Unsubscribed</td>\n",
       "      <td>1.10</td>\n",
       "    </tr>\n",
       "    <tr>\n",
       "      <th>9</th>\n",
       "      <td>Total Time Spent on Website</td>\n",
       "      <td>1.08</td>\n",
       "    </tr>\n",
       "    <tr>\n",
       "      <th>10</th>\n",
       "      <td>Last Notable Activity_Had a Phone Conversation</td>\n",
       "      <td>1.01</td>\n",
       "    </tr>\n",
       "    <tr>\n",
       "      <th>11</th>\n",
       "      <td>Last Notable Activity_Unreachable</td>\n",
       "      <td>1.01</td>\n",
       "    </tr>\n",
       "  </tbody>\n",
       "</table>\n",
       "</div>"
      ],
      "text/plain": [
       "                                             Features   VIF\n",
       "0                  Last Notable Activity_Email Opened  8.83\n",
       "1                          Last Activity_Email Opened  8.47\n",
       "2                 Lead Origin_Landing Page Submission  4.67\n",
       "3                              Last Activity_SMS Sent  2.22\n",
       "4                      Last Notable Activity_Modified  2.17\n",
       "5                           Lead Origin_Lead Add Form  1.48\n",
       "6                                        Do Not Email  1.31\n",
       "7   What is your current occupation_Working Profes...  1.26\n",
       "8                          Last Activity_Unsubscribed  1.10\n",
       "9                         Total Time Spent on Website  1.08\n",
       "10     Last Notable Activity_Had a Phone Conversation  1.01\n",
       "11                  Last Notable Activity_Unreachable  1.01"
      ]
     },
     "execution_count": 66,
     "metadata": {},
     "output_type": "execute_result"
    }
   ],
   "source": [
    "vif = pd.DataFrame()\n",
    "vif['Features'] = X_train_rfe.columns\n",
    "vif['VIF'] = [variance_inflation_factor(X_train_rfe.values, i) for i in range(X_train_rfe.shape[1])]\n",
    "vif['VIF'] = round(vif['VIF'], 2)\n",
    "vif = vif.sort_values(by = \"VIF\", ascending = False).reset_index(drop=True)\n",
    "vif"
   ]
  },
  {
   "cell_type": "markdown",
   "id": "nearby-drive",
   "metadata": {},
   "source": [
    "#### Model 5"
   ]
  },
  {
   "cell_type": "code",
   "execution_count": 67,
   "id": "tight-portal",
   "metadata": {},
   "outputs": [
    {
     "data": {
      "text/html": [
       "<table class=\"simpletable\">\n",
       "<caption>Generalized Linear Model Regression Results</caption>\n",
       "<tr>\n",
       "  <th>Dep. Variable:</th>       <td>Converted</td>    <th>  No. Observations:  </th>  <td>  4093</td> \n",
       "</tr>\n",
       "<tr>\n",
       "  <th>Model:</th>                  <td>GLM</td>       <th>  Df Residuals:      </th>  <td>  4081</td> \n",
       "</tr>\n",
       "<tr>\n",
       "  <th>Model Family:</th>        <td>Binomial</td>     <th>  Df Model:          </th>  <td>    11</td> \n",
       "</tr>\n",
       "<tr>\n",
       "  <th>Link Function:</th>         <td>logit</td>      <th>  Scale:             </th> <td>  1.0000</td>\n",
       "</tr>\n",
       "<tr>\n",
       "  <th>Method:</th>                <td>IRLS</td>       <th>  Log-Likelihood:    </th> <td> -1802.8</td>\n",
       "</tr>\n",
       "<tr>\n",
       "  <th>Date:</th>            <td>Tue, 07 Dec 2021</td> <th>  Deviance:          </th> <td>  3605.5</td>\n",
       "</tr>\n",
       "<tr>\n",
       "  <th>Time:</th>                <td>13:35:44</td>     <th>  Pearson chi2:      </th> <td>4.60e+03</td>\n",
       "</tr>\n",
       "<tr>\n",
       "  <th>No. Iterations:</th>          <td>6</td>        <th>  Pseudo R-squ. (CS):</th>  <td>0.3888</td> \n",
       "</tr>\n",
       "<tr>\n",
       "  <th>Covariance Type:</th>     <td>nonrobust</td>    <th>                     </th>     <td> </td>   \n",
       "</tr>\n",
       "</table>\n",
       "<table class=\"simpletable\">\n",
       "<tr>\n",
       "                            <td></td>                              <th>coef</th>     <th>std err</th>      <th>z</th>      <th>P>|z|</th>  <th>[0.025</th>    <th>0.975]</th>  \n",
       "</tr>\n",
       "<tr>\n",
       "  <th>const</th>                                                <td>    0.2204</td> <td>    0.161</td> <td>    1.370</td> <td> 0.171</td> <td>   -0.095</td> <td>    0.536</td>\n",
       "</tr>\n",
       "<tr>\n",
       "  <th>Do Not Email</th>                                         <td>   -1.6356</td> <td>    0.232</td> <td>   -7.041</td> <td> 0.000</td> <td>   -2.091</td> <td>   -1.180</td>\n",
       "</tr>\n",
       "<tr>\n",
       "  <th>Total Time Spent on Website</th>                          <td>    1.0210</td> <td>    0.045</td> <td>   22.903</td> <td> 0.000</td> <td>    0.934</td> <td>    1.108</td>\n",
       "</tr>\n",
       "<tr>\n",
       "  <th>Lead Origin_Landing Page Submission</th>                  <td>   -1.3510</td> <td>    0.129</td> <td>  -10.502</td> <td> 0.000</td> <td>   -1.603</td> <td>   -1.099</td>\n",
       "</tr>\n",
       "<tr>\n",
       "  <th>Lead Origin_Lead Add Form</th>                            <td>    2.7306</td> <td>    0.283</td> <td>    9.636</td> <td> 0.000</td> <td>    2.175</td> <td>    3.286</td>\n",
       "</tr>\n",
       "<tr>\n",
       "  <th>Last Activity_Email Opened</th>                           <td>    0.2661</td> <td>    0.129</td> <td>    2.065</td> <td> 0.039</td> <td>    0.014</td> <td>    0.519</td>\n",
       "</tr>\n",
       "<tr>\n",
       "  <th>Last Activity_SMS Sent</th>                               <td>    1.2809</td> <td>    0.129</td> <td>    9.924</td> <td> 0.000</td> <td>    1.028</td> <td>    1.534</td>\n",
       "</tr>\n",
       "<tr>\n",
       "  <th>Last Activity_Unsubscribed</th>                           <td>    2.0769</td> <td>    0.526</td> <td>    3.948</td> <td> 0.000</td> <td>    1.046</td> <td>    3.108</td>\n",
       "</tr>\n",
       "<tr>\n",
       "  <th>What is your current occupation_Working Professional</th> <td>    2.7231</td> <td>    0.212</td> <td>   12.819</td> <td> 0.000</td> <td>    2.307</td> <td>    3.139</td>\n",
       "</tr>\n",
       "<tr>\n",
       "  <th>Last Notable Activity_Had a Phone Conversation</th>       <td>    3.4788</td> <td>    1.089</td> <td>    3.194</td> <td> 0.001</td> <td>    1.344</td> <td>    5.613</td>\n",
       "</tr>\n",
       "<tr>\n",
       "  <th>Last Notable Activity_Modified</th>                       <td>   -0.7963</td> <td>    0.107</td> <td>   -7.456</td> <td> 0.000</td> <td>   -1.006</td> <td>   -0.587</td>\n",
       "</tr>\n",
       "<tr>\n",
       "  <th>Last Notable Activity_Unreachable</th>                    <td>    1.7357</td> <td>    0.723</td> <td>    2.402</td> <td> 0.016</td> <td>    0.319</td> <td>    3.152</td>\n",
       "</tr>\n",
       "</table>"
      ],
      "text/plain": [
       "<class 'statsmodels.iolib.summary.Summary'>\n",
       "\"\"\"\n",
       "                 Generalized Linear Model Regression Results                  \n",
       "==============================================================================\n",
       "Dep. Variable:              Converted   No. Observations:                 4093\n",
       "Model:                            GLM   Df Residuals:                     4081\n",
       "Model Family:                Binomial   Df Model:                           11\n",
       "Link Function:                  logit   Scale:                          1.0000\n",
       "Method:                          IRLS   Log-Likelihood:                -1802.8\n",
       "Date:                Tue, 07 Dec 2021   Deviance:                       3605.5\n",
       "Time:                        13:35:44   Pearson chi2:                 4.60e+03\n",
       "No. Iterations:                     6   Pseudo R-squ. (CS):             0.3888\n",
       "Covariance Type:            nonrobust                                         \n",
       "========================================================================================================================\n",
       "                                                           coef    std err          z      P>|z|      [0.025      0.975]\n",
       "------------------------------------------------------------------------------------------------------------------------\n",
       "const                                                    0.2204      0.161      1.370      0.171      -0.095       0.536\n",
       "Do Not Email                                            -1.6356      0.232     -7.041      0.000      -2.091      -1.180\n",
       "Total Time Spent on Website                              1.0210      0.045     22.903      0.000       0.934       1.108\n",
       "Lead Origin_Landing Page Submission                     -1.3510      0.129    -10.502      0.000      -1.603      -1.099\n",
       "Lead Origin_Lead Add Form                                2.7306      0.283      9.636      0.000       2.175       3.286\n",
       "Last Activity_Email Opened                               0.2661      0.129      2.065      0.039       0.014       0.519\n",
       "Last Activity_SMS Sent                                   1.2809      0.129      9.924      0.000       1.028       1.534\n",
       "Last Activity_Unsubscribed                               2.0769      0.526      3.948      0.000       1.046       3.108\n",
       "What is your current occupation_Working Professional     2.7231      0.212     12.819      0.000       2.307       3.139\n",
       "Last Notable Activity_Had a Phone Conversation           3.4788      1.089      3.194      0.001       1.344       5.613\n",
       "Last Notable Activity_Modified                          -0.7963      0.107     -7.456      0.000      -1.006      -0.587\n",
       "Last Notable Activity_Unreachable                        1.7357      0.723      2.402      0.016       0.319       3.152\n",
       "========================================================================================================================\n",
       "\"\"\""
      ]
     },
     "execution_count": 67,
     "metadata": {},
     "output_type": "execute_result"
    }
   ],
   "source": [
    "X_train_rfe.pop('Last Notable Activity_Email Opened')\n",
    "\n",
    "X_train_sm = sm.add_constant(X_train_rfe)\n",
    "logm5 = sm.GLM(y_train,X_train_sm, family = sm.families.Binomial())\n",
    "res = logm5.fit()\n",
    "res.summary()"
   ]
  },
  {
   "cell_type": "code",
   "execution_count": 68,
   "id": "better-pizza",
   "metadata": {},
   "outputs": [
    {
     "data": {
      "text/html": [
       "<div>\n",
       "<style scoped>\n",
       "    .dataframe tbody tr th:only-of-type {\n",
       "        vertical-align: middle;\n",
       "    }\n",
       "\n",
       "    .dataframe tbody tr th {\n",
       "        vertical-align: top;\n",
       "    }\n",
       "\n",
       "    .dataframe thead th {\n",
       "        text-align: right;\n",
       "    }\n",
       "</style>\n",
       "<table border=\"1\" class=\"dataframe\">\n",
       "  <thead>\n",
       "    <tr style=\"text-align: right;\">\n",
       "      <th></th>\n",
       "      <th>Features</th>\n",
       "      <th>VIF</th>\n",
       "    </tr>\n",
       "  </thead>\n",
       "  <tbody>\n",
       "    <tr>\n",
       "      <th>0</th>\n",
       "      <td>Lead Origin_Landing Page Submission</td>\n",
       "      <td>4.25</td>\n",
       "    </tr>\n",
       "    <tr>\n",
       "      <th>1</th>\n",
       "      <td>Last Activity_Email Opened</td>\n",
       "      <td>2.37</td>\n",
       "    </tr>\n",
       "    <tr>\n",
       "      <th>2</th>\n",
       "      <td>Last Activity_SMS Sent</td>\n",
       "      <td>2.17</td>\n",
       "    </tr>\n",
       "    <tr>\n",
       "      <th>3</th>\n",
       "      <td>Last Notable Activity_Modified</td>\n",
       "      <td>1.60</td>\n",
       "    </tr>\n",
       "    <tr>\n",
       "      <th>4</th>\n",
       "      <td>Lead Origin_Lead Add Form</td>\n",
       "      <td>1.46</td>\n",
       "    </tr>\n",
       "    <tr>\n",
       "      <th>5</th>\n",
       "      <td>Do Not Email</td>\n",
       "      <td>1.30</td>\n",
       "    </tr>\n",
       "    <tr>\n",
       "      <th>6</th>\n",
       "      <td>What is your current occupation_Working Profes...</td>\n",
       "      <td>1.25</td>\n",
       "    </tr>\n",
       "    <tr>\n",
       "      <th>7</th>\n",
       "      <td>Last Activity_Unsubscribed</td>\n",
       "      <td>1.10</td>\n",
       "    </tr>\n",
       "    <tr>\n",
       "      <th>8</th>\n",
       "      <td>Total Time Spent on Website</td>\n",
       "      <td>1.07</td>\n",
       "    </tr>\n",
       "    <tr>\n",
       "      <th>9</th>\n",
       "      <td>Last Notable Activity_Had a Phone Conversation</td>\n",
       "      <td>1.01</td>\n",
       "    </tr>\n",
       "    <tr>\n",
       "      <th>10</th>\n",
       "      <td>Last Notable Activity_Unreachable</td>\n",
       "      <td>1.01</td>\n",
       "    </tr>\n",
       "  </tbody>\n",
       "</table>\n",
       "</div>"
      ],
      "text/plain": [
       "                                             Features   VIF\n",
       "0                 Lead Origin_Landing Page Submission  4.25\n",
       "1                          Last Activity_Email Opened  2.37\n",
       "2                              Last Activity_SMS Sent  2.17\n",
       "3                      Last Notable Activity_Modified  1.60\n",
       "4                           Lead Origin_Lead Add Form  1.46\n",
       "5                                        Do Not Email  1.30\n",
       "6   What is your current occupation_Working Profes...  1.25\n",
       "7                          Last Activity_Unsubscribed  1.10\n",
       "8                         Total Time Spent on Website  1.07\n",
       "9      Last Notable Activity_Had a Phone Conversation  1.01\n",
       "10                  Last Notable Activity_Unreachable  1.01"
      ]
     },
     "execution_count": 68,
     "metadata": {},
     "output_type": "execute_result"
    }
   ],
   "source": [
    "vif = pd.DataFrame()\n",
    "vif['Features'] = X_train_rfe.columns\n",
    "vif['VIF'] = [variance_inflation_factor(X_train_rfe.values, i) for i in range(X_train_rfe.shape[1])]\n",
    "vif['VIF'] = round(vif['VIF'], 2)\n",
    "vif = vif.sort_values(by = \"VIF\", ascending = False).reset_index(drop=True)\n",
    "vif"
   ]
  },
  {
   "cell_type": "markdown",
   "id": "classical-packaging",
   "metadata": {},
   "source": [
    "All variables have a good value of VIF. So we need not drop any more variables and we can proceed with making predictions using this final model. "
   ]
  },
  {
   "cell_type": "code",
   "execution_count": 69,
   "id": "signal-march",
   "metadata": {},
   "outputs": [
    {
     "data": {
      "text/plain": [
       "4988    0.204103\n",
       "3137    0.074229\n",
       "2736    0.149044\n",
       "2608    0.875976\n",
       "4916    0.063238\n",
       "5751    0.290638\n",
       "2298    0.230788\n",
       "2004    0.058890\n",
       "3764    0.909708\n",
       "5287    0.042126\n",
       "dtype: float64"
      ]
     },
     "execution_count": 69,
     "metadata": {},
     "output_type": "execute_result"
    }
   ],
   "source": [
    "# Getting the predicted values on the train set\n",
    "y_train_pred = res.predict(X_train_sm)\n",
    "y_train_pred[:10]"
   ]
  },
  {
   "cell_type": "code",
   "execution_count": 70,
   "id": "structured-cleaning",
   "metadata": {},
   "outputs": [
    {
     "data": {
      "text/plain": [
       "array([0.20410299, 0.07422895, 0.14904434, 0.87597577, 0.06323774,\n",
       "       0.29063788, 0.23078791, 0.05889045, 0.90970783, 0.04212567])"
      ]
     },
     "execution_count": 70,
     "metadata": {},
     "output_type": "execute_result"
    }
   ],
   "source": [
    "y_train_pred = y_train_pred.values.reshape(-1)\n",
    "y_train_pred[:10]"
   ]
  },
  {
   "cell_type": "markdown",
   "id": "alert-minnesota",
   "metadata": {},
   "source": [
    "##### Creating a dataframe with the actual conversion flag and the predicted probabilities"
   ]
  },
  {
   "cell_type": "code",
   "execution_count": 71,
   "id": "printable-vehicle",
   "metadata": {},
   "outputs": [
    {
     "data": {
      "text/html": [
       "<div>\n",
       "<style scoped>\n",
       "    .dataframe tbody tr th:only-of-type {\n",
       "        vertical-align: middle;\n",
       "    }\n",
       "\n",
       "    .dataframe tbody tr th {\n",
       "        vertical-align: top;\n",
       "    }\n",
       "\n",
       "    .dataframe thead th {\n",
       "        text-align: right;\n",
       "    }\n",
       "</style>\n",
       "<table border=\"1\" class=\"dataframe\">\n",
       "  <thead>\n",
       "    <tr style=\"text-align: right;\">\n",
       "      <th></th>\n",
       "      <th>Lead_id</th>\n",
       "      <th>Converted</th>\n",
       "      <th>Convert_Prob</th>\n",
       "    </tr>\n",
       "  </thead>\n",
       "  <tbody>\n",
       "    <tr>\n",
       "      <th>0</th>\n",
       "      <td>4988</td>\n",
       "      <td>0</td>\n",
       "      <td>0.204103</td>\n",
       "    </tr>\n",
       "    <tr>\n",
       "      <th>1</th>\n",
       "      <td>3137</td>\n",
       "      <td>0</td>\n",
       "      <td>0.074229</td>\n",
       "    </tr>\n",
       "    <tr>\n",
       "      <th>2</th>\n",
       "      <td>2736</td>\n",
       "      <td>0</td>\n",
       "      <td>0.149044</td>\n",
       "    </tr>\n",
       "    <tr>\n",
       "      <th>3</th>\n",
       "      <td>2608</td>\n",
       "      <td>1</td>\n",
       "      <td>0.875976</td>\n",
       "    </tr>\n",
       "    <tr>\n",
       "      <th>4</th>\n",
       "      <td>4916</td>\n",
       "      <td>0</td>\n",
       "      <td>0.063238</td>\n",
       "    </tr>\n",
       "  </tbody>\n",
       "</table>\n",
       "</div>"
      ],
      "text/plain": [
       "   Lead_id  Converted  Convert_Prob\n",
       "0     4988          0      0.204103\n",
       "1     3137          0      0.074229\n",
       "2     2736          0      0.149044\n",
       "3     2608          1      0.875976\n",
       "4     4916          0      0.063238"
      ]
     },
     "execution_count": 71,
     "metadata": {},
     "output_type": "execute_result"
    }
   ],
   "source": [
    "y_train_pred_final = pd.DataFrame({'Lead_id': y_train.index, 'Converted':y_train.values, 'Convert_Prob':y_train_pred})\n",
    "y_train_pred_final.head()"
   ]
  },
  {
   "cell_type": "code",
   "execution_count": 72,
   "id": "static-madagascar",
   "metadata": {},
   "outputs": [
    {
     "data": {
      "text/html": [
       "<div>\n",
       "<style scoped>\n",
       "    .dataframe tbody tr th:only-of-type {\n",
       "        vertical-align: middle;\n",
       "    }\n",
       "\n",
       "    .dataframe tbody tr th {\n",
       "        vertical-align: top;\n",
       "    }\n",
       "\n",
       "    .dataframe thead th {\n",
       "        text-align: right;\n",
       "    }\n",
       "</style>\n",
       "<table border=\"1\" class=\"dataframe\">\n",
       "  <thead>\n",
       "    <tr style=\"text-align: right;\">\n",
       "      <th></th>\n",
       "      <th>Lead_id</th>\n",
       "      <th>Converted</th>\n",
       "      <th>Convert_Prob</th>\n",
       "      <th>predicted</th>\n",
       "    </tr>\n",
       "  </thead>\n",
       "  <tbody>\n",
       "    <tr>\n",
       "      <th>0</th>\n",
       "      <td>4988</td>\n",
       "      <td>0</td>\n",
       "      <td>0.204103</td>\n",
       "      <td>0</td>\n",
       "    </tr>\n",
       "    <tr>\n",
       "      <th>1</th>\n",
       "      <td>3137</td>\n",
       "      <td>0</td>\n",
       "      <td>0.074229</td>\n",
       "      <td>0</td>\n",
       "    </tr>\n",
       "    <tr>\n",
       "      <th>2</th>\n",
       "      <td>2736</td>\n",
       "      <td>0</td>\n",
       "      <td>0.149044</td>\n",
       "      <td>0</td>\n",
       "    </tr>\n",
       "    <tr>\n",
       "      <th>3</th>\n",
       "      <td>2608</td>\n",
       "      <td>1</td>\n",
       "      <td>0.875976</td>\n",
       "      <td>1</td>\n",
       "    </tr>\n",
       "    <tr>\n",
       "      <th>4</th>\n",
       "      <td>4916</td>\n",
       "      <td>0</td>\n",
       "      <td>0.063238</td>\n",
       "      <td>0</td>\n",
       "    </tr>\n",
       "  </tbody>\n",
       "</table>\n",
       "</div>"
      ],
      "text/plain": [
       "   Lead_id  Converted  Convert_Prob  predicted\n",
       "0     4988          0      0.204103          0\n",
       "1     3137          0      0.074229          0\n",
       "2     2736          0      0.149044          0\n",
       "3     2608          1      0.875976          1\n",
       "4     4916          0      0.063238          0"
      ]
     },
     "execution_count": 72,
     "metadata": {},
     "output_type": "execute_result"
    }
   ],
   "source": [
    "y_train_pred_final['predicted'] = y_train_pred_final['Convert_Prob'].apply(lambda x: 1 if x>0.5 else 0)\n",
    "y_train_pred_final.head()"
   ]
  },
  {
   "cell_type": "markdown",
   "id": "neutral-edgar",
   "metadata": {},
   "source": [
    "---"
   ]
  },
  {
   "cell_type": "markdown",
   "id": "fifth-studio",
   "metadata": {},
   "source": [
    "### Model Evaluation"
   ]
  },
  {
   "cell_type": "markdown",
   "id": "lovely-prison",
   "metadata": {},
   "source": [
    "We'll now evaluate out model on train data."
   ]
  },
  {
   "cell_type": "code",
   "execution_count": 73,
   "id": "beneficial-fairy",
   "metadata": {},
   "outputs": [
    {
     "name": "stdout",
     "output_type": "stream",
     "text": [
      "[[1959  321]\n",
      " [ 498 1315]]\n"
     ]
    }
   ],
   "source": [
    "confusion = metrics.confusion_matrix(y_train_pred_final.Converted, y_train_pred_final.predicted )\n",
    "print(confusion)"
   ]
  },
  {
   "cell_type": "code",
   "execution_count": 74,
   "id": "declared-partition",
   "metadata": {},
   "outputs": [
    {
     "name": "stdout",
     "output_type": "stream",
     "text": [
      "0.7999022721720009\n"
     ]
    }
   ],
   "source": [
    "print(metrics.accuracy_score(y_train_pred_final.Converted, y_train_pred_final.predicted))"
   ]
  },
  {
   "cell_type": "code",
   "execution_count": 75,
   "id": "patent-ireland",
   "metadata": {},
   "outputs": [],
   "source": [
    "TP = confusion[1,1] # true positive \n",
    "TN = confusion[0,0] # true negatives\n",
    "FP = confusion[0,1] # false positives\n",
    "FN = confusion[1,0] # false negatives"
   ]
  },
  {
   "cell_type": "code",
   "execution_count": 76,
   "id": "fifth-panama",
   "metadata": {},
   "outputs": [
    {
     "data": {
      "text/plain": [
       "0.7253171538885824"
      ]
     },
     "execution_count": 76,
     "metadata": {},
     "output_type": "execute_result"
    }
   ],
   "source": [
    "# Let's see the sensitivity of our logistic regression model\n",
    "TP / float(TP+FN)"
   ]
  },
  {
   "cell_type": "code",
   "execution_count": 77,
   "id": "adopted-location",
   "metadata": {},
   "outputs": [
    {
     "data": {
      "text/plain": [
       "0.8592105263157894"
      ]
     },
     "execution_count": 77,
     "metadata": {},
     "output_type": "execute_result"
    }
   ],
   "source": [
    "# Let us calculate specificity\n",
    "TN / float(TN+FP)"
   ]
  },
  {
   "cell_type": "markdown",
   "id": "mental-region",
   "metadata": {},
   "source": [
    "Taking cutt-off as 0.5 we obtain:\n",
    "- **Accuracy** - 80%\n",
    "- **Sensitivity** - 75%\n",
    "- **Specificity** - 86%%"
   ]
  },
  {
   "cell_type": "markdown",
   "id": "numeric-validation",
   "metadata": {},
   "source": [
    "---"
   ]
  },
  {
   "cell_type": "markdown",
   "id": "joined-determination",
   "metadata": {},
   "source": [
    "### Optimising Cutt-Off ( AUC- ROC curve )"
   ]
  },
  {
   "cell_type": "code",
   "execution_count": 78,
   "id": "pursuant-response",
   "metadata": {},
   "outputs": [],
   "source": [
    "def draw_roc( actual, probs ):\n",
    "    fpr, tpr, thresholds = metrics.roc_curve( actual, probs,\n",
    "                                              drop_intermediate = False )\n",
    "    auc_score = metrics.roc_auc_score( actual, probs )\n",
    "    plt.figure(figsize=(5, 5))\n",
    "    plt.plot( fpr, tpr, label='ROC curve (area = %0.2f)' % auc_score )\n",
    "    plt.plot([0, 1], [0, 1], 'k--')\n",
    "    plt.xlim([0.0, 1.0])\n",
    "    plt.ylim([0.0, 1.05])\n",
    "    plt.xlabel('False Positive Rate or [1 - True Negative Rate]')\n",
    "    plt.ylabel('True Positive Rate')\n",
    "    plt.title('Receiver operating characteristic')\n",
    "    plt.legend(loc=\"lower right\")\n",
    "    plt.show()\n",
    "\n",
    "    return None"
   ]
  },
  {
   "cell_type": "code",
   "execution_count": 79,
   "id": "ordered-chosen",
   "metadata": {},
   "outputs": [],
   "source": [
    "fpr, tpr, thresholds = metrics.roc_curve( y_train_pred_final.Converted, y_train_pred_final.Convert_Prob, drop_intermediate = False )"
   ]
  },
  {
   "cell_type": "code",
   "execution_count": 80,
   "id": "comic-thing",
   "metadata": {},
   "outputs": [
    {
     "data": {
      "image/png": "[encoded data removed]",
      "text/plain": [
       "<Figure size 360x360 with 1 Axes>"
      ]
     },
     "metadata": {
      "needs_background": "light"
     },
     "output_type": "display_data"
    }
   ],
   "source": [
    "draw_roc(y_train_pred_final.Converted, y_train_pred_final.Convert_Prob)"
   ]
  },
  {
   "cell_type": "code",
   "execution_count": 81,
   "id": "figured-thompson",
   "metadata": {},
   "outputs": [
    {
     "data": {
      "text/html": [
       "<div>\n",
       "<style scoped>\n",
       "    .dataframe tbody tr th:only-of-type {\n",
       "        vertical-align: middle;\n",
       "    }\n",
       "\n",
       "    .dataframe tbody tr th {\n",
       "        vertical-align: top;\n",
       "    }\n",
       "\n",
       "    .dataframe thead th {\n",
       "        text-align: right;\n",
       "    }\n",
       "</style>\n",
       "<table border=\"1\" class=\"dataframe\">\n",
       "  <thead>\n",
       "    <tr style=\"text-align: right;\">\n",
       "      <th></th>\n",
       "      <th>Lead_id</th>\n",
       "      <th>Converted</th>\n",
       "      <th>Convert_Prob</th>\n",
       "      <th>predicted</th>\n",
       "      <th>0.0</th>\n",
       "      <th>0.1</th>\n",
       "      <th>0.2</th>\n",
       "      <th>0.3</th>\n",
       "      <th>0.4</th>\n",
       "      <th>0.5</th>\n",
       "      <th>0.6</th>\n",
       "      <th>0.7</th>\n",
       "      <th>0.8</th>\n",
       "      <th>0.9</th>\n",
       "    </tr>\n",
       "  </thead>\n",
       "  <tbody>\n",
       "    <tr>\n",
       "      <th>0</th>\n",
       "      <td>4988</td>\n",
       "      <td>0</td>\n",
       "      <td>0.204103</td>\n",
       "      <td>0</td>\n",
       "      <td>1</td>\n",
       "      <td>1</td>\n",
       "      <td>1</td>\n",
       "      <td>0</td>\n",
       "      <td>0</td>\n",
       "      <td>0</td>\n",
       "      <td>0</td>\n",
       "      <td>0</td>\n",
       "      <td>0</td>\n",
       "      <td>0</td>\n",
       "    </tr>\n",
       "    <tr>\n",
       "      <th>1</th>\n",
       "      <td>3137</td>\n",
       "      <td>0</td>\n",
       "      <td>0.074229</td>\n",
       "      <td>0</td>\n",
       "      <td>1</td>\n",
       "      <td>0</td>\n",
       "      <td>0</td>\n",
       "      <td>0</td>\n",
       "      <td>0</td>\n",
       "      <td>0</td>\n",
       "      <td>0</td>\n",
       "      <td>0</td>\n",
       "      <td>0</td>\n",
       "      <td>0</td>\n",
       "    </tr>\n",
       "    <tr>\n",
       "      <th>2</th>\n",
       "      <td>2736</td>\n",
       "      <td>0</td>\n",
       "      <td>0.149044</td>\n",
       "      <td>0</td>\n",
       "      <td>1</td>\n",
       "      <td>1</td>\n",
       "      <td>0</td>\n",
       "      <td>0</td>\n",
       "      <td>0</td>\n",
       "      <td>0</td>\n",
       "      <td>0</td>\n",
       "      <td>0</td>\n",
       "      <td>0</td>\n",
       "      <td>0</td>\n",
       "    </tr>\n",
       "    <tr>\n",
       "      <th>3</th>\n",
       "      <td>2608</td>\n",
       "      <td>1</td>\n",
       "      <td>0.875976</td>\n",
       "      <td>1</td>\n",
       "      <td>1</td>\n",
       "      <td>1</td>\n",
       "      <td>1</td>\n",
       "      <td>1</td>\n",
       "      <td>1</td>\n",
       "      <td>1</td>\n",
       "      <td>1</td>\n",
       "      <td>1</td>\n",
       "      <td>1</td>\n",
       "      <td>0</td>\n",
       "    </tr>\n",
       "    <tr>\n",
       "      <th>4</th>\n",
       "      <td>4916</td>\n",
       "      <td>0</td>\n",
       "      <td>0.063238</td>\n",
       "      <td>0</td>\n",
       "      <td>1</td>\n",
       "      <td>0</td>\n",
       "      <td>0</td>\n",
       "      <td>0</td>\n",
       "      <td>0</td>\n",
       "      <td>0</td>\n",
       "      <td>0</td>\n",
       "      <td>0</td>\n",
       "      <td>0</td>\n",
       "      <td>0</td>\n",
       "    </tr>\n",
       "  </tbody>\n",
       "</table>\n",
       "</div>"
      ],
      "text/plain": [
       "   Lead_id  Converted  Convert_Prob  predicted  0.0  0.1  0.2  0.3  0.4  0.5  \\\n",
       "0     4988          0      0.204103          0    1    1    1    0    0    0   \n",
       "1     3137          0      0.074229          0    1    0    0    0    0    0   \n",
       "2     2736          0      0.149044          0    1    1    0    0    0    0   \n",
       "3     2608          1      0.875976          1    1    1    1    1    1    1   \n",
       "4     4916          0      0.063238          0    1    0    0    0    0    0   \n",
       "\n",
       "   0.6  0.7  0.8  0.9  \n",
       "0    0    0    0    0  \n",
       "1    0    0    0    0  \n",
       "2    0    0    0    0  \n",
       "3    1    1    1    0  \n",
       "4    0    0    0    0  "
      ]
     },
     "execution_count": 81,
     "metadata": {},
     "output_type": "execute_result"
    }
   ],
   "source": [
    "# Let's create columns with different probability cutoffs \n",
    "numbers = [float(x)/10 for x in range(10)]\n",
    "for i in numbers:\n",
    "    y_train_pred_final[i]= y_train_pred_final.Convert_Prob.map(lambda x: 1 if x > i else 0)\n",
    "y_train_pred_final.head()"
   ]
  },
  {
   "cell_type": "code",
   "execution_count": 82,
   "id": "decreased-cause",
   "metadata": {},
   "outputs": [
    {
     "name": "stdout",
     "output_type": "stream",
     "text": [
      "     prob  accuracy     sensi     speci\n",
      "0.0   0.0  0.442951  1.000000  0.000000\n",
      "0.1   0.1  0.573662  0.976834  0.253070\n",
      "0.2   0.2  0.719277  0.927192  0.553947\n",
      "0.3   0.3  0.782067  0.886928  0.698684\n",
      "0.4   0.4  0.800635  0.801434  0.800000\n",
      "0.5   0.5  0.799902  0.725317  0.859211\n",
      "0.6   0.6  0.777669  0.634308  0.891667\n",
      "0.7   0.7  0.763743  0.553778  0.930702\n",
      "0.8   0.8  0.731004  0.435742  0.965789\n",
      "0.9   0.9  0.671146  0.274131  0.986842\n"
     ]
    }
   ],
   "source": [
    "# Now let's calculate accuracy sensitivity and specificity for various probability cutoffs.\n",
    "cutoff_df = pd.DataFrame( columns = ['prob','accuracy','sensi','speci'])\n",
    "from sklearn.metrics import confusion_matrix\n",
    "\n",
    "# TP = confusion[1,1] # true positive \n",
    "# TN = confusion[0,0] # true negatives\n",
    "# FP = confusion[0,1] # false positives\n",
    "# FN = confusion[1,0] # false negatives\n",
    "\n",
    "num = [0.0,0.1,0.2,0.3,0.4,0.5,0.6,0.7,0.8,0.9]\n",
    "for i in num:\n",
    "    cm1 = metrics.confusion_matrix(y_train_pred_final.Converted, y_train_pred_final[i] )\n",
    "    total1=sum(sum(cm1))\n",
    "    accuracy = (cm1[0,0]+cm1[1,1])/total1\n",
    "    \n",
    "    speci = cm1[0,0]/(cm1[0,0]+cm1[0,1])\n",
    "    sensi = cm1[1,1]/(cm1[1,0]+cm1[1,1])\n",
    "    cutoff_df.loc[i] =[ i ,accuracy,sensi,speci]\n",
    "print(cutoff_df)"
   ]
  },
  {
   "cell_type": "code",
   "execution_count": 83,
   "id": "detailed-distinction",
   "metadata": {},
   "outputs": [
    {
     "data": {
      "image/png": "[encoded data removed]",
      "text/plain": [
       "<Figure size 432x288 with 1 Axes>"
      ]
     },
     "metadata": {
      "needs_background": "light"
     },
     "output_type": "display_data"
    }
   ],
   "source": [
    "# Let's plot accuracy sensitivity and specificity for various probabilities.\n",
    "cutoff_df.plot.line(x='prob', y=['accuracy','sensi','speci'])\n",
    "plt.show()"
   ]
  },
  {
   "cell_type": "markdown",
   "id": "pursuant-circumstances",
   "metadata": {},
   "source": [
    "From above statistics & plots it's clear that 0.4 is the optimum threshold for our model.<br>\n",
    "Hence, we will be finalising **0.4** as optimum threshold."
   ]
  },
  {
   "cell_type": "code",
   "execution_count": 84,
   "id": "loose-publication",
   "metadata": {},
   "outputs": [
    {
     "data": {
      "text/html": [
       "<div>\n",
       "<style scoped>\n",
       "    .dataframe tbody tr th:only-of-type {\n",
       "        vertical-align: middle;\n",
       "    }\n",
       "\n",
       "    .dataframe tbody tr th {\n",
       "        vertical-align: top;\n",
       "    }\n",
       "\n",
       "    .dataframe thead th {\n",
       "        text-align: right;\n",
       "    }\n",
       "</style>\n",
       "<table border=\"1\" class=\"dataframe\">\n",
       "  <thead>\n",
       "    <tr style=\"text-align: right;\">\n",
       "      <th></th>\n",
       "      <th>Lead_id</th>\n",
       "      <th>Converted</th>\n",
       "      <th>Convert_Prob</th>\n",
       "      <th>predicted</th>\n",
       "      <th>0.0</th>\n",
       "      <th>0.1</th>\n",
       "      <th>0.2</th>\n",
       "      <th>0.3</th>\n",
       "      <th>0.4</th>\n",
       "      <th>0.5</th>\n",
       "      <th>0.6</th>\n",
       "      <th>0.7</th>\n",
       "      <th>0.8</th>\n",
       "      <th>0.9</th>\n",
       "      <th>final_predicted</th>\n",
       "    </tr>\n",
       "  </thead>\n",
       "  <tbody>\n",
       "    <tr>\n",
       "      <th>0</th>\n",
       "      <td>4988</td>\n",
       "      <td>0</td>\n",
       "      <td>0.204103</td>\n",
       "      <td>0</td>\n",
       "      <td>1</td>\n",
       "      <td>1</td>\n",
       "      <td>1</td>\n",
       "      <td>0</td>\n",
       "      <td>0</td>\n",
       "      <td>0</td>\n",
       "      <td>0</td>\n",
       "      <td>0</td>\n",
       "      <td>0</td>\n",
       "      <td>0</td>\n",
       "      <td>0</td>\n",
       "    </tr>\n",
       "    <tr>\n",
       "      <th>1</th>\n",
       "      <td>3137</td>\n",
       "      <td>0</td>\n",
       "      <td>0.074229</td>\n",
       "      <td>0</td>\n",
       "      <td>1</td>\n",
       "      <td>0</td>\n",
       "      <td>0</td>\n",
       "      <td>0</td>\n",
       "      <td>0</td>\n",
       "      <td>0</td>\n",
       "      <td>0</td>\n",
       "      <td>0</td>\n",
       "      <td>0</td>\n",
       "      <td>0</td>\n",
       "      <td>0</td>\n",
       "    </tr>\n",
       "    <tr>\n",
       "      <th>2</th>\n",
       "      <td>2736</td>\n",
       "      <td>0</td>\n",
       "      <td>0.149044</td>\n",
       "      <td>0</td>\n",
       "      <td>1</td>\n",
       "      <td>1</td>\n",
       "      <td>0</td>\n",
       "      <td>0</td>\n",
       "      <td>0</td>\n",
       "      <td>0</td>\n",
       "      <td>0</td>\n",
       "      <td>0</td>\n",
       "      <td>0</td>\n",
       "      <td>0</td>\n",
       "      <td>0</td>\n",
       "    </tr>\n",
       "    <tr>\n",
       "      <th>3</th>\n",
       "      <td>2608</td>\n",
       "      <td>1</td>\n",
       "      <td>0.875976</td>\n",
       "      <td>1</td>\n",
       "      <td>1</td>\n",
       "      <td>1</td>\n",
       "      <td>1</td>\n",
       "      <td>1</td>\n",
       "      <td>1</td>\n",
       "      <td>1</td>\n",
       "      <td>1</td>\n",
       "      <td>1</td>\n",
       "      <td>1</td>\n",
       "      <td>0</td>\n",
       "      <td>1</td>\n",
       "    </tr>\n",
       "    <tr>\n",
       "      <th>4</th>\n",
       "      <td>4916</td>\n",
       "      <td>0</td>\n",
       "      <td>0.063238</td>\n",
       "      <td>0</td>\n",
       "      <td>1</td>\n",
       "      <td>0</td>\n",
       "      <td>0</td>\n",
       "      <td>0</td>\n",
       "      <td>0</td>\n",
       "      <td>0</td>\n",
       "      <td>0</td>\n",
       "      <td>0</td>\n",
       "      <td>0</td>\n",
       "      <td>0</td>\n",
       "      <td>0</td>\n",
       "    </tr>\n",
       "  </tbody>\n",
       "</table>\n",
       "</div>"
      ],
      "text/plain": [
       "   Lead_id  Converted  Convert_Prob  predicted  0.0  0.1  0.2  0.3  0.4  0.5  \\\n",
       "0     4988          0      0.204103          0    1    1    1    0    0    0   \n",
       "1     3137          0      0.074229          0    1    0    0    0    0    0   \n",
       "2     2736          0      0.149044          0    1    1    0    0    0    0   \n",
       "3     2608          1      0.875976          1    1    1    1    1    1    1   \n",
       "4     4916          0      0.063238          0    1    0    0    0    0    0   \n",
       "\n",
       "   0.6  0.7  0.8  0.9  final_predicted  \n",
       "0    0    0    0    0                0  \n",
       "1    0    0    0    0                0  \n",
       "2    0    0    0    0                0  \n",
       "3    1    1    1    0                1  \n",
       "4    0    0    0    0                0  "
      ]
     },
     "execution_count": 84,
     "metadata": {},
     "output_type": "execute_result"
    }
   ],
   "source": [
    "y_train_pred_final['final_predicted'] = y_train_pred_final.Convert_Prob.map( lambda x: 1 if x >= 0.4 else 0)\n",
    "\n",
    "y_train_pred_final.head()"
   ]
  },
  {
   "cell_type": "code",
   "execution_count": 85,
   "id": "quantitative-jungle",
   "metadata": {},
   "outputs": [
    {
     "data": {
      "text/html": [
       "<div>\n",
       "<style scoped>\n",
       "    .dataframe tbody tr th:only-of-type {\n",
       "        vertical-align: middle;\n",
       "    }\n",
       "\n",
       "    .dataframe tbody tr th {\n",
       "        vertical-align: top;\n",
       "    }\n",
       "\n",
       "    .dataframe thead th {\n",
       "        text-align: right;\n",
       "    }\n",
       "</style>\n",
       "<table border=\"1\" class=\"dataframe\">\n",
       "  <thead>\n",
       "    <tr style=\"text-align: right;\">\n",
       "      <th></th>\n",
       "      <th>Lead_id</th>\n",
       "      <th>Converted</th>\n",
       "      <th>Convert_Prob</th>\n",
       "      <th>final_predicted</th>\n",
       "      <th>Lead_Score</th>\n",
       "    </tr>\n",
       "  </thead>\n",
       "  <tbody>\n",
       "    <tr>\n",
       "      <th>0</th>\n",
       "      <td>4988</td>\n",
       "      <td>0</td>\n",
       "      <td>0.204103</td>\n",
       "      <td>0</td>\n",
       "      <td>20</td>\n",
       "    </tr>\n",
       "    <tr>\n",
       "      <th>1</th>\n",
       "      <td>3137</td>\n",
       "      <td>0</td>\n",
       "      <td>0.074229</td>\n",
       "      <td>0</td>\n",
       "      <td>7</td>\n",
       "    </tr>\n",
       "    <tr>\n",
       "      <th>2</th>\n",
       "      <td>2736</td>\n",
       "      <td>0</td>\n",
       "      <td>0.149044</td>\n",
       "      <td>0</td>\n",
       "      <td>15</td>\n",
       "    </tr>\n",
       "    <tr>\n",
       "      <th>3</th>\n",
       "      <td>2608</td>\n",
       "      <td>1</td>\n",
       "      <td>0.875976</td>\n",
       "      <td>1</td>\n",
       "      <td>88</td>\n",
       "    </tr>\n",
       "    <tr>\n",
       "      <th>4</th>\n",
       "      <td>4916</td>\n",
       "      <td>0</td>\n",
       "      <td>0.063238</td>\n",
       "      <td>0</td>\n",
       "      <td>6</td>\n",
       "    </tr>\n",
       "  </tbody>\n",
       "</table>\n",
       "</div>"
      ],
      "text/plain": [
       "   Lead_id  Converted  Convert_Prob  final_predicted  Lead_Score\n",
       "0     4988          0      0.204103                0          20\n",
       "1     3137          0      0.074229                0           7\n",
       "2     2736          0      0.149044                0          15\n",
       "3     2608          1      0.875976                1          88\n",
       "4     4916          0      0.063238                0           6"
      ]
     },
     "execution_count": 85,
     "metadata": {},
     "output_type": "execute_result"
    }
   ],
   "source": [
    "y_train_pred_final['Lead_Score'] = y_train_pred_final.Convert_Prob.map( lambda x: round(x*100))\n",
    "y_train_pred_final[['Lead_id', 'Converted', 'Convert_Prob', 'final_predicted', 'Lead_Score']].head()"
   ]
  },
  {
   "cell_type": "markdown",
   "id": "imperial-apparel",
   "metadata": {},
   "source": [
    "#### Checking metrics based on the finalised threshold"
   ]
  },
  {
   "cell_type": "code",
   "execution_count": 86,
   "id": "consistent-treat",
   "metadata": {},
   "outputs": [
    {
     "name": "stdout",
     "output_type": "stream",
     "text": [
      "0.8006352308819936\n"
     ]
    }
   ],
   "source": [
    "print(metrics.accuracy_score(y_train_pred_final.Converted, y_train_pred_final.final_predicted))"
   ]
  },
  {
   "cell_type": "code",
   "execution_count": 87,
   "id": "relative-franchise",
   "metadata": {},
   "outputs": [
    {
     "data": {
      "text/plain": [
       "array([[1824,  456],\n",
       "       [ 360, 1453]], dtype=int64)"
      ]
     },
     "execution_count": 87,
     "metadata": {},
     "output_type": "execute_result"
    }
   ],
   "source": [
    "confusion2 = metrics.confusion_matrix(y_train_pred_final.Converted, y_train_pred_final.final_predicted )\n",
    "confusion2"
   ]
  },
  {
   "cell_type": "code",
   "execution_count": 88,
   "id": "treated-procedure",
   "metadata": {},
   "outputs": [],
   "source": [
    "TP = confusion2[1,1] # true positive \n",
    "TN = confusion2[0,0] # true negatives\n",
    "FP = confusion2[0,1] # false positives\n",
    "FN = confusion2[1,0] # false negatives"
   ]
  },
  {
   "cell_type": "code",
   "execution_count": 89,
   "id": "solved-nitrogen",
   "metadata": {},
   "outputs": [
    {
     "data": {
      "text/plain": [
       "0.8014340871483728"
      ]
     },
     "execution_count": 89,
     "metadata": {},
     "output_type": "execute_result"
    }
   ],
   "source": [
    "# Let's see the sensitivity of our logistic regression model\n",
    "TP / float(TP+FN)"
   ]
  },
  {
   "cell_type": "code",
   "execution_count": 90,
   "id": "laughing-mount",
   "metadata": {},
   "outputs": [
    {
     "data": {
      "text/plain": [
       "0.8"
      ]
     },
     "execution_count": 90,
     "metadata": {},
     "output_type": "execute_result"
    }
   ],
   "source": [
    "# Let us calculate specificity\n",
    "TN / float(TN+FP)"
   ]
  },
  {
   "cell_type": "markdown",
   "id": "offensive-roman",
   "metadata": {},
   "source": [
    "**Observation** :\n",
    "\n",
    "So as we can see above the model seems to be performing well. The ROC curve has a value of 0.88, which is acceptable. We have the following values for the Train Data:\n",
    "\n",
    "- **Accuracy** : 80%\n",
    "- **Sensitivity** : 80%\n",
    "- **Specificity** : 80%"
   ]
  },
  {
   "cell_type": "markdown",
   "id": "opposite-there",
   "metadata": {},
   "source": [
    "Some of the other Stats are derived below, indicating the False Positive Rate, Positive Predictive Value,Negative Predictive Values, Precision & Recall."
   ]
  },
  {
   "cell_type": "code",
   "execution_count": 91,
   "id": "attractive-carrier",
   "metadata": {},
   "outputs": [
    {
     "name": "stdout",
     "output_type": "stream",
     "text": [
      "0.2\n"
     ]
    }
   ],
   "source": [
    "# Calculate False Postive Rate - predicting conversion when customer does not have convert\n",
    "print(FP/ float(TN+FP))"
   ]
  },
  {
   "cell_type": "code",
   "execution_count": 92,
   "id": "featured-edwards",
   "metadata": {},
   "outputs": [
    {
     "name": "stdout",
     "output_type": "stream",
     "text": [
      "0.7611314824515453\n"
     ]
    }
   ],
   "source": [
    "# Positive predictive value \n",
    "print (TP / float(TP+FP))"
   ]
  },
  {
   "cell_type": "code",
   "execution_count": 93,
   "id": "automated-recorder",
   "metadata": {},
   "outputs": [
    {
     "name": "stdout",
     "output_type": "stream",
     "text": [
      "0.8351648351648352\n"
     ]
    }
   ],
   "source": [
    "# Negative predictive value\n",
    "print (TN / float(TN+ FN))"
   ]
  },
  {
   "cell_type": "code",
   "execution_count": 94,
   "id": "painted-mileage",
   "metadata": {},
   "outputs": [
    {
     "name": "stdout",
     "output_type": "stream",
     "text": [
      "Classification Report: \n",
      "\n",
      "               precision    recall  f1-score   support\n",
      "\n",
      "           0       0.84      0.80      0.82      2280\n",
      "           1       0.76      0.80      0.78      1813\n",
      "\n",
      "    accuracy                           0.80      4093\n",
      "   macro avg       0.80      0.80      0.80      4093\n",
      "weighted avg       0.80      0.80      0.80      4093\n",
      "\n"
     ]
    }
   ],
   "source": [
    "print(\"Classification Report: \\n\\n\",classification_report(y_train_pred_final.Converted, y_train_pred_final.final_predicted))"
   ]
  },
  {
   "cell_type": "code",
   "execution_count": 95,
   "id": "contrary-department",
   "metadata": {},
   "outputs": [],
   "source": [
    "y_train_pred_final.Converted, y_train_pred_final.final_predicted\n",
    "p, r, thresholds = precision_recall_curve(y_train_pred_final.Converted, y_train_pred_final.Convert_Prob)"
   ]
  },
  {
   "cell_type": "code",
   "execution_count": 96,
   "id": "suited-elevation",
   "metadata": {
    "scrolled": true
   },
   "outputs": [
    {
     "data": {
      "image/png": "[encoded data removed]",
      "text/plain": [
       "<Figure size 432x288 with 1 Axes>"
      ]
     },
     "metadata": {
      "needs_background": "light"
     },
     "output_type": "display_data"
    }
   ],
   "source": [
    "plt.plot(thresholds, p[:-1], \"g-\")\n",
    "plt.plot(thresholds, r[:-1], \"r-\")\n",
    "plt.show()"
   ]
  },
  {
   "cell_type": "markdown",
   "id": "incorporated-ethics",
   "metadata": {},
   "source": [
    "---"
   ]
  },
  {
   "cell_type": "markdown",
   "id": "departmental-secret",
   "metadata": {},
   "source": [
    "## Predictions on Test data"
   ]
  },
  {
   "cell_type": "markdown",
   "id": "wrapped-newman",
   "metadata": {},
   "source": [
    "### Scaling test data numerical columns"
   ]
  },
  {
   "cell_type": "code",
   "execution_count": 97,
   "id": "after-toddler",
   "metadata": {},
   "outputs": [],
   "source": [
    "X_test[num_vars] = scaler.transform(X_test[num_vars])"
   ]
  },
  {
   "cell_type": "code",
   "execution_count": 98,
   "id": "successful-audience",
   "metadata": {},
   "outputs": [
    {
     "data": {
      "text/plain": [
       "11"
      ]
     },
     "execution_count": 98,
     "metadata": {},
     "output_type": "execute_result"
    }
   ],
   "source": [
    "col = X_train_rfe.columns\n",
    "len(col)"
   ]
  },
  {
   "cell_type": "code",
   "execution_count": 99,
   "id": "numeric-arrow",
   "metadata": {},
   "outputs": [
    {
     "data": {
      "text/plain": [
       "(1755, 11)"
      ]
     },
     "execution_count": 99,
     "metadata": {},
     "output_type": "execute_result"
    }
   ],
   "source": [
    "X_test = X_test[col]\n",
    "X_test.shape"
   ]
  },
  {
   "cell_type": "code",
   "execution_count": 100,
   "id": "reported-cheat",
   "metadata": {},
   "outputs": [
    {
     "data": {
      "text/html": [
       "<div>\n",
       "<style scoped>\n",
       "    .dataframe tbody tr th:only-of-type {\n",
       "        vertical-align: middle;\n",
       "    }\n",
       "\n",
       "    .dataframe tbody tr th {\n",
       "        vertical-align: top;\n",
       "    }\n",
       "\n",
       "    .dataframe thead th {\n",
       "        text-align: right;\n",
       "    }\n",
       "</style>\n",
       "<table border=\"1\" class=\"dataframe\">\n",
       "  <thead>\n",
       "    <tr style=\"text-align: right;\">\n",
       "      <th></th>\n",
       "      <th>const</th>\n",
       "      <th>Do Not Email</th>\n",
       "      <th>Total Time Spent on Website</th>\n",
       "      <th>Lead Origin_Landing Page Submission</th>\n",
       "      <th>Lead Origin_Lead Add Form</th>\n",
       "      <th>Last Activity_Email Opened</th>\n",
       "      <th>Last Activity_SMS Sent</th>\n",
       "      <th>Last Activity_Unsubscribed</th>\n",
       "      <th>What is your current occupation_Working Professional</th>\n",
       "      <th>Last Notable Activity_Had a Phone Conversation</th>\n",
       "      <th>Last Notable Activity_Modified</th>\n",
       "      <th>Last Notable Activity_Unreachable</th>\n",
       "    </tr>\n",
       "  </thead>\n",
       "  <tbody>\n",
       "    <tr>\n",
       "      <th>1788</th>\n",
       "      <td>1.0</td>\n",
       "      <td>0</td>\n",
       "      <td>-1.053572</td>\n",
       "      <td>1</td>\n",
       "      <td>0</td>\n",
       "      <td>1</td>\n",
       "      <td>0</td>\n",
       "      <td>0</td>\n",
       "      <td>0</td>\n",
       "      <td>0</td>\n",
       "      <td>0</td>\n",
       "      <td>0</td>\n",
       "    </tr>\n",
       "    <tr>\n",
       "      <th>2851</th>\n",
       "      <td>1.0</td>\n",
       "      <td>0</td>\n",
       "      <td>-0.524467</td>\n",
       "      <td>1</td>\n",
       "      <td>0</td>\n",
       "      <td>0</td>\n",
       "      <td>1</td>\n",
       "      <td>0</td>\n",
       "      <td>0</td>\n",
       "      <td>0</td>\n",
       "      <td>0</td>\n",
       "      <td>0</td>\n",
       "    </tr>\n",
       "    <tr>\n",
       "      <th>1841</th>\n",
       "      <td>1.0</td>\n",
       "      <td>1</td>\n",
       "      <td>-1.055384</td>\n",
       "      <td>1</td>\n",
       "      <td>0</td>\n",
       "      <td>1</td>\n",
       "      <td>0</td>\n",
       "      <td>0</td>\n",
       "      <td>0</td>\n",
       "      <td>0</td>\n",
       "      <td>0</td>\n",
       "      <td>0</td>\n",
       "    </tr>\n",
       "    <tr>\n",
       "      <th>4700</th>\n",
       "      <td>1.0</td>\n",
       "      <td>0</td>\n",
       "      <td>-0.991964</td>\n",
       "      <td>1</td>\n",
       "      <td>0</td>\n",
       "      <td>0</td>\n",
       "      <td>1</td>\n",
       "      <td>0</td>\n",
       "      <td>0</td>\n",
       "      <td>0</td>\n",
       "      <td>0</td>\n",
       "      <td>0</td>\n",
       "    </tr>\n",
       "    <tr>\n",
       "      <th>1224</th>\n",
       "      <td>1.0</td>\n",
       "      <td>0</td>\n",
       "      <td>-0.941228</td>\n",
       "      <td>1</td>\n",
       "      <td>0</td>\n",
       "      <td>0</td>\n",
       "      <td>0</td>\n",
       "      <td>0</td>\n",
       "      <td>0</td>\n",
       "      <td>0</td>\n",
       "      <td>1</td>\n",
       "      <td>0</td>\n",
       "    </tr>\n",
       "  </tbody>\n",
       "</table>\n",
       "</div>"
      ],
      "text/plain": [
       "      const  Do Not Email  Total Time Spent on Website  \\\n",
       "1788    1.0             0                    -1.053572   \n",
       "2851    1.0             0                    -0.524467   \n",
       "1841    1.0             1                    -1.055384   \n",
       "4700    1.0             0                    -0.991964   \n",
       "1224    1.0             0                    -0.941228   \n",
       "\n",
       "      Lead Origin_Landing Page Submission  Lead Origin_Lead Add Form  \\\n",
       "1788                                    1                          0   \n",
       "2851                                    1                          0   \n",
       "1841                                    1                          0   \n",
       "4700                                    1                          0   \n",
       "1224                                    1                          0   \n",
       "\n",
       "      Last Activity_Email Opened  Last Activity_SMS Sent  \\\n",
       "1788                           1                       0   \n",
       "2851                           0                       1   \n",
       "1841                           1                       0   \n",
       "4700                           0                       1   \n",
       "1224                           0                       0   \n",
       "\n",
       "      Last Activity_Unsubscribed  \\\n",
       "1788                           0   \n",
       "2851                           0   \n",
       "1841                           0   \n",
       "4700                           0   \n",
       "1224                           0   \n",
       "\n",
       "      What is your current occupation_Working Professional  \\\n",
       "1788                                                  0      \n",
       "2851                                                  0      \n",
       "1841                                                  0      \n",
       "4700                                                  0      \n",
       "1224                                                  0      \n",
       "\n",
       "      Last Notable Activity_Had a Phone Conversation  \\\n",
       "1788                                               0   \n",
       "2851                                               0   \n",
       "1841                                               0   \n",
       "4700                                               0   \n",
       "1224                                               0   \n",
       "\n",
       "      Last Notable Activity_Modified  Last Notable Activity_Unreachable  \n",
       "1788                               0                                  0  \n",
       "2851                               0                                  0  \n",
       "1841                               0                                  0  \n",
       "4700                               0                                  0  \n",
       "1224                               1                                  0  "
      ]
     },
     "execution_count": 100,
     "metadata": {},
     "output_type": "execute_result"
    }
   ],
   "source": [
    "# Add a constant to X_test\n",
    "\n",
    "X_test_sm = sm.add_constant(X_test)\n",
    "\n",
    "# Check X_test_sm\n",
    "\n",
    "X_test_sm.head()"
   ]
  },
  {
   "cell_type": "markdown",
   "id": "novel-vacuum",
   "metadata": {},
   "source": [
    "### Predictions on Test set"
   ]
  },
  {
   "cell_type": "code",
   "execution_count": 101,
   "id": "executed-lobby",
   "metadata": {},
   "outputs": [
    {
     "data": {
      "text/plain": [
       "1788    0.125627\n",
       "2851    0.404866\n",
       "1841    0.027183\n",
       "4700    0.296807\n",
       "1224    0.052753\n",
       "1996    0.139441\n",
       "5423    0.924455\n",
       "2858    0.103910\n",
       "2236    0.444165\n",
       "5106    0.623985\n",
       "dtype: float64"
      ]
     },
     "execution_count": 101,
     "metadata": {},
     "output_type": "execute_result"
    }
   ],
   "source": [
    "y_test_pred = res.predict(X_test_sm)\n",
    "y_test_pred[:10]"
   ]
  },
  {
   "cell_type": "code",
   "execution_count": 102,
   "id": "unlimited-israel",
   "metadata": {},
   "outputs": [
    {
     "data": {
      "text/html": [
       "<div>\n",
       "<style scoped>\n",
       "    .dataframe tbody tr th:only-of-type {\n",
       "        vertical-align: middle;\n",
       "    }\n",
       "\n",
       "    .dataframe tbody tr th {\n",
       "        vertical-align: top;\n",
       "    }\n",
       "\n",
       "    .dataframe thead th {\n",
       "        text-align: right;\n",
       "    }\n",
       "</style>\n",
       "<table border=\"1\" class=\"dataframe\">\n",
       "  <thead>\n",
       "    <tr style=\"text-align: right;\">\n",
       "      <th></th>\n",
       "      <th>convert_prob</th>\n",
       "    </tr>\n",
       "  </thead>\n",
       "  <tbody>\n",
       "    <tr>\n",
       "      <th>1788</th>\n",
       "      <td>0.125627</td>\n",
       "    </tr>\n",
       "    <tr>\n",
       "      <th>2851</th>\n",
       "      <td>0.404866</td>\n",
       "    </tr>\n",
       "    <tr>\n",
       "      <th>1841</th>\n",
       "      <td>0.027183</td>\n",
       "    </tr>\n",
       "    <tr>\n",
       "      <th>4700</th>\n",
       "      <td>0.296807</td>\n",
       "    </tr>\n",
       "    <tr>\n",
       "      <th>1224</th>\n",
       "      <td>0.052753</td>\n",
       "    </tr>\n",
       "  </tbody>\n",
       "</table>\n",
       "</div>"
      ],
      "text/plain": [
       "      convert_prob\n",
       "1788      0.125627\n",
       "2851      0.404866\n",
       "1841      0.027183\n",
       "4700      0.296807\n",
       "1224      0.052753"
      ]
     },
     "execution_count": 102,
     "metadata": {},
     "output_type": "execute_result"
    }
   ],
   "source": [
    "# Converting y_pred to a dataframe\n",
    "\n",
    "y_pred_1 = pd.DataFrame({'convert_prob':y_test_pred})\n",
    "y_pred_1.head()"
   ]
  },
  {
   "cell_type": "code",
   "execution_count": 103,
   "id": "conceptual-debate",
   "metadata": {},
   "outputs": [],
   "source": [
    "# Converting y_test actual to dataframe\n",
    "\n",
    "y_test_df = pd.DataFrame({'Lead_id':y_test.index, 'converted':y_test})"
   ]
  },
  {
   "cell_type": "code",
   "execution_count": 104,
   "id": "graduate-prison",
   "metadata": {},
   "outputs": [
    {
     "data": {
      "text/html": [
       "<div>\n",
       "<style scoped>\n",
       "    .dataframe tbody tr th:only-of-type {\n",
       "        vertical-align: middle;\n",
       "    }\n",
       "\n",
       "    .dataframe tbody tr th {\n",
       "        vertical-align: top;\n",
       "    }\n",
       "\n",
       "    .dataframe thead th {\n",
       "        text-align: right;\n",
       "    }\n",
       "</style>\n",
       "<table border=\"1\" class=\"dataframe\">\n",
       "  <thead>\n",
       "    <tr style=\"text-align: right;\">\n",
       "      <th></th>\n",
       "      <th>Lead_id</th>\n",
       "      <th>converted</th>\n",
       "      <th>convert_prob</th>\n",
       "    </tr>\n",
       "  </thead>\n",
       "  <tbody>\n",
       "    <tr>\n",
       "      <th>0</th>\n",
       "      <td>1788</td>\n",
       "      <td>0</td>\n",
       "      <td>0.125627</td>\n",
       "    </tr>\n",
       "    <tr>\n",
       "      <th>1</th>\n",
       "      <td>2851</td>\n",
       "      <td>1</td>\n",
       "      <td>0.404866</td>\n",
       "    </tr>\n",
       "    <tr>\n",
       "      <th>2</th>\n",
       "      <td>1841</td>\n",
       "      <td>0</td>\n",
       "      <td>0.027183</td>\n",
       "    </tr>\n",
       "    <tr>\n",
       "      <th>3</th>\n",
       "      <td>4700</td>\n",
       "      <td>0</td>\n",
       "      <td>0.296807</td>\n",
       "    </tr>\n",
       "    <tr>\n",
       "      <th>4</th>\n",
       "      <td>1224</td>\n",
       "      <td>0</td>\n",
       "      <td>0.052753</td>\n",
       "    </tr>\n",
       "  </tbody>\n",
       "</table>\n",
       "</div>"
      ],
      "text/plain": [
       "   Lead_id  converted  convert_prob\n",
       "0     1788          0      0.125627\n",
       "1     2851          1      0.404866\n",
       "2     1841          0      0.027183\n",
       "3     4700          0      0.296807\n",
       "4     1224          0      0.052753"
      ]
     },
     "execution_count": 104,
     "metadata": {},
     "output_type": "execute_result"
    }
   ],
   "source": [
    "# Remove index for both dataframes to append them side by side \n",
    "y_pred_1.reset_index(drop=True, inplace=True)\n",
    "y_test_df.reset_index(drop=True, inplace=True)\n",
    "\n",
    "# Append y_test_df and y_pred_1\n",
    "y_pred_final = pd.concat([y_test_df, y_pred_1],axis=1)\n",
    "\n",
    "# Check 'y_pred_final'\n",
    "y_pred_final.head()"
   ]
  },
  {
   "cell_type": "code",
   "execution_count": 105,
   "id": "prescribed-legislature",
   "metadata": {},
   "outputs": [],
   "source": [
    "# Make predictions on the test set using 0.45 as the cutoff\n",
    "\n",
    "y_pred_final['final_predicted'] = y_pred_final.convert_prob.map(lambda x: 1 if x >= 0.4 else 0)"
   ]
  },
  {
   "cell_type": "code",
   "execution_count": 106,
   "id": "accepting-alfred",
   "metadata": {},
   "outputs": [
    {
     "data": {
      "text/html": [
       "<div>\n",
       "<style scoped>\n",
       "    .dataframe tbody tr th:only-of-type {\n",
       "        vertical-align: middle;\n",
       "    }\n",
       "\n",
       "    .dataframe tbody tr th {\n",
       "        vertical-align: top;\n",
       "    }\n",
       "\n",
       "    .dataframe thead th {\n",
       "        text-align: right;\n",
       "    }\n",
       "</style>\n",
       "<table border=\"1\" class=\"dataframe\">\n",
       "  <thead>\n",
       "    <tr style=\"text-align: right;\">\n",
       "      <th></th>\n",
       "      <th>Lead_id</th>\n",
       "      <th>converted</th>\n",
       "      <th>convert_prob</th>\n",
       "      <th>final_predicted</th>\n",
       "    </tr>\n",
       "  </thead>\n",
       "  <tbody>\n",
       "    <tr>\n",
       "      <th>0</th>\n",
       "      <td>1788</td>\n",
       "      <td>0</td>\n",
       "      <td>0.125627</td>\n",
       "      <td>0</td>\n",
       "    </tr>\n",
       "    <tr>\n",
       "      <th>1</th>\n",
       "      <td>2851</td>\n",
       "      <td>1</td>\n",
       "      <td>0.404866</td>\n",
       "      <td>1</td>\n",
       "    </tr>\n",
       "    <tr>\n",
       "      <th>2</th>\n",
       "      <td>1841</td>\n",
       "      <td>0</td>\n",
       "      <td>0.027183</td>\n",
       "      <td>0</td>\n",
       "    </tr>\n",
       "    <tr>\n",
       "      <th>3</th>\n",
       "      <td>4700</td>\n",
       "      <td>0</td>\n",
       "      <td>0.296807</td>\n",
       "      <td>0</td>\n",
       "    </tr>\n",
       "    <tr>\n",
       "      <th>4</th>\n",
       "      <td>1224</td>\n",
       "      <td>0</td>\n",
       "      <td>0.052753</td>\n",
       "      <td>0</td>\n",
       "    </tr>\n",
       "  </tbody>\n",
       "</table>\n",
       "</div>"
      ],
      "text/plain": [
       "   Lead_id  converted  convert_prob  final_predicted\n",
       "0     1788          0      0.125627                0\n",
       "1     2851          1      0.404866                1\n",
       "2     1841          0      0.027183                0\n",
       "3     4700          0      0.296807                0\n",
       "4     1224          0      0.052753                0"
      ]
     },
     "execution_count": 106,
     "metadata": {},
     "output_type": "execute_result"
    }
   ],
   "source": [
    "# Check y_pred_final\n",
    "\n",
    "y_pred_final.head()"
   ]
  },
  {
   "cell_type": "code",
   "execution_count": 107,
   "id": "sound-hayes",
   "metadata": {},
   "outputs": [
    {
     "data": {
      "text/plain": [
       "0.7982905982905983"
      ]
     },
     "execution_count": 107,
     "metadata": {},
     "output_type": "execute_result"
    }
   ],
   "source": [
    "# Let's check the overall accuracy\n",
    "\n",
    "metrics.accuracy_score(y_pred_final['converted'], y_pred_final.final_predicted)"
   ]
  },
  {
   "cell_type": "code",
   "execution_count": 108,
   "id": "compact-morning",
   "metadata": {},
   "outputs": [
    {
     "data": {
      "text/plain": [
       "array([[781, 204],\n",
       "       [150, 620]], dtype=int64)"
      ]
     },
     "execution_count": 108,
     "metadata": {},
     "output_type": "execute_result"
    }
   ],
   "source": [
    "confusion_test = metrics.confusion_matrix(y_pred_final['converted'], y_pred_final.final_predicted )\n",
    "confusion_test"
   ]
  },
  {
   "cell_type": "code",
   "execution_count": 109,
   "id": "fuzzy-trust",
   "metadata": {},
   "outputs": [],
   "source": [
    "TP = confusion_test[1,1] # true positive \n",
    "TN = confusion_test[0,0] # true negatives\n",
    "FP = confusion_test[0,1] # false positives\n",
    "FN = confusion_test[1,0] # false negatives"
   ]
  },
  {
   "cell_type": "code",
   "execution_count": 110,
   "id": "associate-laundry",
   "metadata": {},
   "outputs": [
    {
     "data": {
      "text/plain": [
       "0.8051948051948052"
      ]
     },
     "execution_count": 110,
     "metadata": {},
     "output_type": "execute_result"
    }
   ],
   "source": [
    "# Calculate sensitivity\n",
    "TP / float(TP+FN)"
   ]
  },
  {
   "cell_type": "code",
   "execution_count": 111,
   "id": "flush-camcorder",
   "metadata": {},
   "outputs": [
    {
     "data": {
      "text/plain": [
       "0.7928934010152284"
      ]
     },
     "execution_count": 111,
     "metadata": {},
     "output_type": "execute_result"
    }
   ],
   "source": [
    "# Calculate specificity\n",
    "TN / float(TN+FP)"
   ]
  },
  {
   "cell_type": "code",
   "execution_count": 112,
   "id": "suspected-subscriber",
   "metadata": {},
   "outputs": [
    {
     "name": "stdout",
     "output_type": "stream",
     "text": [
      "              precision    recall  f1-score   support\n",
      "\n",
      "           0       0.84      0.79      0.82       985\n",
      "           1       0.75      0.81      0.78       770\n",
      "\n",
      "    accuracy                           0.80      1755\n",
      "   macro avg       0.80      0.80      0.80      1755\n",
      "weighted avg       0.80      0.80      0.80      1755\n",
      "\n"
     ]
    }
   ],
   "source": [
    "print(classification_report(y_pred_final['converted'], y_pred_final.final_predicted))"
   ]
  },
  {
   "cell_type": "markdown",
   "id": "placed-league",
   "metadata": {},
   "source": [
    "**Observation**:\n",
    "\n",
    "After running the model on the Test Data these are the figures we obtain:\n",
    "\n",
    "- **Accuracy** : 80%\n",
    "- **Sensitivity** : 80.52%\n",
    "- **Specificity** : 72.29%"
   ]
  },
  {
   "cell_type": "markdown",
   "id": "czech-vessel",
   "metadata": {},
   "source": [
    "## **Final Observation**\n",
    "\n",
    "Let us compare the values obtained for Train & Test:\n",
    "\n",
    "**Train Data**:<br>\n",
    "- **Accuracy** : 80%\n",
    "- **Sensitivity** : 80%\n",
    "- **Specificity** : 80%\n",
    "\n",
    "**Test Data**:<br>\n",
    "- **Accuracy** : 80%\n",
    "- **Sensitivity** : 80.52%\n",
    "- **Specificity** : 72.29%\n",
    "\n",
    "The following are variables in descending order of importance which influence our business problem and model:<br>\n",
    "    \n",
    "           1. Last Notable Activity             - Had a Phone Conversation\n",
    "           2. Lead Origin                       - Lead Add Form\n",
    "           3. What is your current occupation   - Working Professional\n",
    "           4. Last Activity                     - Unsubscribed\n",
    "           5. Last Notable Activity             - Unreachable\t\n",
    "           6. Do Not Email\t\n",
    "           7. Lead Origin                       - Landing Page Submission\t\n",
    "           8. Last Activity                     - SMS Sent\t\n",
    "           9. Total Time Spent on Website\t\n",
    "           10. Last Notable Activity            - Modified\t\n",
    "           11. Last Activity                    - Email Opened"
   ]
  },
  {
   "attachments": {
    "image-2.png": {
     "image/png": "[encoded data removed]"
    },
    "image-3.png": {
     "image/png": "[encoded data removed]"
    },
    "image.png": {
     "image/png": "[encoded data removed]"
    }
   },
   "cell_type": "markdown",
   "id": "bound-optimum",
   "metadata": {},
   "source": [
    "## Model Explanation\n",
    "Logistic regression uses a sigmoid function to predict the output. The sigmoid function returns a value from 0 to 1. Generally, we take a threshold such as 0.5. If the sigmoid function returns a value greater than or equal to 0.5, we take it as 1, and if the sigmoid function returns a value less than 0.5, we take it as 0.\n",
    "![image.png](attachment:image.png)\n",
    "\n",
    "z is the input features multiplied by a randomly initialized value denoted as theta.\n",
    "![image-2.png](attachment:image-2.png)\n",
    "\n",
    "Here, X is the input feature. In most cases, there are several input features. So, this formula becomes big:\n",
    "![image-3.png](attachment:image-3.png)\n",
    "\n",
    "In our case, the variables from the final model will take place instead of X1, X2, X3, ..., X11 with their respective co-efficients."
   ]
  }
 ],
 "metadata": {
  "kernelspec": {
   "display_name": "Python 3",
   "language": "python",
   "name": "python3"
  },
  "language_info": {
   "codemirror_mode": {
    "name": "ipython",
    "version": 3
   },
   "file_extension": ".py",
   "mimetype": "text/x-python",
   "name": "python",
   "nbconvert_exporter": "python",
   "pygments_lexer": "ipython3",
   "version": "3.8.5"
  }
 },
 "nbformat": 4,
 "nbformat_minor": 5
}
